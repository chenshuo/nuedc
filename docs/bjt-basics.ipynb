{
 "cells": [
  {
   "cell_type": "markdown",
   "id": "a3dd9d18-de24-4645-bb30-812ddd4ea6fc",
   "metadata": {},
   "source": [
    "# BJT 三极管基础知识复习"
   ]
  },
  {
   "cell_type": "code",
   "execution_count": 38,
   "id": "3ae4a5fd-9afb-430d-8aa8-8d19cb5798ed",
   "metadata": {
    "editable": true,
    "slideshow": {
     "slide_type": ""
    },
    "tags": [
     "hide_cell"
    ]
   },
   "outputs": [
    {
     "name": "stdout",
     "output_type": "stream",
     "text": [
      "The tikzmagic extension is already loaded. To reload it, use:\n",
      "  %reload_ext tikzmagic\n"
     ]
    }
   ],
   "source": [
    "%matplotlib inline\n",
    "%load_ext tikzmagic\n",
    "\n",
    "from math import exp, log, log10\n",
    "import numpy as np\n",
    "from matplotlib import pyplot as plt\n",
    "import ngspyce as ng\n",
    "\n",
    "# kΩ μA\n",
    "\n",
    "def para(r1, r2):\n",
    "  return (r1*r2) / (r1 + r2)"
   ]
  },
  {
   "cell_type": "code",
   "execution_count": 2,
   "id": "974775af-1a93-4aa8-8065-819c7f6a5487",
   "metadata": {
    "editable": true,
    "slideshow": {
     "slide_type": ""
    },
    "tags": [
     "hide_cell"
    ]
   },
   "outputs": [],
   "source": [
    "def print_op(show_ib=True, show_ie=False):\n",
    "  op = ng.operating_point()\n",
    "  for k in sorted(op.keys()):\n",
    "    if '[i' in k or '#branch' in k:\n",
    "        if '[is]' in k:\n",
    "            continue\n",
    "        if '[ie]' in k and not show_ie:\n",
    "            continue\n",
    "        if '[ib]' in k and not show_ib:\n",
    "            continue\n",
    "        current = op[k][0]\n",
    "        k = k.replace('q.x.', '')\n",
    "        k = k.replace('r.x.', '')\n",
    "        if abs(current) > 1e-3:\n",
    "            print('%10s = %8.3f mA' % (k, 1e3*current))\n",
    "        else:\n",
    "            print('%10s = %8.3f uA' % (k, 1e6*current))\n",
    "    elif '[g' in k:\n",
    "        gm = op[k][0]\n",
    "        if gm > 10e-3:\n",
    "            print('%10s = %8.3f mS' % (k, 1e3 * gm))\n",
    "        else:\n",
    "            print('%10s = %8.3f uS' % (k, 1e6 * gm))\n",
    "    else:  # Voltage\n",
    "        voltage = op[k][0]\n",
    "        k = k.replace('x.', '')\n",
    "        if abs(voltage) > 10e-3:\n",
    "            print('%10s = %8.4f V' % (k, voltage))\n",
    "        else:\n",
    "            print('%10s = %8.1f uV' % (k, 1e6*voltage))"
   ]
  },
  {
   "cell_type": "markdown",
   "id": "dca3040a-aa23-4eef-8f38-f0745a271229",
   "metadata": {
    "editable": true,
    "slideshow": {
     "slide_type": ""
    },
    "tags": []
   },
   "source": [
    "## 基本模型\n",
    "$\\newcommand{\\li}[1]{{i_\\mathrm{#1}}}$\n",
    "$\\newcommand{\\ui}[1]{{I_\\mathrm{#1}}}$\n",
    "$\\newcommand{\\lv}[1]{{v_\\mathrm{#1}}}$\n",
    "$\\newcommand{\\uv}[1]{{V_\\mathrm{#1}}}$\n",
    "$\\newcommand{\\sm}[2]{{{#1}_\\mathrm{#2}}}$\n",
    "\n",
    "模拟电路对数学要求不高，只在推导时用一点点微积分知识（[链式求导法则](https://zh.wikipedia.org/wiki/%E9%93%BE%E5%BC%8F%E6%B3%95%E5%88%99) / [Chain rule](https://en.wikipedia.org/wiki/Chain_rule)），在确定小信号条件时用到了[泰勒展开](https://zh.wikipedia.org/wiki/%E6%B3%B0%E5%8B%92%E7%BA%A7%E6%95%B0)。\n",
    "\n",
    "以下是 SPICE 采用的物理常数，注意 SPICE 用的 $k$ / $q$ 常数是旧值。"
   ]
  },
  {
   "cell_type": "code",
   "execution_count": 6,
   "id": "af321fe7-9ea6-4ddf-ae63-935f76852af5",
   "metadata": {
    "editable": true,
    "slideshow": {
     "slide_type": ""
    },
    "tags": []
   },
   "outputs": [
    {
     "data": {
      "text/plain": [
       "{'planck': array([6.62607004e-34]),\n",
       " 'boltz': array([1.38064852e-23]),\n",
       " 'echarge': array([1.60217662e-19]),\n",
       " 'kelvin': array([-273.15]),\n",
       " 'i': array([0.+1.j]),\n",
       " 'c': array([2.99792458e+08]),\n",
       " 'e': array([2.71828183]),\n",
       " 'pi': array([3.14159265]),\n",
       " 'FALSE': array([0.]),\n",
       " 'no': array([0.]),\n",
       " 'TRUE': array([1.]),\n",
       " 'yes': array([1.])}"
      ]
     },
     "execution_count": 6,
     "metadata": {},
     "output_type": "execute_result"
    }
   ],
   "source": [
    "ng.vectors()"
   ]
  },
  {
   "cell_type": "code",
   "execution_count": 3,
   "id": "84cac87a-76e4-4e45-8e81-620f0793ba85",
   "metadata": {
    "editable": true,
    "slideshow": {
     "slide_type": ""
    },
    "tags": []
   },
   "outputs": [
    {
     "name": "stdout",
     "output_type": "stream",
     "text": [
      "0.02586491702007235\n"
     ]
    }
   ],
   "source": [
    "boltz = 1.38064852e-23\n",
    "echarge = 1.60217662e-19\n",
    "kelvin = 273.15\n",
    "\n",
    "room_temperature = 27\n",
    "Vt = boltz * (room_temperature + kelvin) / echarge\n",
    "print(Vt)"
   ]
  },
  {
   "cell_type": "markdown",
   "id": "6b040621-b785-48a9-a98b-3b03faa4e418",
   "metadata": {
    "editable": true,
    "slideshow": {
     "slide_type": ""
    },
    "tags": []
   },
   "source": [
    "[2019 年重新定义 SI 基本单位](https://en.wikipedia.org/wiki/2019_redefinition_of_the_SI_base_units)之后，\n",
    "\n",
    "* 新的 [Boltzmann常数](https://en.wikipedia.org/wiki/Boltzmann_constant)是精确值 $1.380\\,649\\times 10^{-23}$ J/K.\n",
    "* 新的[基本电荷](https://en.wikipedia.org/wiki/Elementary_charge)也是精确值 $ 1.602\\,176\\,634\\times 10 ^{-19}$ C."
   ]
  },
  {
   "cell_type": "markdown",
   "id": "b66648a6-b2cd-4ad7-aeee-64e12860e092",
   "metadata": {
    "editable": true,
    "slideshow": {
     "slide_type": ""
    },
    "tags": []
   },
   "source": [
    "### Ebers-Moll 大型号模型"
   ]
  },
  {
   "cell_type": "code",
   "execution_count": 4,
   "id": "743e3d62-8c4e-4fc8-90e8-729926687997",
   "metadata": {
    "editable": true,
    "slideshow": {
     "slide_type": ""
    },
    "tags": [
     "hide_code"
    ]
   },
   "outputs": [
    {
     "data": {
      "image/png": "[encoded data removed]"
     },
     "metadata": {},
     "output_type": "display_data"
    }
   ],
   "source": [
    "%%tikz -ct\n",
    "\\ctikzset{european voltages, american currents, european resistors}\n",
    "\\ctikzset{transistors/arrow pos=end, transistors/fill=cyan!20}\n",
    "\\ctikzset{diodes/fill=cyan!20, csources/fill=cyan!20}\n",
    "\n",
    "\\newcommand{\\li}[1]{\\ensuremath{i_\\mathrm{#1}}}\n",
    "\\newcommand{\\ui}[1]{\\ensuremath{I_\\mathrm{#1}}}\n",
    "\\newcommand{\\lv}[1]{\\ensuremath{v_\\mathrm{#1}}}\n",
    "\\newcommand{\\uv}[1]{\\ensuremath{V_\\mathrm{#1}}}\n",
    "\n",
    "\\draw [dashed] (0, 0) node [npn] (Q) {}; \n",
    "\\draw (Q.B) to [D, bipoles/length=1cm] ++(0, -1.5) coordinate (E);\n",
    "\\draw (Q.B) to [short, -o] ++(-1, 0) node [left] {B};\n",
    "\\draw [dashed] (Q.E) to [short] (Q.E |- E); \n",
    "\\draw (Q.E |- E) to [short, *-o] ++(0, -0.5) node [below] {E};\n",
    "\\draw (Q) ++(0.7, 0) coordinate (C) \n",
    "  to [american controlled current source, l={$\\li{C}=\\ui{S}\\exp\\displaystyle\\frac{\\lv{BE}}{\\uv{T}}$}, bipoles/length=1cm] (C|-E)\n",
    "  -- (E);\n",
    "\\draw (C) to [short, -o] ++(1, 0) node [right] {C};\n",
    "\\draw [dashed] (Q.C) -| (C);\n",
    "\\draw (Q.B)++(-0.1,0) to [open, f_={$\\li{B}=\\displaystyle\\frac{\\li{C}}{\\beta}$}] ++(0, -1);"
   ]
  },
  {
   "cell_type": "code",
   "execution_count": 49,
   "id": "43f7c9c4-d281-4cf0-8888-c749a4d4c908",
   "metadata": {
    "editable": true,
    "slideshow": {
     "slide_type": ""
    },
    "tags": []
   },
   "outputs": [
    {
     "name": "stdout",
     "output_type": "stream",
     "text": [
      "Ic 0.0005670346694806257\n",
      "gm 0.02192292629590039\n"
     ]
    }
   ],
   "source": [
    "Is = 1e-15\n",
    "Vbe = 0.7\n",
    "Ic = Is * exp(Vbe / Vt)\n",
    "gm = Ic / Vt\n",
    "print('Ic', Ic)\n",
    "print('gm', gm)"
   ]
  },
  {
   "cell_type": "code",
   "execution_count": 2,
   "id": "0a188fbb-9997-485e-8021-bd8d7080f9f9",
   "metadata": {
    "editable": true,
    "slideshow": {
     "slide_type": ""
    },
    "tags": []
   },
   "outputs": [
    {
     "data": {
      "text/plain": [
       "{'@q[gpi]': array([0.00021923]),\n",
       " '@q[gm]': array([0.02192293]),\n",
       " 'vc#branch': array([-0.00056703]),\n",
       " 'vb#branch': array([-5.67034717e-06]),\n",
       " 'b': array([0.7]),\n",
       " 'c': array([1.])}"
      ]
     },
     "execution_count": 2,
     "metadata": {},
     "output_type": "execute_result"
    }
   ],
   "source": [
    "ng.circ('''\n",
    "  Q  c b 0 NPN\n",
    "  Vc c 0 1V\n",
    "  Vb b 0 0.7V\n",
    "  .model NPN NPN(IS=1fA BF=100)\n",
    "  .save all @q[gm] @q[gpi]\n",
    "''')\n",
    "ng.operating_point()\n",
    "# print_op()"
   ]
  },
  {
   "cell_type": "code",
   "execution_count": 23,
   "id": "7aabc9c6-2ae4-4a88-9a36-78a5b7dac087",
   "metadata": {},
   "outputs": [
    {
     "name": "stdout",
     "output_type": "stream",
     "text": [
      "567.03468 uA (SPICE)\n",
      "567.03467 uA (EM)\n"
     ]
    }
   ],
   "source": [
    "Ic2 = -ng.vector('vc#branch')[0]\n",
    "print('%.5f uA (SPICE)' % (Ic2 * 1e6))\n",
    "print('%.5f uA (EM)' % (Ic * 1e6))"
   ]
  },
  {
   "cell_type": "code",
   "execution_count": 20,
   "id": "e9f31170-dd7a-4ea3-9fe8-ed6f9abc2769",
   "metadata": {},
   "outputs": [
    {
     "name": "stdout",
     "output_type": "stream",
     "text": [
      "5.6703472 uA (SPICE)\n",
      "5.6703467 uA (EM)\n"
     ]
    }
   ],
   "source": [
    "Ib = -ng.vector('vb#branch')[0]\n",
    "print('%.7f uA (SPICE)' % (Ib * 1e6))\n",
    "print('%.7f uA (EM)' % (Ic / 100 * 1e6))"
   ]
  },
  {
   "cell_type": "code",
   "execution_count": 36,
   "id": "e4342fdd-cf0d-4346-848f-fa4c82383c19",
   "metadata": {},
   "outputs": [
    {
     "name": "stdout",
     "output_type": "stream",
     "text": [
      "21.92293 mS (SPICE)\n",
      "21.92293 mS (EM)\n"
     ]
    }
   ],
   "source": [
    "gm2 = ng.vector('@q[gm]')[0]\n",
    "print('%.5f mS (SPICE)' % (gm2 * 1e3))\n",
    "print('%.5f mS (EM)' % (gm * 1e3))"
   ]
  },
  {
   "cell_type": "markdown",
   "id": "5ef4ec2c-9edf-473b-a6d2-ad3969e1cee7",
   "metadata": {
    "editable": true,
    "slideshow": {
     "slide_type": ""
    },
    "tags": []
   },
   "source": [
    "#### Curve tracer"
   ]
  },
  {
   "cell_type": "code",
   "execution_count": 6,
   "id": "4cbde773-dfd7-4762-b211-8572da360e59",
   "metadata": {},
   "outputs": [
    {
     "data": {
      "text/plain": [
       "Text(0, 0.5, 'Ic (mA)')"
      ]
     },
     "execution_count": 6,
     "metadata": {},
     "output_type": "execute_result"
    },
    {
     "data": {
      "image/png": "[encoded data removed]",
      "text/plain": [
       "<Figure size 640x480 with 1 Axes>"
      ]
     },
     "metadata": {},
     "output_type": "display_data"
    }
   ],
   "source": [
    "ng.circ(\"\"\"\n",
    "  Vcc c 0 10V\n",
    "  Ib 0 b 10uA\n",
    "  Q1 c b 0 NPN\n",
    "  .model NPN NPN(IS=1fA BF=100)\n",
    "  \"\"\")\n",
    "\n",
    "# manual scan ib\n",
    "for ib in np.linspace(1000, 100, 10):\n",
    "    ng.cmd('alter ib %.1fuA' % ib)\n",
    "    ng.cmd('dc vcc 0 6V 0.01V')\n",
    "    Ic = -ng.vectors()['vcc#branch']\n",
    "    Vc = ng.vectors()['v-sweep']\n",
    "    plt.plot(Vc, Ic * 1e3, label=('Ib=%.1f mA' % (ib/1e3))) #  legend='%.0f uA' % ib)\n",
    "plt.legend(loc='upper right')\n",
    "plt.ylabel('Ic (mA)')"
   ]
  },
  {
   "cell_type": "markdown",
   "id": "24f2bb1c-3c48-44d1-a891-e837104eec9f",
   "metadata": {
    "editable": true,
    "slideshow": {
     "slide_type": ""
    },
    "tags": []
   },
   "source": [
    "### Early effect\n",
    "\n",
    "Affects $\\li{C}$, not $\\li{B}$\n",
    "\n",
    "$\\li{C0}=\\ui{S}\\exp\\dfrac{\\lv{BE}}{\\uv{T}}$\n",
    "\n",
    "$\\li{C}=\\li{C0}\\Big(1+\\dfrac{\\lv{CE}}{\\uv{A}}\\Big)=\\ui{S}\\exp\\dfrac{\\lv{BE}}{\\uv{T}}\\Big(1+\\dfrac{\\lv{CE}}{\\uv{A}}\\Big)$\n",
    "\n",
    "$\\li{B}=\\dfrac{\\li{C0}}{\\beta} = \\dfrac{\\ui{S}}{\\beta}\\exp\\dfrac{\\lv{BE}}{\\uv{T}}$"
   ]
  },
  {
   "cell_type": "code",
   "execution_count": 66,
   "id": "0ce2de75-0131-4985-bd0d-7567fb3f838f",
   "metadata": {
    "editable": true,
    "slideshow": {
     "slide_type": ""
    },
    "tags": [
     "hide_code"
    ]
   },
   "outputs": [
    {
     "data": {
      "image/png": "[encoded data removed]"
     },
     "metadata": {},
     "output_type": "display_data"
    }
   ],
   "source": [
    "%%tikz -ct -p amsmath\n",
    "\\ctikzset{european voltages, american currents, european resistors}\n",
    "\\ctikzset{transistors/arrow pos=end, transistors/fill=cyan!20}\n",
    "\\ctikzset{diodes/fill=cyan!20, csources/fill=cyan!20}\n",
    "\n",
    "\\newcommand{\\li}[1]{\\ensuremath{i_\\mathrm{#1}}}\n",
    "\\newcommand{\\ui}[1]{\\ensuremath{I_\\mathrm{#1}}}\n",
    "\\newcommand{\\lv}[1]{\\ensuremath{v_\\mathrm{#1}}}\n",
    "\\newcommand{\\uv}[1]{\\ensuremath{V_\\mathrm{#1}}}\n",
    "\n",
    "\\draw [dashed] (0, 0) node [npn] (Q) {}; \n",
    "\\draw (Q.B) to [D, bipoles/length=1cm] ++(0, -1.5) coordinate (E);\n",
    "\\draw (Q.B) to [short, -o] ++(-1, 0) node [left] {B};\n",
    "\\draw [dashed] (Q.E) to [short] (Q.E |- E); \n",
    "\\draw (Q.E |- E) to [short, *-o] ++(0, -0.5) node [below] {E};\n",
    "\\draw (Q) ++(0.7, 0) coordinate (C) \n",
    "  to [american controlled current source, l={$\\li{C}=\\li{C0}\\Big(1+\\dfrac{\\lv{CE}}{\\uv{A}}\\Big)$}, bipoles/length=1cm] (C|-E)\n",
    "  node [below right] {$\\li{C0}=\\ui{S}\\exp\\displaystyle\\frac{\\lv{BE}}{\\uv{T}}$}\n",
    "  -- (E);\n",
    "\\draw (C) to [short, -o] ++(1, 0) node [right] {C};\n",
    "\\draw [dashed] (Q.C) -| (C);\n",
    "\\draw (Q.B)++(-0.1,0) to [open, f_={$\\li{B}=\\displaystyle\\frac{\\li{C0}}{\\beta}$}] ++(0, -1);"
   ]
  },
  {
   "cell_type": "code",
   "execution_count": 3,
   "id": "c573ea9f-5f3a-425c-8379-17d3eafc4cf4",
   "metadata": {
    "editable": true,
    "slideshow": {
     "slide_type": ""
    },
    "tags": []
   },
   "outputs": [
    {
     "data": {
      "text/plain": [
       "{'@q[gm]': array([0.02327837]),\n",
       " 'vc#branch': array([-0.00060219]),\n",
       " 'vb#branch': array([-5.67033817e-06]),\n",
       " 'b': array([0.7]),\n",
       " 'c': array([10.])}"
      ]
     },
     "execution_count": 3,
     "metadata": {},
     "output_type": "execute_result"
    }
   ],
   "source": [
    "ng.circ('''\n",
    "  Q  c b 0 NPN\n",
    "  Vc c 0 10V\n",
    "  Vb b 0 0.7V\n",
    "  .model NPN NPN(IS=1fA BF=100 VAF=150)\n",
    "  .save all @q[gm]\n",
    "''')\n",
    "ng.operating_point()\n",
    "# print_op()"
   ]
  },
  {
   "cell_type": "markdown",
   "id": "2d09d17e-74b4-451c-95d4-b5faaa946b4c",
   "metadata": {},
   "source": [
    "But, SPICE uses $\\lv{CB}$, not $\\lv{CE}$."
   ]
  },
  {
   "cell_type": "code",
   "execution_count": 26,
   "id": "66dd2399-bb34-4022-bce4-f118aabf4aaa",
   "metadata": {},
   "outputs": [
    {
     "name": "stdout",
     "output_type": "stream",
     "text": [
      "602.19085 uA (SPICE)\n",
      "602.19082 uA (EM)\n"
     ]
    }
   ],
   "source": [
    "Vcb = 10 - Vbe\n",
    "Vaf = 150\n",
    "Ic3 = Ic * (1 + Vcb / Vaf)\n",
    "\n",
    "Ic2 = -ng.vector('vc#branch')[0]\n",
    "print('%.5f uA (SPICE)' % (Ic2 * 1e6))\n",
    "print('%.5f uA (EM)' % (Ic3 * 1e6))"
   ]
  },
  {
   "cell_type": "code",
   "execution_count": 27,
   "id": "daf6820e-7b36-43f9-be6a-85fa44dcf95d",
   "metadata": {},
   "outputs": [
    {
     "name": "stdout",
     "output_type": "stream",
     "text": [
      "5.6703382 uA (SPICE)\n",
      "5.6703467 uA (EM)\n"
     ]
    }
   ],
   "source": [
    "Ib = -ng.vector('vb#branch')[0]\n",
    "print('%.7f uA (SPICE)' % (Ib * 1e6))\n",
    "print('%.7f uA (EM)' % (Ic / 100 * 1e6))"
   ]
  },
  {
   "cell_type": "code",
   "execution_count": 42,
   "id": "cb077f8c-8437-4361-b56e-9a608146d6bb",
   "metadata": {},
   "outputs": [
    {
     "name": "stdout",
     "output_type": "stream",
     "text": [
      "gm 23.278 mS (SPICE)\n",
      "gm 23.282 mS (EM)\n"
     ]
    }
   ],
   "source": [
    "gm3 = ng.vector('@q[gm]')[0]\n",
    "print('gm %.3f mS (SPICE)' % (gm3 * 1e3))\n",
    "print('gm %.3f mS (EM)' % (1e3 * Ic3 / Vt))"
   ]
  },
  {
   "cell_type": "markdown",
   "id": "764263ab-8fd4-4ebb-845f-db25d145f7c7",
   "metadata": {},
   "source": [
    "#### Curve tracer"
   ]
  },
  {
   "cell_type": "code",
   "execution_count": 8,
   "id": "bd386cd9-7494-4f05-b1b2-cf415ae4b3b1",
   "metadata": {},
   "outputs": [
    {
     "data": {
      "text/plain": [
       "Text(0, 0.5, 'Ic (mA)')"
      ]
     },
     "execution_count": 8,
     "metadata": {},
     "output_type": "execute_result"
    },
    {
     "data": {
      "image/png": "[encoded data removed]",
      "text/plain": [
       "<Figure size 640x480 with 1 Axes>"
      ]
     },
     "metadata": {},
     "output_type": "display_data"
    }
   ],
   "source": [
    "ng.circ(\"\"\"\n",
    "  Vcc c 0 10V\n",
    "  Ib 0 b 10uA\n",
    "  Q1 c b 0 NPN\n",
    "  .model NPN NPN(IS=1fA BF=100 VAF=50)\n",
    "  \"\"\")\n",
    "\n",
    "# manual scan ib\n",
    "for ib in np.linspace(1000, 100, 10):\n",
    "    ng.cmd('alter ib %.1fuA' % ib)\n",
    "    ng.cmd('dc vcc 0 6V 0.01V')\n",
    "    Ic = -ng.vectors()['vcc#branch']\n",
    "    Vc = ng.vectors()['v-sweep']\n",
    "    plt.plot(Vc, Ic * 1e3, label=('Ib=%.1f mA' % (ib/1e3))) #  legend='%.0f uA' % ib)\n",
    "plt.legend(loc='upper right')\n",
    "plt.ylabel('Ic (mA)')"
   ]
  },
  {
   "cell_type": "markdown",
   "id": "06117d83-8fcf-41b4-8929-53301a1b4502",
   "metadata": {
    "editable": true,
    "slideshow": {
     "slide_type": ""
    },
    "tags": []
   },
   "source": [
    "### 低频小信号 hybrid-pi 模型"
   ]
  },
  {
   "cell_type": "code",
   "execution_count": 5,
   "id": "71001add-7908-4725-af43-08e71aa14564",
   "metadata": {
    "editable": true,
    "slideshow": {
     "slide_type": ""
    },
    "tags": [
     "hide_code"
    ]
   },
   "outputs": [
    {
     "data": {
      "image/png": "[encoded data removed]"
     },
     "metadata": {},
     "output_type": "display_data"
    }
   ],
   "source": [
    "%%tikz -ct\n",
    "\\ctikzset{european resistors, american voltages}\n",
    "\\ctikzset{transistors/arrow pos=end, transistors/fill=cyan!20}\n",
    "\\ctikzset{diodes/fill=cyan!20, csources/fill=cyan!20}\n",
    "\\newcommand{\\sm}[2]{\\ensuremath{{#1}_\\mathrm{#2}}}\n",
    "    \n",
    "\\draw (0,0) to [R, l_={$r_\\pi=\\displaystyle\\frac{\\beta}{\\sm{g}{m}}$}, v^>={$v_\\pi$}, bipoles/length=0.8cm] ++(0, -1.5) coordinate (E);\n",
    "\\draw (0,0) to [short, -o] ++(-0.5, 0) node [left] {B};\n",
    "%\\draw [dashed] (Q.E) to [short] (Q.E |- E);\n",
    "\\draw (E) ++(0.7, 0) to [short, *-o] ++(0, -0.5) node [below] {E};\n",
    "\\draw (1.4, 0) coordinate (C)\n",
    "  node [below right=2pt] {$\\sm{g}{m}v_\\pi$}\n",
    "  to [american controlled current source, bipoles/length=1cm] (C|-E) node [circ] {}\n",
    "  node [below right] {$\\sm{g}{m}=\\displaystyle\\frac{\\sm{I}{C}}{\\sm{V}{T}}$};\n",
    "\\draw (C) to [short, i<={\\sm{i}{c}}] ++(1.2, 0) coordinate (D)\n",
    "  to [R, l={$\\sm{r}{o}=\\displaystyle\\frac{\\sm{V}{A}}{\\sm{I}{C}}$}, bipoles/length=0.8cm] (D|-E)-- (E);\n",
    "\\draw (D) to [short, *-o] ++(0.5, 0) node [right] {C};"
   ]
  },
  {
   "cell_type": "markdown",
   "id": "852e6a50-9689-4100-946b-bab0eb1d38b7",
   "metadata": {
    "editable": true,
    "slideshow": {
     "slide_type": ""
    },
    "tags": []
   },
   "source": [
    "跨导 Transconduance $\\sm{g}{m}$\n",
    "\n",
    "如果基极电压改变了 $\\Delta \\lv{BE}$，那么集电极电流将改变 $\\Delta \\li{C}$，跨导 $\\sm{g}{m}$ 表示二者的比值，$\\sm{g}{m}$ 越大，表明相同 $\\Delta \\lv{BE}$ 下 $\\Delta \\li{C}$ 越大，也就是电流的放大能力越大。\n",
    "\n",
    "$\\sm{g}{m}=\\dfrac{\\Delta \\li{C}}{\\Delta \\lv{BE}} = \\dfrac{\\mathrm{d}\\, \\ui{S}\\exp \\dfrac{\\lv{BE}}{\\uv{T}}}{\\mathrm{d}\\, \\lv{BE}} = \\dfrac{1}{\\uv{T}}\\ui{S}\\exp \\dfrac{\\uv{BEQ}}{\\uv{T}} = \\dfrac{\\ui{CQ}}{\\uv{T}}$\n",
    "\n",
    "$\\sm{g}{m} \\propto \\ui{CQ}$，$\\sm{g}{m} \\propto \\dfrac{1}{T}$，\n",
    "可见对于 BJT 来说，$\\sm{g}{m}$ 只跟 $\\ui{CQ}$ 和温度 $T$ 有关。\n",
    "温度越高 $\\sm{g}{m}$ 越小，为了维持 $\\sm{g}{m}$ 稳定，有时需要设法让 $\\ui{CQ} \\propto T$ 。"
   ]
  },
  {
   "cell_type": "code",
   "execution_count": 4,
   "id": "0e58d268-bc74-4ad2-aede-28a46c68593e",
   "metadata": {
    "editable": true,
    "slideshow": {
     "slide_type": ""
    },
    "tags": []
   },
   "outputs": [
    {
     "data": {
      "text/plain": [
       "{'@q[ic]': array([0.0006]),\n",
       " '@q[gm]': array([0.02319366]),\n",
       " 'vb#branch': array([-5.67033875e-06]),\n",
       " 'b': array([0.7]),\n",
       " 'c': array([9.42044675])}"
      ]
     },
     "execution_count": 4,
     "metadata": {},
     "output_type": "execute_result"
    }
   ],
   "source": [
    "ng.circ('''\n",
    "  Q  c b 0 NPN\n",
    "  Ic 0 c 600u\n",
    "  Vb b 0 0.7V\n",
    "  .model NPN NPN(IS=1fA BF=100 VAF=150)\n",
    "  .save all @q[gm] @q[ic]\n",
    "''')\n",
    "ng.operating_point()\n",
    "# print_op()"
   ]
  },
  {
   "cell_type": "code",
   "execution_count": 14,
   "id": "1f3ba771-bc9f-4bda-aff9-df4928ac091b",
   "metadata": {
    "editable": true,
    "slideshow": {
     "slide_type": ""
    },
    "tags": []
   },
   "outputs": [
    {
     "name": "stdout",
     "output_type": "stream",
     "text": [
      "gm 23.1937 mS (SPICE)\n",
      "gm 23.1974 mS (EM)\n",
      "Delta gm 3.7809210074110644e-06\n"
     ]
    }
   ],
   "source": [
    "Is = 1e-15\n",
    "Vbe = 0.7\n",
    "Ic = 0.6e-3\n",
    "gm = Ic / Vt\n",
    "gm2 = ng.vector('@q[gm]')[0]\n",
    "print('gm %.4f mS (SPICE)' % (gm2 * 1e3))\n",
    "print('gm %.4f mS (EM)' % (gm * 1e3))\n",
    "print('Delta gm', gm - gm2)"
   ]
  },
  {
   "cell_type": "markdown",
   "id": "63bfb469-5bdb-4f2f-b734-a651fbb1569c",
   "metadata": {
    "editable": true,
    "slideshow": {
     "slide_type": ""
    },
    "tags": []
   },
   "source": [
    "输入阻抗 Input impedance\n",
    "\n",
    "如果基极电压改变了 $\\Delta \\lv{BE}$ 那么基极电流改变 $\\Delta \\li{B}$\n",
    "\n",
    "$r_\\pi = \\dfrac{\\Delta \\lv{BE}}{\\Delta \\li{B}}= \\dfrac{\\uv{T}}{\\ui{B}}$\n",
    "\n",
    "$r_\\pi = \\dfrac{\\beta\\, \\uv{T}}{\\ui{C0}}$\n",
    "\n",
    "$r_\\pi = \\dfrac{\\beta}{\\sm{g}{m}}$ when ignoring Early effects.\n"
   ]
  },
  {
   "cell_type": "code",
   "execution_count": 53,
   "id": "c2c56204-d18c-4ac5-b10e-e37f0c6ceea2",
   "metadata": {
    "editable": true,
    "slideshow": {
     "slide_type": ""
    },
    "tags": []
   },
   "outputs": [
    {
     "name": "stdout",
     "output_type": "stream",
     "text": [
      "rpi 4561.434849083085\n"
     ]
    }
   ],
   "source": [
    "Is = 1e-15\n",
    "Vbe = 0.7\n",
    "beta = 100\n",
    "Ib = Is / beta * exp(Vbe / Vt)\n",
    "\n",
    "print('rpi', Vt / Ib)"
   ]
  },
  {
   "cell_type": "code",
   "execution_count": 5,
   "id": "f6667e27-5e5e-4302-b36b-d35d48634586",
   "metadata": {
    "editable": true,
    "slideshow": {
     "slide_type": ""
    },
    "tags": []
   },
   "outputs": [
    {
     "data": {
      "text/plain": [
       "{'@q[ic]': array([0.0006]),\n",
       " '@q[gm]': array([0.02319366]),\n",
       " 'output_impedance_at_V(c)': array([264533.94595817]),\n",
       " 'vb#Input_impedance': array([4561.30708746]),\n",
       " 'Transfer_function': array([-6135.51158203])}"
      ]
     },
     "execution_count": 5,
     "metadata": {},
     "output_type": "execute_result"
    }
   ],
   "source": [
    "ng.cmd('tf v(c) vb')\n",
    "ng.vectors()"
   ]
  },
  {
   "cell_type": "markdown",
   "id": "6ef3de99-026a-412b-898d-f423ba3371a1",
   "metadata": {
    "editable": true,
    "slideshow": {
     "slide_type": ""
    },
    "tags": []
   },
   "source": [
    "* $r_\\pi \\propto \\beta$，$\\beta$ 越大，$r_\\pi$ 越大。\n",
    "* $r_\\pi \\propto \\dfrac{1}{\\ui{CQ}}$，$\\ui{CQ}$ 越小，$r_\\pi$ 越大。\n",
    "\n",
    "$\\ui{CQ}$ 同时控制 $\\sm{g}{m}$ 和 $r_\\pi$。\n",
    "\n",
    "假设 $\\beta=100$, $\\uv{T}=26$mV，$\\uv{A}=130$V.\n",
    "\n",
    "| $\\ui{C}$ | $\\sm{g}{m}$ | $r_\\pi$ | $\\sm{r}{o}$ |\n",
    "| --- | --- | --- | --- |\n",
    "| 10μA | 1/2600 $\\Omega^{-1}$ | 260 kΩ | 13 MΩ |\n",
    "| 100μA | 1/260 $\\Omega^{-1}$ | 26 kΩ | 1.3 MΩ | \n",
    "| 1mA | 1/26 $\\Omega^{-1}$ | 2.6 kΩ | 130 kΩ |\n",
    "| 10mA | 1/2.6 $\\Omega^{-1}$ | 260 Ω | 13 kΩ |\n",
    "\n",
    "所以，增益（跨导）和输入阻抗是一对矛盾，不可兼得。对于输入级，往往先满足输入阻抗，牺牲掉部分增益，然后靠中间级把增益补回来。"
   ]
  },
  {
   "cell_type": "markdown",
   "id": "97c4b21c-994a-4f06-b312-dbf10044108e",
   "metadata": {},
   "source": [
    "Output impedance\n",
    "\n",
    "$\\sm{r}{o} = \\dfrac{\\uv{A}}{\\ui{C}}$ for $\\ui{C}|_{\\uv{BC}=0}$"
   ]
  },
  {
   "cell_type": "code",
   "execution_count": 58,
   "id": "07182ef6-8376-4677-acad-35ab22707141",
   "metadata": {
    "editable": true,
    "slideshow": {
     "slide_type": ""
    },
    "tags": []
   },
   "outputs": [
    {
     "name": "stdout",
     "output_type": "stream",
     "text": [
      "264534.08948943496\n"
     ]
    }
   ],
   "source": [
    "Ic = Is * exp(Vbe / Vt)\n",
    "ro = Vaf / Ic\n",
    "print(ro)"
   ]
  },
  {
   "cell_type": "markdown",
   "id": "e9507b10-017a-47e4-903f-c718362c02dc",
   "metadata": {},
   "source": [
    "Intrinsic gain $A_0 = \\dfrac{\\uv{A}}{\\uv{T}}$"
   ]
  },
  {
   "cell_type": "code",
   "execution_count": 59,
   "id": "217d49b4-8424-4e1d-a9c1-c44efc55314f",
   "metadata": {},
   "outputs": [
    {
     "name": "stdout",
     "output_type": "stream",
     "text": [
      "5799.36134663\n"
     ]
    }
   ],
   "source": [
    "print(Vaf/Vt)"
   ]
  },
  {
   "cell_type": "markdown",
   "id": "2e772e64-9ea1-4ce8-af16-b78116f9aac4",
   "metadata": {
    "editable": true,
    "slideshow": {
     "slide_type": ""
    },
    "tags": []
   },
   "source": [
    "## Emitter follower\n",
    "\n",
    "主要起阻抗变换的作用，\n",
    "\n",
    "* 输入阻抗高 $\\sm{R}{in} = r_\\pi + (1+\\beta)\\sm{R}{E}$，相当于把负载 $\\sm{R}{E}$ 至少放大了 $\\beta+1$ 倍\n",
    "* 输出阻抗低 $\\sm{r}{e}=\\dfrac{1}{\\sm{g}{m}} = \\dfrac{\\uv{T}}{\\ui{C}}$.（$\\ui{C}=1$mA 时约为二三十 $\\Omega$）"
   ]
  },
  {
   "cell_type": "code",
   "execution_count": 33,
   "id": "1466d0f2-dbfe-448b-842b-c7398f46a223",
   "metadata": {
    "editable": true,
    "slideshow": {
     "slide_type": ""
    },
    "tags": [
     "hide_code"
    ]
   },
   "outputs": [
    {
     "data": {
      "image/png": "[encoded data removed]"
     },
     "metadata": {},
     "output_type": "display_data"
    }
   ],
   "source": [
    "%%tikz -ct\n",
    "\\ctikzset{european resistors, transistors/arrow pos=end, transistors/fill=cyan!20, amplifiers/fill=cyan!20}\n",
    "\\newcommand{\\li}[1]{\\ensuremath{i_\\mathrm{#1}}}\n",
    "    \n",
    "\\draw (0, 0) node [left] {Vin}\n",
    "to [short, o-, i=$\\li{B}$] ++(0.7, 0)\n",
    "node [npn, tr circle, anchor=B] (Q) {NPN};\n",
    "\\draw (Q.C) to [short,i<=$\\li{C}$] ++(0, 0.5) node [vcc] {Vcc};\n",
    "\n",
    "\\draw (Q.E) to [short] ++(0, -0.3) to [short, -o] ++(0.5, 0) node [above] {\\quad Vout}\n",
    "to [R, l=$R_\\mathrm{E}$, bipoles/length=1cm] ++(0, -1.5) node [tlground] {};\n",
    "\\draw (Q.E) node [currarrow, rotate=-90] {} node [left] {$\\li{E}$};\n",
    "\n",
    "\\draw [->] (0, -1.5) node [below] {$R_\\mathrm{i}$} to ++(0, 1) to ++(0.5, 0);\n",
    "\\draw [->] (3.2, -2.1) node [below] {$R_\\mathrm{o}$} to ++(0, 1) to ++(-0.5, 0);"
   ]
  },
  {
   "cell_type": "code",
   "execution_count": 34,
   "id": "1afead01-a7e3-4bfb-9500-5692935e32e1",
   "metadata": {},
   "outputs": [
    {
     "name": "stdout",
     "output_type": "stream",
     "text": [
      "    @q[gm] =   38.299 mS\n",
      "         b =   5.7000 V\n",
      "         c =  10.0000 V\n",
      "         e =   4.9856 V\n",
      " vb#branch =   -9.872 uA\n",
      " vc#branch = -987.242 uA\n"
     ]
    },
    {
     "data": {
      "text/plain": [
       "{'@q[gm]': array([0.03829897]),\n",
       " 'output_impedance_at_V(e)': array([25.71886983]),\n",
       " 'vb#Input_impedance': array([507610.77745333]),\n",
       " 'Transfer_function': array([0.99485623])}"
      ]
     },
     "execution_count": 34,
     "metadata": {},
     "output_type": "execute_result"
    }
   ],
   "source": [
    "ng.circ('''\n",
    "  Q  c b e NPN\n",
    "  Vc c 0  10V\n",
    "  Vb b 0 5.7V\n",
    "  Re e 0 5000\n",
    "  .model NPN NPN(IS=1fA BF=100)\n",
    "  .save all @q[gm]\n",
    "''')\n",
    "#ng.operating_point()\n",
    "print_op()\n",
    "ng.cmd('tf v(e) vb')\n",
    "ng.vectors()"
   ]
  },
  {
   "cell_type": "code",
   "execution_count": 15,
   "id": "7d468809-831e-44bb-aba1-18c82d40f848",
   "metadata": {},
   "outputs": [
    {
     "name": "stdout",
     "output_type": "stream",
     "text": [
      "Rout 26.199165979640608\n",
      "Rin 507619.91659796407\n",
      "Av 0.9947874795418032\n"
     ]
    }
   ],
   "source": [
    "Ic = 987.242e-6\n",
    "gm = Ic / Vt\n",
    "print('Rout', 1/gm)\n",
    "beta = 100\n",
    "rpi = beta / gm\n",
    "Re = 5e3\n",
    "Rin = rpi + (1 + beta) * Re\n",
    "print('Rin', Rin)\n",
    "Av = Re / (Re + 1/gm)\n",
    "print('Av', Av)"
   ]
  },
  {
   "cell_type": "code",
   "execution_count": 36,
   "id": "3c2f79e6-f920-467d-9c2e-e74d11569c73",
   "metadata": {},
   "outputs": [
    {
     "name": "stdout",
     "output_type": "stream",
     "text": [
      "    @q[gm] =   38.277 mS\n",
      "         b =   5.7000 V\n",
      "         c =  10.0000 V\n",
      "         e =   4.9877 V\n",
      " vb#branch =   -9.102 uA\n",
      " vc#branch = -988.440 uA\n"
     ]
    },
    {
     "data": {
      "text/plain": [
       "{'@q[gm]': array([0.03827686]),\n",
       " 'output_impedance_at_V(e)': array([25.74153427]),\n",
       " 'vb#Input_impedance': array([504795.13692927]),\n",
       " 'Transfer_function': array([0.99438214])}"
      ]
     },
     "execution_count": 36,
     "metadata": {},
     "output_type": "execute_result"
    }
   ],
   "source": [
    "ng.circ('''\n",
    "  Q  c b e NPN\n",
    "  Vc c 0  10V\n",
    "  Vb b 0 5.7V\n",
    "  Re e 0 5000\n",
    "  .model NPN NPN(IS=1fA BF=100 VAF=50)\n",
    "  .save all @q[gm]\n",
    "''')\n",
    "#ng.operating_point()\n",
    "print_op()\n",
    "ng.cmd('tf v(e) vb')\n",
    "ng.vectors()"
   ]
  },
  {
   "cell_type": "markdown",
   "id": "2abe9c76-4b60-4bbd-a861-2107a81ea597",
   "metadata": {
    "editable": true,
    "slideshow": {
     "slide_type": ""
    },
    "tags": []
   },
   "source": [
    "### Active load"
   ]
  },
  {
   "cell_type": "code",
   "execution_count": null,
   "id": "fe08c110-cfb7-476a-831d-71e50ca81627",
   "metadata": {},
   "outputs": [],
   "source": []
  },
  {
   "cell_type": "markdown",
   "id": "3a04d5c2-1e90-487d-968e-549e98ce7fe4",
   "metadata": {
    "editable": true,
    "slideshow": {
     "slide_type": ""
    },
    "tags": []
   },
   "source": [
    "## Common-Emitter amplifier\n",
    "\n",
    "Load resistor $\\sm{R}{C}$\n",
    "\n",
    "$\\sm{A}{v} = \\sm{g}{m}\\sm{R}{C} = \\dfrac{\\ui{C} \\sm{R}{C}}{\\uv{T}} < \\dfrac{\\uv{CC}}{\\uv{T}}$ \n",
    "\n",
    "对于 $\\uv{CC} = 15$V，$\\sm{A}{v} < 580$，且随温度增加会下降。\n",
    "一般的电路会把 $\\uv{CQ}$ 选在 $\\uv{CC}/2$ 附近，以获得最大的输出电压摆幅，那么 $\\sm{A}{v}$ 会更小，大概上限在 $200\\sim 300$ 。"
   ]
  },
  {
   "cell_type": "code",
   "execution_count": 16,
   "id": "b5055e00-cd10-4d42-95dd-dfb8bacb51c1",
   "metadata": {
    "editable": true,
    "slideshow": {
     "slide_type": ""
    },
    "tags": [
     "hide_code"
    ]
   },
   "outputs": [
    {
     "data": {
      "image/png": "[encoded data removed]"
     },
     "metadata": {},
     "output_type": "display_data"
    }
   ],
   "source": [
    "%%tikz -ct\n",
    "\n",
    "\\ctikzset{transistors/arrow pos=end, american currents, american voltages, european resistors}\n",
    "\n",
    "\\draw (0, 0) node [npn] (Q) {NPN};\n",
    "\\draw (Q.B) to [short, i_<={$i_\\mathrm{B}$}] ++(-0.2, 0)\n",
    "  to [short] ++(-0.6, 0)\n",
    "  to [sV, l_=$v_\\mathrm{in}$, bipoles/length=1cm] ++(0, -1)\n",
    "  to [battery1, l_={$V_\\mathrm{BEQ}$}, bipoles/length=1cm]  ++(0, -1)\n",
    "  coordinate (G) -| (Q.E);\n",
    "\\draw (G-|Q.E) node [circ] {} node [sground] {};\n",
    "\\draw (Q.C) to [R, l_={$R_\\mathrm{C}$}, bipoles/length=1cm] ++(0, 1.5)\n",
    "  node [vcc] {Vcc};\n",
    "\n",
    "\\draw (Q.C) to [short, *-o] ++(1, 0) node [right] {Vout};"
   ]
  },
  {
   "cell_type": "code",
   "execution_count": 8,
   "id": "1d4578b7-1b68-4556-a5e5-ec4bcd479719",
   "metadata": {
    "editable": true,
    "slideshow": {
     "slide_type": ""
    },
    "tags": []
   },
   "outputs": [
    {
     "name": "stdout",
     "output_type": "stream",
     "text": [
      "    @q[gm] =   21.923 mS\n",
      "         b =   0.7000 V\n",
      "         c =   4.3297 V\n",
      " vb#branch =   -5.670 uA\n",
      " vc#branch = -567.035 uA\n",
      "       vcc =  10.0000 V\n"
     ]
    },
    {
     "data": {
      "text/plain": [
       "{'@q[gm]': array([0.02192293]),\n",
       " 'output_impedance_at_V(c)': array([9999.9998]),\n",
       " 'vb#Input_impedance': array([4561.43018212]),\n",
       " 'Transfer_function': array([-219.22926164])}"
      ]
     },
     "execution_count": 8,
     "metadata": {},
     "output_type": "execute_result"
    }
   ],
   "source": [
    "ng.circ('''\n",
    "  Q  c b 0 NPN\n",
    "  Vc vcc 0  10V\n",
    "  Vb b 0 0.7V\n",
    "  Rc vcc c  10k\n",
    "  .model NPN NPN(IS=1fA BF=100)\n",
    "  .save all @q[gm]\n",
    "''')\n",
    "#ng.operating_point()\n",
    "print_op()\n",
    "ng.cmd('tf v(c) vb')\n",
    "ng.vectors()"
   ]
  },
  {
   "cell_type": "code",
   "execution_count": 73,
   "id": "cfca9b2a-e32e-4e13-abc4-43913df1928a",
   "metadata": {
    "editable": true,
    "slideshow": {
     "slide_type": ""
    },
    "tags": []
   },
   "outputs": [
    {
     "name": "stdout",
     "output_type": "stream",
     "text": [
      "Ic 0.0005670346694806257\n",
      "gm 0.02192292629590039\n",
      "Av 219.2292629590039\n"
     ]
    }
   ],
   "source": [
    "Is = 1e-15\n",
    "Vbe = 0.7\n",
    "Ic = Is * exp(Vbe / Vt)\n",
    "gm = Ic / Vt\n",
    "print('Ic', Ic)\n",
    "print('gm', gm)\n",
    "Rc = 10e3\n",
    "print('Av', gm * Rc)"
   ]
  },
  {
   "cell_type": "markdown",
   "id": "940a0cac-f1ba-4a37-90ec-7ed277ea0b4f",
   "metadata": {
    "editable": true,
    "slideshow": {
     "slide_type": ""
    },
    "tags": []
   },
   "source": [
    "#### Early effect\n",
    "\n",
    "* $\\ui{C}=\\ui{C0}\\Big(1+\\dfrac{\\uv{CE}}{\\uv{A}}\\Big)$\n",
    "* $\\sm{g}{m}=\\dfrac{\\ui{C}}{\\uv{T}}$\n",
    "* $\\sm{r}{o}=\\dfrac{\\uv{A}}{\\ui{C0}}$\n",
    "* $\\sm{R}{o} = \\sm{R}{C} /\\!/ \\sm{r}{o}$\n",
    "* $\\sm{A}{v} = \\sm{g}{m}\\sm{R}{o} = \\sm{g}{m}( \\sm{R}{C} /\\!/ \\sm{r}{o})$"
   ]
  },
  {
   "cell_type": "code",
   "execution_count": 10,
   "id": "c7c51ae0-a87f-40d0-8e57-2aa0b39f085a",
   "metadata": {
    "editable": true,
    "slideshow": {
     "slide_type": ""
    },
    "tags": []
   },
   "outputs": [
    {
     "name": "stdout",
     "output_type": "stream",
     "text": [
      "    @q[gm] =   22.430 mS\n",
      "    @q[ic] =  580.256 uA\n",
      "         b =   0.7000 V\n",
      "         c =   4.1974 V\n",
      " vb#branch =   -5.670 uA\n",
      " vc#branch = -580.256 uA\n",
      "       vcc =  10.0000 V\n"
     ]
    },
    {
     "data": {
      "text/plain": [
       "{'@q[ic]': array([0.00058026]),\n",
       " '@q[gm]': array([0.02243031]),\n",
       " 'output_impedance_at_V(c)': array([9635.74632036]),\n",
       " 'vb#Input_impedance': array([4561.43024655]),\n",
       " 'Transfer_function': array([-216.1327523])}"
      ]
     },
     "execution_count": 10,
     "metadata": {},
     "output_type": "execute_result"
    }
   ],
   "source": [
    "ng.circ('''\n",
    "  Q  c b 0 NPN\n",
    "  Vc vcc 0  10V\n",
    "  Vb b 0 0.7V\n",
    "  Rc vcc c  10k\n",
    "  .model NPN NPN(IS=1fA BF=100 VAF=150)\n",
    "  .save all @q[gm] @q[ic]\n",
    "''')\n",
    "print_op()\n",
    "ng.cmd('tf v(c) vb')\n",
    "ng.vectors()"
   ]
  },
  {
   "cell_type": "code",
   "execution_count": 21,
   "id": "6cb65633-23b8-4875-b3fa-3782ef4beb71",
   "metadata": {
    "editable": true,
    "slideshow": {
     "slide_type": ""
    },
    "tags": []
   },
   "outputs": [
    {
     "name": "stdout",
     "output_type": "stream",
     "text": [
      "Ic 0.0005802556498342359\n",
      "gm 0.022434081245415603\n",
      "Ro 9635.746510803176\n",
      "Av 216.16912008358835\n"
     ]
    }
   ],
   "source": [
    "Is = 1e-15\n",
    "Vbe = 0.7\n",
    "Vcb = 4.1974 - Vbe\n",
    "Vaf = 150\n",
    "Ic0 = Is * exp(Vbe / Vt)\n",
    "Ic = Ic0 * (1 + Vcb / Vaf)\n",
    "gm = Ic / Vt\n",
    "print('Ic', Ic)\n",
    "print('gm', gm)\n",
    "ro = Vaf / Ic0\n",
    "Rc = 10e3\n",
    "Ro = para(Rc, ro)\n",
    "print('Ro', Ro)\n",
    "print('Av', gm * Ro)"
   ]
  },
  {
   "cell_type": "markdown",
   "id": "30be0735-aac7-4e8d-9224-ac7b3bbc5c7d",
   "metadata": {
    "editable": true,
    "slideshow": {
     "slide_type": ""
    },
    "tags": []
   },
   "source": [
    "## Common-Emitter with degeneration\n",
    "\n",
    "在发射极和地之间串接电阻 $\\sm{R}{E}$ 可大大增加 $r_\\pi$，代价是降低 $\\sm{A}{v}$\n",
    "\n",
    "$\\sm{R}{in} = r_\\pi + (1+\\beta)\\sm{R}{E}$"
   ]
  },
  {
   "cell_type": "code",
   "execution_count": 17,
   "id": "22aa8ef5-52c3-4717-b266-9517a0f7bb7e",
   "metadata": {
    "editable": true,
    "slideshow": {
     "slide_type": ""
    },
    "tags": [
     "hide_code"
    ]
   },
   "outputs": [
    {
     "data": {
      "image/png": "[encoded data removed]"
     },
     "metadata": {},
     "output_type": "display_data"
    }
   ],
   "source": [
    "%%tikz -ct\n",
    "\n",
    "\\ctikzset{transistors/arrow pos=end, american currents, american voltages, european resistors}\n",
    "\n",
    "\\draw (0, 0) node [npn] (Q) {NPN};\n",
    "\\draw (Q.E) to [R, l={$R_\\mathrm{E}$}, bipoles/length=1cm] ++(0, -1.5)\n",
    "  coordinate (G) node [circ] {} node [sground] {};\n",
    "\n",
    "\\draw (Q.B) to [short, i_<={$i_\\mathrm{B}$}] ++(-0.2, 0)\n",
    "  to [short] ++(-0.6, 0)\n",
    "  to [sV, l_=$v_\\mathrm{in}$, bipoles/length=1cm] ++(0, -1.2)\n",
    "  to [battery1, l_={$V_\\mathrm{BEQ}$}, bipoles/length=1cm]  ++(0, -1)\n",
    "  |- (G);\n",
    "  \n",
    "\\draw (Q.C) to [R, l_={$R_\\mathrm{C}$}, bipoles/length=1cm] ++(0, 1.5)\n",
    "  node [vcc] {Vcc};\n",
    "\n",
    "\\draw (Q.C) to [short, *-o] ++(1, 0) node [right] {Vout};"
   ]
  },
  {
   "cell_type": "code",
   "execution_count": 25,
   "id": "7077c31d-bcb1-4876-97f6-12f4be63a584",
   "metadata": {
    "editable": true,
    "slideshow": {
     "slide_type": ""
    },
    "tags": []
   },
   "outputs": [
    {
     "name": "stdout",
     "output_type": "stream",
     "text": [
      "    @q[gm] =   19.675 mS\n",
      "         b =   0.8000 V\n",
      "         c =   4.9110 V\n",
      "         e =   0.1028 V\n",
      " vb#branch =   -5.089 uA\n",
      " vc#branch = -508.900 uA\n",
      "       vcc =  10.0000 V\n"
     ]
    },
    {
     "data": {
      "text/plain": [
       "{'@q[gm]': array([0.0196753]),\n",
       " 'output_impedance_at_V(c)': array([9999.9998]),\n",
       " 'vb#Input_impedance': array([25282.48933506]),\n",
       " 'Transfer_function': array([-39.55302566])}"
      ]
     },
     "execution_count": 25,
     "metadata": {},
     "output_type": "execute_result"
    }
   ],
   "source": [
    "ng.circ('''\n",
    "  Q  c b e NPN\n",
    "  Vc vcc 0  10V\n",
    "  Vb b 0 0.8V\n",
    "  Rc vcc c  10k\n",
    "  Re e 0 200\n",
    "  .model NPN NPN(IS=1fA BF=100)\n",
    "  .save all @q[gm]\n",
    "''')\n",
    "#ng.operating_point()\n",
    "print_op()\n",
    "ng.cmd('tf v(c) vb')\n",
    "ng.vectors()"
   ]
  },
  {
   "cell_type": "code",
   "execution_count": 30,
   "id": "e6a354dd-0755-4e4c-8afd-152797d48e1d",
   "metadata": {
    "editable": true,
    "slideshow": {
     "slide_type": ""
    },
    "tags": []
   },
   "outputs": [
    {
     "name": "stdout",
     "output_type": "stream",
     "text": [
      "gm 0.019675299928666713\n",
      "Rin 25282.514643362614\n"
     ]
    }
   ],
   "source": [
    "Ic = 508.9e-6\n",
    "gm = Ic / Vt\n",
    "print('gm', gm)\n",
    "\n",
    "beta = 100\n",
    "rpi = beta / gm\n",
    "Re = 200\n",
    "Rin = rpi + (1+beta)*Re\n",
    "print('Rin', Rin)"
   ]
  },
  {
   "cell_type": "markdown",
   "id": "5703037d-e8ec-4ab7-99ed-258aba0fe690",
   "metadata": {
    "editable": true,
    "slideshow": {
     "slide_type": ""
    },
    "tags": []
   },
   "source": [
    "## Common-Emitter with active load\n",
    "\n",
    "有源负载可以大大增加 $\\sm{A}{v}$，通常可以达到 $1000\\sim 2000$\n",
    "\n",
    "开路增益 $\\sm{A}{v}=\\sm{g}{m}\\sm{R}{o}=\\sm{g}{m}(\\sm{r}{o1}/\\!/\\sm{r}{o2})=\\dfrac{\\uv{A1}\\uv{A2}}{\\uv{T}(\\uv{A1}+\\uv{A2})}$ 跟偏置电流无关，但是输出阻抗跟偏置电流成反比，为了提高带负载的能力，应该增加偏置电流。"
   ]
  },
  {
   "cell_type": "code",
   "execution_count": 36,
   "id": "4d8eeb65-89f9-42fe-938d-5d4fe570cf4a",
   "metadata": {
    "editable": true,
    "slideshow": {
     "slide_type": ""
    },
    "tags": [
     "hide_code"
    ]
   },
   "outputs": [
    {
     "data": {
      "image/png": "[encoded data removed]"
     },
     "metadata": {},
     "output_type": "display_data"
    }
   ],
   "source": [
    "%%tikz -ct\n",
    "\n",
    "\\ctikzset{transistors/arrow pos=end, american currents, american voltages, european resistors}\n",
    "\n",
    "\\draw (0, 0) node [pnp, xscale=-1] (Q3) {\\ctikzflipx{Q3}};\n",
    "\\draw (Q3.B) node [pnp, anchor=B] (Q2) {Q2};\n",
    "\\draw (Q3.E) -- (Q2.E);\n",
    "\\draw (Q3.E) coordinate (T);\n",
    "\\draw (T-|Q3.B) node [circ] {} node [vcc] {Vcc};\n",
    "\\draw (Q3.C) -| (Q3.B) node [circ] {};\n",
    "\\draw (Q3.C) to [I, l_={$I_\\mathrm{REF}$}, bipoles/length=1cm] ++(0, -1.2);\n",
    "\n",
    "\\draw (Q2.C) to [short] ++(0, -1)\n",
    "  node [npn, anchor=C] (Q1) {Q1};\n",
    "\\draw (Q1.C) to [short, *-o] ++(1, 0) node [right] {Vout};\n",
    "\\draw (Q1.B) to [short, -o] ++(-0.5, 0) node [left] {Vin};\n",
    "\\draw (Q1.E) node [sground] {};"
   ]
  },
  {
   "cell_type": "code",
   "execution_count": 35,
   "id": "b8938bdd-add1-4b5e-95d6-a8fd2ad7d567",
   "metadata": {},
   "outputs": [
    {
     "name": "stdout",
     "output_type": "stream",
     "text": [
      "3629.9706206684073\n"
     ]
    }
   ],
   "source": [
    "Va1 = 130\n",
    "Va2 = 50\n",
    "print(Va1*Va1/(Vt*(Va1+Va2)))"
   ]
  },
  {
   "cell_type": "markdown",
   "id": "b81e7cf3-cff9-48ed-a5d2-450ad4f7f512",
   "metadata": {
    "editable": true,
    "slideshow": {
     "slide_type": ""
    },
    "tags": []
   },
   "source": [
    "## CC-CE stage\n",
    "\n",
    "|  | Common-Emitter | Common-Collector |\n",
    "| --- | --- | --- |\n",
    "| $\\sm{R}{in}$ | $r_\\pi$ （较低，数 kΩ） | $r_\\pi + (1+\\beta) \\sm{R}{E}$ （高，数百 kΩ）|\n",
    "| $\\sm{A}{v}$ | $\\sm{g}{m}\\sm{R}{o}$ （可上百） | $< 1$（低） |\n",
    "\n",
    "所以，CC-CE 可同时做到高 $\\sm{R}{in}$ 和高 $\\sm{A}{v}$，这也是运放的增益级常用 CC-CE 结构的原因，因为输入级通常偏置电流很小（几个微安）），那么输出阻抗会很大，因此需要先接一级 emitter follower 与之匹配。"
   ]
  },
  {
   "cell_type": "code",
   "execution_count": 50,
   "id": "781a01cb-1d32-4776-adc7-b1b27613768f",
   "metadata": {},
   "outputs": [
    {
     "data": {
      "image/png": "[encoded data removed]"
     },
     "metadata": {},
     "output_type": "display_data"
    }
   ],
   "source": [
    "%%tikz -ct\n",
    "\\ctikzset{transistors/arrow pos=end, american currents, american voltages, european resistors}\n",
    "\n",
    "\\draw (0, 0) node [npn] (Q1) {Q1};\n",
    "\\draw (Q1.E) to [short, *-] ++(0.5, 0)\n",
    "  node [npn, anchor=B] (Q2) {Q2};\n",
    "\\draw (Q1.E) to [R, l={$R_\\mathrm{E}$}, bipoles/length=1cm] ++(0, -1.5) coordinate (G);\n",
    "\\draw (Q2.C) to [I, invert, l_={$I_\\mathrm{C2}$}, bipoles/length=1.2cm] ++(0, 1.5) coordinate (T);\n",
    "\\draw (Q1.C) |- (T) node [circ] {} node [vcc] {Vcc};\n",
    "\\draw (Q2.E) |- (G);\n",
    "\\draw (Q2.E |- G) node [circ] {} node [sground] {};\n",
    "\\draw (Q2.C) to [short, *-o] ++(0.6, 0) node [right] {Vout};\n",
    "\\draw (Q1.B) to [short, -o] ++(-0.2, 0) node [left] {Vin};"
   ]
  },
  {
   "cell_type": "markdown",
   "id": "61c34aea-30ca-46ba-a57b-f1ec50ad5a47",
   "metadata": {},
   "source": [
    "$\\sm{R}{i1} =r_{\\pi 1} +(1+\\beta)(\\sm{R}{E}/\\!/ r_{\\pi2})$\n",
    "\n",
    "假设 $\\sm{R}{E}=50$kΩ，$\\ui{C2}=1$mA，$\\uv{BE2}=0.7$V，那么 \n",
    "\n",
    "* $\\ui{E1}=\\ui{RE}+\\ui{B2} = \\dfrac{0.7}{50} + \\dfrac{1}{\\beta} = 24$μA\n",
    "\n",
    "* $r_{\\pi 1} = \\dfrac{\\beta\\uv{T}}{\\ui{C1}} \\approx \\dfrac{100 \\times 25.8}{24}=107.5$kΩ\n",
    "* $r_{\\pi 2} = \\dfrac{\\beta\\uv{T}}{\\ui{C1}} \\approx 2.58$kΩ\n",
    "* $\\sm{R}{E}/\\!/ r_{\\pi2} = 2.45$kΩ\n",
    "* $\\sm{R}{i1} =r_{\\pi 1} +(1+\\beta)(\\sm{R}{E}/\\!/ r_{\\pi2})=107.5+101\\times 2.45 = 355$kΩ\n",
    "\n",
    "降低 $\\ui{C2}$ 可以增加 $r_{\\pi 2}$ 从而增加 $\\sm{R}{i1}$，但同时也会增加 $\\sm{r}{o2}=\\dfrac{\\uv{A2}}{\\ui{C2}}$，这又是一对矛盾。"
   ]
  },
  {
   "cell_type": "markdown",
   "id": "1cc89efd-f480-485b-8a27-496d60dc9530",
   "metadata": {
    "editable": true,
    "slideshow": {
     "slide_type": ""
    },
    "tags": []
   },
   "source": [
    "## Differential pair with active load"
   ]
  },
  {
   "cell_type": "code",
   "execution_count": 53,
   "id": "332cf05a-b84f-4857-974f-b671b1da9337",
   "metadata": {
    "editable": true,
    "slideshow": {
     "slide_type": ""
    },
    "tags": [
     "hide_code"
    ]
   },
   "outputs": [
    {
     "data": {
      "image/png": "[encoded data removed]"
     },
     "metadata": {},
     "output_type": "display_data"
    }
   ],
   "source": [
    "%%tikz -ct\n",
    "\\ctikzset{transistors/arrow pos=end, american currents, european resistors}\n",
    "\n",
    "\\draw (0, 0) node [npn] (Q1) {Q1};\n",
    "\\draw (Q1) ++(1.8, 0) node [npn, xscale=-1] (Q2) {\\ctikzflipx{Q2}};\n",
    "\\draw (Q1.E) -- (Q2.E);\n",
    "\\draw (Q1.B) to [short, -o] ++(-0.2, 0) node [above] {In$+$};\n",
    "\\draw (Q2.B) to [short, -o] ++(0.2, 0) node [above] {In$-$};\n",
    "\n",
    "\\draw (Q1.E) ++(0.9, 0) node [circ] {} coordinate (M)\n",
    "to [I, l={$I_\\mathrm{EE}$}, bipoles/length=1cm] ++(0, -1.5)\n",
    "node [vee] {Vee};\n",
    "\n",
    "%\\draw (Q1.C) to [R, l={$R_\\mathrm{C}$}, bipoles/length=0.8cm] ++(0, 1.5) coordinate (T);\n",
    "%\\draw (Q2.C) to [R, l_={$R_\\mathrm{C}$}, bipoles/length=0.8cm] (Q2.C |- T) -- (T);\n",
    "\\draw (Q1.C) to [short, -*] ++(0, 0.6)\n",
    "  node [pnp, anchor=C, xscale=-1] (Q3) {\\ctikzflipx{Q3}};\n",
    "\\draw (Q3 -| Q2) node [pnp] (Q4) {Q4};\n",
    "\\draw (Q3.E) -- (Q4.E);\n",
    "\\draw (Q3.E) coordinate (T);\n",
    "\\draw (T-|M) node [circ] {} node [vcc] {Vcc};\n",
    "\\draw (Q3.C) -| (Q3.B -|M) node [circ] {};\n",
    "\\draw (Q4.C) -- (Q2.C);\n",
    "\n",
    "%\\draw (Q1.C) to [short, *-o] ++(0.5, 0) node [above] {+};\n",
    "\\draw (Q2.C)++(0, 0.3) to [short, *-o] ++(1.0, 0) node [above] {Vout};"
   ]
  },
  {
   "cell_type": "markdown",
   "id": "4a3637ae-1a5d-457c-b7db-b385769862ea",
   "metadata": {
    "editable": true,
    "slideshow": {
     "slide_type": ""
    },
    "tags": []
   },
   "source": [
    "### PNP Input"
   ]
  },
  {
   "cell_type": "code",
   "execution_count": 52,
   "id": "c41d7a43-eb7e-474e-a064-072608f8c0a7",
   "metadata": {
    "editable": true,
    "slideshow": {
     "slide_type": ""
    },
    "tags": [
     "hide_code"
    ]
   },
   "outputs": [
    {
     "data": {
      "image/png": "[encoded data removed]"
     },
     "metadata": {},
     "output_type": "display_data"
    }
   ],
   "source": [
    "%%tikz -ct\n",
    "\n",
    "\\ctikzset{transistors/arrow pos=end, american currents, european resistors}\n",
    "\n",
    "\\draw (0, 0) node [npn, xscale=-1] (Q3) {\\ctikzflipx{Q3}};\n",
    "\\draw (Q3.B) node [circ] {} node [npn, anchor=B] (Q4) {Q4};\n",
    "\\draw (Q3.C) -| (Q3.B);\n",
    "\\draw (Q3.E) -- (Q4.E);\n",
    "\\draw (Q3.E-|Q3.B) node [circ] {} node [vee] {Vee};\n",
    "\n",
    "\\draw (Q3.C) to [short, *-] ++(0, 0.8)\n",
    "  node [pnp, anchor=C] (Q1) {Q1};\n",
    "\n",
    "\\draw (Q1 -| Q4) node [pnp, xscale=-1] (Q2) {\\ctikzflipx{Q2}};\n",
    "\\draw (Q2.C) -- (Q4.C);\n",
    "\\draw (Q1.E) -- (Q2.E);\n",
    "\\draw (Q1.E-|Q3.B) node [circ] {}\n",
    "  to [I, invert, l={$I_1$}, bipoles/length=1cm] ++(0, 1.5)\n",
    "  node [vcc] {Vcc};\n",
    "\\draw (Q4.C) ++ (0, 0.4) to [short, *-o] ++(1, 0) node [right] {Vout};\n",
    "\\draw (Q1.B) to [short, -o] ++(-0.2, 0) node [above] {In$+$};\n",
    "\\draw (Q2.B) to [short, -o] ++(0.2, 0) node [above] {In$-$};"
   ]
  }
 ],
 "metadata": {
  "kernelspec": {
   "display_name": "Python 3 (ipykernel)",
   "language": "python",
   "name": "python3"
  },
  "language_info": {
   "codemirror_mode": {
    "name": "ipython",
    "version": 3
   },
   "file_extension": ".py",
   "mimetype": "text/x-python",
   "name": "python",
   "nbconvert_exporter": "python",
   "pygments_lexer": "ipython3",
   "version": "3.11.8"
  }
 },
 "nbformat": 4,
 "nbformat_minor": 5
}
