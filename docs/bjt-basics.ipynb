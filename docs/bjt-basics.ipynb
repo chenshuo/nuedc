{
 "cells": [
  {
   "cell_type": "markdown",
   "id": "a3dd9d18-de24-4645-bb30-812ddd4ea6fc",
   "metadata": {},
   "source": [
    "# BJT 三极管基础知识复习\n",
    "\n",
    "陈硕 2024/05 http://nuedc.org/bjt-basics/"
   ]
  },
  {
   "cell_type": "code",
   "execution_count": 1,
   "id": "3ae4a5fd-9afb-430d-8aa8-8d19cb5798ed",
   "metadata": {
    "editable": true,
    "slideshow": {
     "slide_type": ""
    },
    "tags": [
     "hide_cell"
    ]
   },
   "outputs": [],
   "source": [
    "%matplotlib inline\n",
    "%load_ext tikzmagic\n",
    "\n",
    "from math import exp, log, log10\n",
    "import numpy as np\n",
    "from matplotlib import pyplot as plt\n",
    "import ngspyce as ng\n",
    "\n",
    "# kΩ μA\n",
    "\n",
    "def para(r1, r2):\n",
    "  return (r1*r2) / (r1 + r2)"
   ]
  },
  {
   "cell_type": "code",
   "execution_count": 2,
   "id": "974775af-1a93-4aa8-8065-819c7f6a5487",
   "metadata": {
    "editable": true,
    "slideshow": {
     "slide_type": ""
    },
    "tags": [
     "hide_cell"
    ]
   },
   "outputs": [],
   "source": [
    "def print_op(show_ib=True, show_ie=False):\n",
    "  op = ng.operating_point()\n",
    "  for k in sorted(op.keys()):\n",
    "    if '[i' in k or '#branch' in k or '[current]' in k:\n",
    "        if '[is]' in k:\n",
    "            continue\n",
    "        if '[ie]' in k and not show_ie:\n",
    "            continue\n",
    "        if '[ib]' in k and not show_ib:\n",
    "            continue\n",
    "        current = op[k][0]\n",
    "        k = k.replace('q.x.', '')\n",
    "        k = k.replace('r.x.', '')\n",
    "        if abs(current) > 1e-3:\n",
    "            print('%10s = %8.3f mA' % (k, 1e3*current))\n",
    "        else:\n",
    "            print('%10s = %8.3f uA' % (k, 1e6*current))\n",
    "    elif '[g' in k:\n",
    "        gm = op[k][0]\n",
    "        if gm > 10e-3:\n",
    "            print('%10s = %8.3f mS' % (k, 1e3 * gm))\n",
    "        else:\n",
    "            print('%10s = %8.3f uS' % (k, 1e6 * gm))\n",
    "    else:  # Voltage\n",
    "        voltage = op[k][0]\n",
    "        k = k.replace('x.', '')\n",
    "        if abs(voltage) > 10e-3:\n",
    "            print('%10s = %8.4f V' % (k, voltage))\n",
    "        else:\n",
    "            print('%10s = %8.1f uV' % (k, 1e6*voltage))"
   ]
  },
  {
   "cell_type": "markdown",
   "id": "55d36dfd-0478-4b30-9e3b-9200d56504f1",
   "metadata": {
    "editable": true,
    "slideshow": {
     "slide_type": ""
    },
    "tags": []
   },
   "source": [
    "## 简史\n",
    "\n",
    "https://www.computerhistory.org/revolution/digital-logic/12/273\n",
    "\n",
    "1947 年 12 月圣诞节前夜，John Bardeen 和 Walter Brattain 在实验室试制成功了第一个 point-contact transistor。清华童诗白教授在“世纪回眸：纪念晶体管的发明和由此引出的启发”一文中详细介绍了这天实验的经过。\n",
    "\n",
    "后来在 1948 年 6 月底，Bell Labs 公开了这一发现。为了宣传的需要，实验室让这三人摆拍了著名的照片：\n",
    "https://www.computerhistory.org/siliconengine/invention-of-the-point-contact-transistor/ 和 https://en.wikipedia.org/wiki/File:Bardeen_Shockley_Brattain_1948.JPG\n",
    "。为什么说是摆拍？因为 Bardeen 是理论物理学家（后来凭超导理论拿了第二个 Nobel 物理奖），他一般不进实验室，如果要和 Brattain 交流，一般会在自己的办公室就着黑板写写画画。而 Brattain 是实验物理学家，照片是在他的实验室拍的，如果要仔细观察晶体管，那么坐着看显微镜的人应该是他而不是 Shockley.\n",
    "\n",
    "> Walter Brown debunks the myth created by the Bell Labs press photo: \n",
    "\"Bardeen was not at all a laboratory experimentalist. He was a theorist. And he was the guy that provided the theoretical ideas for Brattain. It was Brattain who went in the lab and wired up the stuff and put the pieces together. And Bardeen really didn't play a part in the laboratory scene at all. Their association was primarily outside the laboratory. Of course, there is the famous picture of Bardeen, Brattain and Shockley that's taken in Brattain's laboratory. But that really was not a very common—certainly having the three of them together would be very uncommon—but having Brattain and Bardeen together in the laboratory wouldn't have been, that wouldn't have ordinarily happened. It would have happened in Bardeen's office more than it would have been in Brattain's lab.\" https://www.pbs.org/transistor/album1/addlbios/egos.html\n",
    "\n",
    "随即，1948 年 7 月，John Bardeen 和 Walter Brattain 在 _Physical Review_ 发表了短短两页的报告\n",
    "\"The Transistor, a Semi-Conductor Triode.\" [[PDF]](https://journals.aps.org/pr/pdf/10.1103/PhysRev.74.230) 正式命名这个新器件为 transistor，这个名字是他们在 Bell Labs 的同事 [John R. Pierce](https://en.wikipedia.org/wiki/John_R._Pierce) 起的。从 transresistance 变化而来，意思是“跨阻器/传递电阻” transfer resistor。如果我没有理解错，这篇报告展示的是 PNP 管的 common-base 放大电路。https://x.com/TubeTimeUS/status/1249023089528078337\n",
    "\n",
    "一年后，William Shockley 于 1949/07 在 BSTJ 发表了 \"The theory of p-n junctions in semiconductors and p-n junction transistors\" https://ieeexplore.ieee.org/document/6773080\n",
    "\n",
    "五年后，1952 年第一款用晶体管的商业产品上市，是助听器 https://en.wikipedia.org/wiki/Sonotone_1010 ，Bell Labs 当时持有晶体管的专利，但是对助听器类的产品免收专利授权费，这根 Alexander Graham Bell 本人的意愿分不开。 https://www.computerhistory.org/siliconengine/transistorized-consumer-products-appear/ 。\n",
    "\n",
    "随后 1954 年，晶体管收音机开始普及（Regency TR-1） ，Sony 也凭 TR-52 发展壮大。\n",
    "\n",
    "* https://www.computerhistory.org/siliconengine/conception-of-the-junction-transistor/\n",
    "* https://www.worldradiohistory.com/Archive-Electronics/Electronics-1980-04-17-Anniversary.pdf"
   ]
  },
  {
   "cell_type": "markdown",
   "id": "dca3040a-aa23-4eef-8f38-f0745a271229",
   "metadata": {
    "editable": true,
    "slideshow": {
     "slide_type": ""
    },
    "tags": []
   },
   "source": [
    "## Basic model 基本模型\n",
    "$\\newcommand{\\li}[1]{{i_\\mathrm{#1}}}$\n",
    "$\\newcommand{\\ui}[1]{{I_\\mathrm{#1}}}$\n",
    "$\\newcommand{\\lv}[1]{{v_\\mathrm{#1}}}$\n",
    "$\\newcommand{\\uv}[1]{{V_\\mathrm{#1}}}$\n",
    "$\\newcommand{\\sm}[2]{{{#1}_\\mathrm{#2}}}$\n",
    "\n",
    "模拟电路对数学要求不高，只在推导时用一点点微积分知识（[链式求导法则](https://zh.wikipedia.org/wiki/%E9%93%BE%E5%BC%8F%E6%B3%95%E5%88%99) / [Chain rule](https://en.wikipedia.org/wiki/Chain_rule)），在确定小信号条件时用到了[泰勒展开](https://zh.wikipedia.org/wiki/%E6%B3%B0%E5%8B%92%E7%BA%A7%E6%95%B0)。\n",
    "\n",
    "以下是 SPICE 采用的物理常数，注意 SPICE 用的 $k$ / $q$ 常数是旧值。"
   ]
  },
  {
   "cell_type": "code",
   "execution_count": 6,
   "id": "af321fe7-9ea6-4ddf-ae63-935f76852af5",
   "metadata": {
    "editable": true,
    "slideshow": {
     "slide_type": ""
    },
    "tags": []
   },
   "outputs": [
    {
     "data": {
      "text/plain": [
       "{'planck': array([6.62607004e-34]),\n",
       " 'boltz': array([1.38064852e-23]),\n",
       " 'echarge': array([1.60217662e-19]),\n",
       " 'kelvin': array([-273.15]),\n",
       " 'i': array([0.+1.j]),\n",
       " 'c': array([2.99792458e+08]),\n",
       " 'e': array([2.71828183]),\n",
       " 'pi': array([3.14159265]),\n",
       " 'FALSE': array([0.]),\n",
       " 'no': array([0.]),\n",
       " 'TRUE': array([1.]),\n",
       " 'yes': array([1.])}"
      ]
     },
     "execution_count": 6,
     "metadata": {},
     "output_type": "execute_result"
    }
   ],
   "source": [
    "ng.vectors()"
   ]
  },
  {
   "cell_type": "markdown",
   "id": "6b040621-b785-48a9-a98b-3b03faa4e418",
   "metadata": {
    "editable": true,
    "slideshow": {
     "slide_type": ""
    },
    "tags": []
   },
   "source": [
    "[2019 年重新定义 SI 基本单位](https://en.wikipedia.org/wiki/2019_redefinition_of_the_SI_base_units)之后，\n",
    "\n",
    "* 新的 [Boltzmann常数](https://en.wikipedia.org/wiki/Boltzmann_constant)是精确值 $1.380\\,649\\times 10^{-23}$ J/K.\n",
    "* 新的[基本电荷](https://en.wikipedia.org/wiki/Elementary_charge)也是精确值 $ 1.602\\,176\\,634\\times 10 ^{-19}$ C.\n",
    "\n",
    "为了得到和 SPICE 相近的结果，我们只好也取旧值。"
   ]
  },
  {
   "cell_type": "code",
   "execution_count": 7,
   "id": "84cac87a-76e4-4e45-8e81-620f0793ba85",
   "metadata": {
    "editable": true,
    "slideshow": {
     "slide_type": ""
    },
    "tags": []
   },
   "outputs": [
    {
     "name": "stdout",
     "output_type": "stream",
     "text": [
      "0.02586491702007235\n"
     ]
    }
   ],
   "source": [
    "boltz = 1.38064852e-23\n",
    "echarge = 1.60217662e-19\n",
    "kelvin = 273.15\n",
    "\n",
    "room_temperature = 27\n",
    "Vt = boltz * (room_temperature + kelvin) / echarge\n",
    "print(Vt)"
   ]
  },
  {
   "cell_type": "markdown",
   "id": "b66648a6-b2cd-4ad7-aeee-64e12860e092",
   "metadata": {
    "editable": true,
    "slideshow": {
     "slide_type": ""
    },
    "tags": []
   },
   "source": [
    "### Ebers-Moll 大型号模型\n",
    "\n",
    "以下是放大区的大信号模型，可以看成压控电流源(VCCS)或流空电流源(CCCS)。"
   ]
  },
  {
   "cell_type": "code",
   "execution_count": 4,
   "id": "743e3d62-8c4e-4fc8-90e8-729926687997",
   "metadata": {
    "editable": true,
    "slideshow": {
     "slide_type": ""
    },
    "tags": [
     "hide_code"
    ]
   },
   "outputs": [
    {
     "data": {
      "image/png": "[encoded data removed]"
     },
     "metadata": {},
     "output_type": "display_data"
    }
   ],
   "source": [
    "%%tikz -ct\n",
    "\\ctikzset{european voltages, american currents, european resistors}\n",
    "\\ctikzset{transistors/arrow pos=end, transistors/fill=cyan!20}\n",
    "\\ctikzset{diodes/fill=cyan!20, csources/fill=cyan!20}\n",
    "\n",
    "\\newcommand{\\li}[1]{\\ensuremath{i_\\mathrm{#1}}}\n",
    "\\newcommand{\\ui}[1]{\\ensuremath{I_\\mathrm{#1}}}\n",
    "\\newcommand{\\lv}[1]{\\ensuremath{v_\\mathrm{#1}}}\n",
    "\\newcommand{\\uv}[1]{\\ensuremath{V_\\mathrm{#1}}}\n",
    "\n",
    "\\draw [dashed] (0, 0) node [npn] (Q) {}; \n",
    "\\draw (Q.B) to [D, bipoles/length=1cm] ++(0, -1.5) coordinate (E);\n",
    "\\draw (Q.B) to [short, -o] ++(-1, 0) node [left] {B};\n",
    "\\draw [dashed] (Q.E) to [short] (Q.E |- E); \n",
    "\\draw (Q.E |- E) to [short, *-o] ++(0, -0.5) node [below] {E};\n",
    "\\draw (Q) ++(0.7, 0) coordinate (C) \n",
    "  to [american controlled current source, l={$\\li{C}=\\ui{S}\\exp\\displaystyle\\frac{\\lv{BE}}{\\uv{T}}$}, bipoles/length=1cm] (C|-E)\n",
    "  -- (E);\n",
    "\\draw (C) to [short, -o] ++(1, 0) node [right] {C};\n",
    "\\draw [dashed] (Q.C) -| (C);\n",
    "\\draw (Q.B)++(-0.1,0) to [open, f_={$\\li{B}=\\displaystyle\\frac{\\li{C}}{\\beta}$}] ++(0, -1);"
   ]
  },
  {
   "cell_type": "code",
   "execution_count": 4,
   "id": "43f7c9c4-d281-4cf0-8888-c749a4d4c908",
   "metadata": {
    "editable": true,
    "slideshow": {
     "slide_type": ""
    },
    "tags": []
   },
   "outputs": [
    {
     "name": "stdout",
     "output_type": "stream",
     "text": [
      "Ic 0.0005670346694806257\n",
      "gm 0.02192292629590039\n"
     ]
    }
   ],
   "source": [
    "Is = 1e-15\n",
    "Vbe = 0.7\n",
    "Ic = Is * exp(Vbe / Vt)\n",
    "gm = Ic / Vt\n",
    "print('Ic', Ic)\n",
    "print('gm', gm)"
   ]
  },
  {
   "cell_type": "code",
   "execution_count": 2,
   "id": "0a188fbb-9997-485e-8021-bd8d7080f9f9",
   "metadata": {
    "editable": true,
    "slideshow": {
     "slide_type": ""
    },
    "tags": []
   },
   "outputs": [
    {
     "data": {
      "text/plain": [
       "{'@q[gpi]': array([0.00021923]),\n",
       " '@q[gm]': array([0.02192293]),\n",
       " 'vc#branch': array([-0.00056703]),\n",
       " 'vb#branch': array([-5.67034717e-06]),\n",
       " 'b': array([0.7]),\n",
       " 'c': array([1.])}"
      ]
     },
     "execution_count": 2,
     "metadata": {},
     "output_type": "execute_result"
    }
   ],
   "source": [
    "ng.circ('''\n",
    "  Q  c b 0 NPN\n",
    "  Vc c 0 1V\n",
    "  Vb b 0 0.7V\n",
    "  .model NPN NPN(IS=1fA BF=100)\n",
    "  .save all @q[gm] @q[gpi]\n",
    "''')\n",
    "ng.operating_point()\n",
    "# print_op()"
   ]
  },
  {
   "cell_type": "markdown",
   "id": "5bec9e79-dd92-42f1-93de-3a191bebfb1f",
   "metadata": {},
   "source": [
    "在 $\\uv{A}=\\infty$ 的情况下，我们用 Ebers-Moll 模型公式计算的结果与 SPICE 误差小于 1ppm，换言之前 6 位有效数字是相同的。"
   ]
  },
  {
   "cell_type": "code",
   "execution_count": 23,
   "id": "7aabc9c6-2ae4-4a88-9a36-78a5b7dac087",
   "metadata": {},
   "outputs": [
    {
     "name": "stdout",
     "output_type": "stream",
     "text": [
      "567.03468 uA (SPICE)\n",
      "567.03467 uA (EM)\n"
     ]
    }
   ],
   "source": [
    "Ic2 = -ng.vector('vc#branch')[0]\n",
    "print('%.5f uA (SPICE)' % (Ic2 * 1e6))\n",
    "print('%.5f uA (EM)' % (Ic * 1e6))"
   ]
  },
  {
   "cell_type": "code",
   "execution_count": 20,
   "id": "e9f31170-dd7a-4ea3-9fe8-ed6f9abc2769",
   "metadata": {},
   "outputs": [
    {
     "name": "stdout",
     "output_type": "stream",
     "text": [
      "5.6703472 uA (SPICE)\n",
      "5.6703467 uA (EM)\n"
     ]
    }
   ],
   "source": [
    "Ib2 = -ng.vector('vb#branch')[0]\n",
    "print('%.7f uA (SPICE)' % (Ib2 * 1e6))\n",
    "beta = 100\n",
    "print('%.7f uA (EM)' % (Ic / beta * 1e6))"
   ]
  },
  {
   "cell_type": "code",
   "execution_count": 36,
   "id": "e4342fdd-cf0d-4346-848f-fa4c82383c19",
   "metadata": {},
   "outputs": [
    {
     "name": "stdout",
     "output_type": "stream",
     "text": [
      "21.92293 mS (SPICE)\n",
      "21.92293 mS (EM)\n"
     ]
    }
   ],
   "source": [
    "gm2 = ng.vector('@q[gm]')[0]\n",
    "print('%.5f mS (SPICE)' % (gm2 * 1e3))\n",
    "print('%.5f mS (EM)' % (gm * 1e3))"
   ]
  },
  {
   "cell_type": "markdown",
   "id": "5ef4ec2c-9edf-473b-a6d2-ad3969e1cee7",
   "metadata": {
    "editable": true,
    "slideshow": {
     "slide_type": ""
    },
    "tags": []
   },
   "source": [
    "#### Curve tracer"
   ]
  },
  {
   "cell_type": "code",
   "execution_count": 6,
   "id": "4cbde773-dfd7-4762-b211-8572da360e59",
   "metadata": {},
   "outputs": [
    {
     "data": {
      "text/plain": [
       "Text(0, 0.5, 'Ic (mA)')"
      ]
     },
     "execution_count": 6,
     "metadata": {},
     "output_type": "execute_result"
    },
    {
     "data": {
      "image/png": "[encoded data removed]",
      "text/plain": [
       "<Figure size 640x480 with 1 Axes>"
      ]
     },
     "metadata": {},
     "output_type": "display_data"
    }
   ],
   "source": [
    "ng.circ(\"\"\"\n",
    "  Vcc c 0 10V\n",
    "  Ib 0 b 10uA\n",
    "  Q1 c b 0 NPN\n",
    "  .model NPN NPN(IS=1fA BF=100)\n",
    "  \"\"\")\n",
    "\n",
    "# manual scan ib\n",
    "for ib in np.linspace(1000, 100, 10):\n",
    "    ng.cmd('alter ib %.1fuA' % ib)\n",
    "    ng.cmd('dc vcc 0 6V 0.01V')\n",
    "    Ic = -ng.vectors()['vcc#branch']\n",
    "    Vc = ng.vectors()['v-sweep']\n",
    "    plt.plot(Vc, Ic * 1e3, label=('Ib=%.1f mA' % (ib/1e3))) #  legend='%.0f uA' % ib)\n",
    "plt.legend(loc='upper right')\n",
    "plt.ylabel('Ic (mA)')"
   ]
  },
  {
   "cell_type": "markdown",
   "id": "24f2bb1c-3c48-44d1-a891-e837104eec9f",
   "metadata": {
    "editable": true,
    "slideshow": {
     "slide_type": ""
    },
    "tags": []
   },
   "source": [
    "### Early effect\n",
    "\n",
    "Affects $\\li{C}$, not $\\li{B}$\n",
    "\n",
    "$\\li{C0}=\\ui{S}\\exp\\dfrac{\\lv{BE}}{\\uv{T}}$\n",
    "\n",
    "$\\li{C}=\\li{C0}\\Big(1+\\dfrac{\\lv{CE}}{\\uv{A}}\\Big)=\\ui{S}\\exp\\dfrac{\\lv{BE}}{\\uv{T}}\\Big(1+\\dfrac{\\lv{CE}}{\\uv{A}}\\Big)$\n",
    "\n",
    "$\\li{B}=\\dfrac{\\li{C0}}{\\beta} = \\dfrac{\\ui{S}}{\\beta}\\exp\\dfrac{\\lv{BE}}{\\uv{T}}$"
   ]
  },
  {
   "cell_type": "code",
   "execution_count": 66,
   "id": "0ce2de75-0131-4985-bd0d-7567fb3f838f",
   "metadata": {
    "editable": true,
    "slideshow": {
     "slide_type": ""
    },
    "tags": [
     "hide_code"
    ]
   },
   "outputs": [
    {
     "data": {
      "image/png": "[encoded data removed]"
     },
     "metadata": {},
     "output_type": "display_data"
    }
   ],
   "source": [
    "%%tikz -ct -p amsmath\n",
    "\\ctikzset{european voltages, american currents, european resistors}\n",
    "\\ctikzset{transistors/arrow pos=end, transistors/fill=cyan!20}\n",
    "\\ctikzset{diodes/fill=cyan!20, csources/fill=cyan!20}\n",
    "\n",
    "\\newcommand{\\li}[1]{\\ensuremath{i_\\mathrm{#1}}}\n",
    "\\newcommand{\\ui}[1]{\\ensuremath{I_\\mathrm{#1}}}\n",
    "\\newcommand{\\lv}[1]{\\ensuremath{v_\\mathrm{#1}}}\n",
    "\\newcommand{\\uv}[1]{\\ensuremath{V_\\mathrm{#1}}}\n",
    "\n",
    "\\draw [dashed] (0, 0) node [npn] (Q) {}; \n",
    "\\draw (Q.B) to [D, bipoles/length=1cm] ++(0, -1.5) coordinate (E);\n",
    "\\draw (Q.B) to [short, -o] ++(-1, 0) node [left] {B};\n",
    "\\draw [dashed] (Q.E) to [short] (Q.E |- E); \n",
    "\\draw (Q.E |- E) to [short, *-o] ++(0, -0.5) node [below] {E};\n",
    "\\draw (Q) ++(0.7, 0) coordinate (C) \n",
    "  to [american controlled current source, l={$\\li{C}=\\li{C0}\\Big(1+\\dfrac{\\lv{CE}}{\\uv{A}}\\Big)$}, bipoles/length=1cm] (C|-E)\n",
    "  node [below right] {$\\li{C0}=\\ui{S}\\exp\\displaystyle\\frac{\\lv{BE}}{\\uv{T}}$}\n",
    "  -- (E);\n",
    "\\draw (C) to [short, -o] ++(1, 0) node [right] {C};\n",
    "\\draw [dashed] (Q.C) -| (C);\n",
    "\\draw (Q.B)++(-0.1,0) to [open, f_={$\\li{B}=\\displaystyle\\frac{\\li{C0}}{\\beta}$}] ++(0, -1);"
   ]
  },
  {
   "cell_type": "code",
   "execution_count": 4,
   "id": "c573ea9f-5f3a-425c-8379-17d3eafc4cf4",
   "metadata": {
    "editable": true,
    "slideshow": {
     "slide_type": ""
    },
    "tags": []
   },
   "outputs": [
    {
     "data": {
      "text/plain": [
       "{'@q[gm]': array([0.0234869]),\n",
       " 'vc#branch': array([-0.0006076]),\n",
       " 'vb#branch': array([-5.67033817e-06]),\n",
       " 'b': array([0.7]),\n",
       " 'c': array([10.])}"
      ]
     },
     "execution_count": 4,
     "metadata": {},
     "output_type": "execute_result"
    }
   ],
   "source": [
    "ng.circ('''\n",
    "  Q  c b 0 NPN\n",
    "  Vc c 0 10V\n",
    "  Vb b 0 0.7V\n",
    "  .model NPN NPN(IS=1fA BF=100 VAF=130)\n",
    "  .save all @q[gm]\n",
    "''')\n",
    "ng.operating_point()\n",
    "# print_op()"
   ]
  },
  {
   "cell_type": "markdown",
   "id": "2d09d17e-74b4-451c-95d4-b5faaa946b4c",
   "metadata": {},
   "source": [
    "But, SPICE uses $\\lv{CB}$, not $\\lv{CE}$."
   ]
  },
  {
   "cell_type": "code",
   "execution_count": 8,
   "id": "66dd2399-bb34-4022-bce4-f118aabf4aaa",
   "metadata": {},
   "outputs": [
    {
     "name": "stdout",
     "output_type": "stream",
     "text": [
      "607.59948 uA (SPICE)\n",
      "607.59946 uA (EM)\n"
     ]
    }
   ],
   "source": [
    "Is = 1e-15\n",
    "Vbe = 0.7\n",
    "Ic0 = Is * exp(Vbe / Vt)\n",
    "Vcb = 10 - Vbe\n",
    "Vaf = 130\n",
    "Ic = Ic0 * (1 + Vcb / Vaf)\n",
    "\n",
    "Ic2 = -ng.vector('vc#branch')[0]\n",
    "print('%.5f uA (SPICE)' % (Ic2 * 1e6))\n",
    "print('%.5f uA (EM)' % (Ic * 1e6))"
   ]
  },
  {
   "cell_type": "code",
   "execution_count": 10,
   "id": "daf6820e-7b36-43f9-be6a-85fa44dcf95d",
   "metadata": {},
   "outputs": [
    {
     "name": "stdout",
     "output_type": "stream",
     "text": [
      "5.6703382 uA (SPICE)\n",
      "5.6703467 uA (EM)\n"
     ]
    }
   ],
   "source": [
    "Ib2 = -ng.vector('vb#branch')[0]\n",
    "print('%.7f uA (SPICE)' % (Ib2 * 1e6))\n",
    "print('%.7f uA (EM)' % (Ic0 / beta * 1e6))"
   ]
  },
  {
   "cell_type": "code",
   "execution_count": 11,
   "id": "cb077f8c-8437-4361-b56e-9a608146d6bb",
   "metadata": {},
   "outputs": [
    {
     "name": "stdout",
     "output_type": "stream",
     "text": [
      "gm 23.487 mS (SPICE)\n",
      "gm 23.491 mS (EM)\n"
     ]
    }
   ],
   "source": [
    "gm2 = ng.vector('@q[gm]')[0]\n",
    "print('gm %.3f mS (SPICE)' % (gm2 * 1e3))\n",
    "print('gm %.3f mS (EM)' % (1e3 * Ic / Vt))"
   ]
  },
  {
   "cell_type": "markdown",
   "id": "764263ab-8fd4-4ebb-845f-db25d145f7c7",
   "metadata": {},
   "source": [
    "#### Curve tracer"
   ]
  },
  {
   "cell_type": "code",
   "execution_count": 8,
   "id": "bd386cd9-7494-4f05-b1b2-cf415ae4b3b1",
   "metadata": {},
   "outputs": [
    {
     "data": {
      "text/plain": [
       "Text(0, 0.5, 'Ic (mA)')"
      ]
     },
     "execution_count": 8,
     "metadata": {},
     "output_type": "execute_result"
    },
    {
     "data": {
      "image/png": "[encoded data removed]",
      "text/plain": [
       "<Figure size 640x480 with 1 Axes>"
      ]
     },
     "metadata": {},
     "output_type": "display_data"
    }
   ],
   "source": [
    "ng.circ(\"\"\"\n",
    "  Vcc c 0 10V\n",
    "  Ib 0 b 10uA\n",
    "  Q1 c b 0 NPN\n",
    "  .model NPN NPN(IS=1fA BF=100 VAF=50)\n",
    "  \"\"\")\n",
    "\n",
    "# manual scan ib\n",
    "for ib in np.linspace(1000, 100, 10):\n",
    "    ng.cmd('alter ib %.1fuA' % ib)\n",
    "    ng.cmd('dc vcc 0 6V 0.01V')\n",
    "    Ic = -ng.vectors()['vcc#branch']\n",
    "    Vc = ng.vectors()['v-sweep']\n",
    "    plt.plot(Vc, Ic * 1e3, label=('Ib=%.1f mA' % (ib/1e3))) #  legend='%.0f uA' % ib)\n",
    "plt.legend(loc='upper right')\n",
    "plt.ylabel('Ic (mA)')"
   ]
  },
  {
   "cell_type": "markdown",
   "id": "06117d83-8fcf-41b4-8929-53301a1b4502",
   "metadata": {
    "editable": true,
    "slideshow": {
     "slide_type": ""
    },
    "tags": []
   },
   "source": [
    "### 低频小信号 hybrid-pi 模型"
   ]
  },
  {
   "cell_type": "code",
   "execution_count": 5,
   "id": "71001add-7908-4725-af43-08e71aa14564",
   "metadata": {
    "editable": true,
    "slideshow": {
     "slide_type": ""
    },
    "tags": [
     "hide_code"
    ]
   },
   "outputs": [
    {
     "data": {
      "image/png": "[encoded data removed]"
     },
     "metadata": {},
     "output_type": "display_data"
    }
   ],
   "source": [
    "%%tikz -ct\n",
    "\\ctikzset{european resistors, american voltages}\n",
    "\\ctikzset{transistors/arrow pos=end, transistors/fill=cyan!20}\n",
    "\\ctikzset{diodes/fill=cyan!20, csources/fill=cyan!20}\n",
    "\\newcommand{\\sm}[2]{\\ensuremath{{#1}_\\mathrm{#2}}}\n",
    "    \n",
    "\\draw (0,0) to [R, l_={$r_\\pi=\\displaystyle\\frac{\\beta}{\\sm{g}{m}}$}, v^>={$v_\\pi$}, bipoles/length=0.8cm] ++(0, -1.5) coordinate (E);\n",
    "\\draw (0,0) to [short, -o] ++(-0.5, 0) node [left] {B};\n",
    "%\\draw [dashed] (Q.E) to [short] (Q.E |- E);\n",
    "\\draw (E) ++(0.7, 0) to [short, *-o] ++(0, -0.5) node [below] {E};\n",
    "\\draw (1.4, 0) coordinate (C)\n",
    "  node [below right=2pt] {$\\sm{g}{m}v_\\pi$}\n",
    "  to [american controlled current source, bipoles/length=1cm] (C|-E) node [circ] {}\n",
    "  node [below right] {$\\sm{g}{m}=\\displaystyle\\frac{\\sm{I}{C}}{\\sm{V}{T}}$};\n",
    "\\draw (C) to [short, i<={\\sm{i}{c}}] ++(1.2, 0) coordinate (D)\n",
    "  to [R, l={$\\sm{r}{o}=\\displaystyle\\frac{\\sm{V}{A}}{\\sm{I}{C}}$}, bipoles/length=0.8cm] (D|-E)-- (E);\n",
    "\\draw (D) to [short, *-o] ++(0.5, 0) node [right] {C};"
   ]
  },
  {
   "cell_type": "markdown",
   "id": "852e6a50-9689-4100-946b-bab0eb1d38b7",
   "metadata": {
    "editable": true,
    "slideshow": {
     "slide_type": ""
    },
    "tags": []
   },
   "source": [
    "**跨导 Transconduance** $\\sm{g}{m}$\n",
    "\n",
    "如果基极电压改变了 $\\Delta \\lv{BE}$，那么集电极电流将改变 $\\Delta \\li{C}$，跨导 $\\sm{g}{m}$ 表示二者的比值，$\\sm{g}{m}$ 越大，表明相同 $\\Delta \\lv{BE}$ 下 $\\Delta \\li{C}$ 越大，也就是电流的放大能力越大。\n",
    "\n",
    "$\\sm{g}{m}=\\dfrac{\\Delta \\li{C}}{\\Delta \\lv{BE}} = \\dfrac{\\mathrm{d}\\, \\ui{S}\\exp \\dfrac{\\lv{BE}}{\\uv{T}}}{\\mathrm{d}\\, \\lv{BE}} = \\dfrac{1}{\\uv{T}}\\ui{S}\\exp \\dfrac{\\uv{BEQ}}{\\uv{T}} = \\dfrac{\\ui{CQ}}{\\uv{T}}$\n",
    "\n",
    "可见对于 BJT 来说，$\\sm{g}{m}$ 只跟 $\\ui{CQ}$ 和温度 $T$ 有关，$\\sm{g}{m} \\propto \\ui{CQ}$，$\\sm{g}{m} \\propto \\dfrac{1}{T}$。\n",
    "温度越高 $\\sm{g}{m}$ 越小，为了维持 $\\sm{g}{m}$ 稳定，有时需要设法让 $\\ui{CQ} \\propto T$ 。"
   ]
  },
  {
   "cell_type": "code",
   "execution_count": 5,
   "id": "0e58d268-bc74-4ad2-aede-28a46c68593e",
   "metadata": {
    "editable": true,
    "slideshow": {
     "slide_type": ""
    },
    "tags": []
   },
   "outputs": [
    {
     "data": {
      "text/plain": [
       "{'@q[ic]': array([0.0006]),\n",
       " '@q[gm]': array([0.02319308]),\n",
       " 'vb#branch': array([-5.67033991e-06]),\n",
       " 'b': array([0.7]),\n",
       " 'c': array([8.25772105])}"
      ]
     },
     "execution_count": 5,
     "metadata": {},
     "output_type": "execute_result"
    }
   ],
   "source": [
    "ng.circ('''\n",
    "  Q  c b 0 NPN\n",
    "  Ic 0 c 600u\n",
    "  Vb b 0 0.7V\n",
    "  .model NPN NPN(IS=1fA BF=100 VAF=130)\n",
    "  .save all @q[gm] @q[ic]\n",
    "''')\n",
    "ng.operating_point()\n",
    "# print_op()"
   ]
  },
  {
   "cell_type": "code",
   "execution_count": 13,
   "id": "1f3ba771-bc9f-4bda-aff9-df4928ac091b",
   "metadata": {
    "editable": true,
    "slideshow": {
     "slide_type": ""
    },
    "tags": []
   },
   "outputs": [
    {
     "name": "stdout",
     "output_type": "stream",
     "text": [
      "gm 23.1931 mS (SPICE)\n",
      "gm 23.1974 mS (EM)\n",
      "Delta gm 4.362405127682212e-06\n"
     ]
    }
   ],
   "source": [
    "Is = 1e-15\n",
    "Vbe = 0.7\n",
    "Ic = 0.6e-3\n",
    "gm = Ic / Vt\n",
    "gm2 = ng.vector('@q[gm]')[0]\n",
    "print('gm %.4f mS (SPICE)' % (gm2 * 1e3))\n",
    "print('gm %.4f mS (EM)' % (gm * 1e3))\n",
    "print('Delta gm', gm - gm2)"
   ]
  },
  {
   "cell_type": "markdown",
   "id": "63bfb469-5bdb-4f2f-b734-a651fbb1569c",
   "metadata": {
    "editable": true,
    "slideshow": {
     "slide_type": ""
    },
    "tags": []
   },
   "source": [
    "**输入阻抗 Input impedance** $r_\\pi$，国内教材一般用 $\\sm{r}{be}$ 或 $\\sm{r}{b'e}$ 表示。\n",
    "\n",
    "如果基极电压改变了 $\\Delta \\lv{BE}$ 那么基极电流改变 $\\Delta \\li{B}$\n",
    "\n",
    "$r_\\pi = \\dfrac{\\Delta \\lv{BE}}{\\Delta \\li{B}}= \\dfrac{\\uv{T}}{\\ui{B}}$\n",
    "\n",
    "$r_\\pi = \\dfrac{\\beta\\, \\uv{T}}{\\ui{C0}}$\n",
    "\n",
    "$r_\\pi = \\dfrac{\\beta}{\\sm{g}{m}}$ when ignoring Early effects.\n"
   ]
  },
  {
   "cell_type": "code",
   "execution_count": 15,
   "id": "c2c56204-d18c-4ac5-b10e-e37f0c6ceea2",
   "metadata": {
    "editable": true,
    "slideshow": {
     "slide_type": ""
    },
    "tags": []
   },
   "outputs": [
    {
     "name": "stdout",
     "output_type": "stream",
     "text": [
      "rpi 4561.434849083085\n"
     ]
    }
   ],
   "source": [
    "Is = 1e-15\n",
    "Vbe = 0.7\n",
    "beta = 100\n",
    "Ib = Is / beta * exp(Vbe / Vt)\n",
    "\n",
    "print('rpi', Vt / Ib)"
   ]
  },
  {
   "cell_type": "code",
   "execution_count": 6,
   "id": "f6667e27-5e5e-4302-b36b-d35d48634586",
   "metadata": {
    "editable": true,
    "slideshow": {
     "slide_type": ""
    },
    "tags": []
   },
   "outputs": [
    {
     "data": {
      "text/plain": [
       "{'@q[ic]': array([0.0006]),\n",
       " '@q[gm]': array([0.02319308]),\n",
       " 'output_impedance_at_V(c)': array([229262.76933649]),\n",
       " 'vb#Input_impedance': array([4561.32411062]),\n",
       " 'Transfer_function': array([-5317.31043354])}"
      ]
     },
     "execution_count": 6,
     "metadata": {},
     "output_type": "execute_result"
    }
   ],
   "source": [
    "ng.cmd('tf v(c) vb')\n",
    "ng.vectors()"
   ]
  },
  {
   "cell_type": "markdown",
   "id": "6ef3de99-026a-412b-898d-f423ba3371a1",
   "metadata": {
    "editable": true,
    "slideshow": {
     "slide_type": ""
    },
    "tags": []
   },
   "source": [
    "以上可见 $r_\\pi$ 的计算结果与 SPICE 非常接近。\n",
    "\n",
    "* $r_\\pi \\propto \\beta$，$\\beta$ 越大，$r_\\pi$ 越大。\n",
    "* $r_\\pi \\propto \\dfrac{1}{\\ui{CQ}}$，$\\ui{CQ}$ 越小，$r_\\pi$ 越大。\n",
    "\n",
    "$\\ui{CQ}$ 同时控制 $\\sm{g}{m}$ 和 $r_\\pi$，\n",
    "假设 $\\beta=100$, $\\uv{T}=26$mV，$\\uv{A}=130$V，下表是不同 $\\ui{C}$ 对应的 $\\sm{g}{m}$ 与 $r_\\pi$.\n",
    "\n",
    "| $\\ui{C}$ | $\\sm{g}{m}$ | $r_\\pi$ | $\\sm{r}{o}$ |\n",
    "| --- | --- | --- | --- |\n",
    "| 10μA | 1/2600 $\\Omega^{-1}$ | 260 kΩ | 13 MΩ |\n",
    "| 100μA | 1/260 $\\Omega^{-1}$ | 26 kΩ | 1.3 MΩ | \n",
    "| 1mA | 1/26 $\\Omega^{-1}$ | 2.6 kΩ | 130 kΩ |\n",
    "| 10mA | 1/2.6 $\\Omega^{-1}$ | 260 Ω | 13 kΩ |\n",
    "\n",
    "所以，增益（跨导）和输入阻抗是一对矛盾，不可兼得。对于输入级，往往先满足输入阻抗，牺牲掉部分增益，然后靠中间级把增益补回来。"
   ]
  },
  {
   "cell_type": "markdown",
   "id": "97c4b21c-994a-4f06-b312-dbf10044108e",
   "metadata": {},
   "source": [
    "**输出阻抗 Output impedance** $\\sm{r}{o}$，国内教材一般用 $\\sm{r}{ce}$.\n",
    "\n",
    "$\\sm{r}{o} = \\dfrac{\\uv{A}}{\\ui{C}}$ for $\\ui{C}|_{\\uv{BC}=0}$"
   ]
  },
  {
   "cell_type": "code",
   "execution_count": 8,
   "id": "07182ef6-8376-4677-acad-35ab22707141",
   "metadata": {
    "editable": true,
    "slideshow": {
     "slide_type": ""
    },
    "tags": []
   },
   "outputs": [
    {
     "name": "stdout",
     "output_type": "stream",
     "text": [
      "ro 229262.769 (SPICE)\n",
      "ro 229262.878 (EM)\n"
     ]
    }
   ],
   "source": [
    "Is = 1e-15\n",
    "Vbe = 0.7\n",
    "Vaf = 130\n",
    "Ic = Is * exp(Vbe / Vt)\n",
    "ro = Vaf / Ic\n",
    "print('ro %.3f (SPICE)' % (ng.vector('output_impedance_at_V(c)')[0]))\n",
    "print('ro %.3f (EM)' % ro)"
   ]
  },
  {
   "cell_type": "markdown",
   "id": "e9507b10-017a-47e4-903f-c718362c02dc",
   "metadata": {},
   "source": [
    "**本征增益 Intrinsic gain** $A_0 = \\sm{g}{m}\\,\\sm{r}{o} = \\dfrac{\\ui{C}}{\\uv{T}}\\cdot \\dfrac{\\uv{A}}{\\ui{C}} = \\dfrac{\\uv{A}}{\\uv{T}}$\n",
    "\n",
    "计算结果与 SPICE 有较大误差。"
   ]
  },
  {
   "cell_type": "code",
   "execution_count": 10,
   "id": "217d49b4-8424-4e1d-a9c1-c44efc55314f",
   "metadata": {},
   "outputs": [
    {
     "name": "stdout",
     "output_type": "stream",
     "text": [
      "A0 -5317.310 (SPICE)\n",
      "A0 -5026.113 (EM)\n"
     ]
    }
   ],
   "source": [
    "print('A0 %.3f (SPICE)' % (ng.vector('Transfer_function')[0]))\n",
    "print('A0 -%.3f (EM)' % (Vaf/Vt))"
   ]
  },
  {
   "cell_type": "markdown",
   "id": "35a8b542-e61d-46e0-b4ea-0ee2350f5ce5",
   "metadata": {},
   "source": [
    "原因在于，$\\sm{g}{m}=\\dfrac{\\ui{C}}{\\uv{T}}$ 而 $\\sm{r}{o} = \\dfrac{\\uv{A}}{\\ui{C0}}$，经过 Early effect 修正之后就接近多了。"
   ]
  },
  {
   "cell_type": "code",
   "execution_count": 9,
   "id": "7679ce4c-358c-431a-aba1-dba45fd647d2",
   "metadata": {},
   "outputs": [
    {
     "name": "stdout",
     "output_type": "stream",
     "text": [
      "5318.312828657016\n"
     ]
    }
   ],
   "source": [
    "Va = 130\n",
    "Vcb = 8.25772 - 0.7\n",
    "print(Va/Vt*(1 + Vcb / Va))"
   ]
  },
  {
   "cell_type": "markdown",
   "id": "2e772e64-9ea1-4ce8-af16-b78116f9aac4",
   "metadata": {
    "editable": true,
    "slideshow": {
     "slide_type": ""
    },
    "tags": []
   },
   "source": [
    "## Emitter follower 射极跟随器\n",
    "\n",
    "主要起阻抗变换的作用，\n",
    "\n",
    "* 输入阻抗高 $\\sm{R}{in} = r_\\pi + (1+\\beta)\\sm{R}{E}$，相当于把负载 $\\sm{R}{E}$ 至少放大了 $\\beta+1$ 倍\n",
    "* 输出阻抗低 $\\sm{r}{e} = \\dfrac{\\uv{T}}{\\ui{E}}=\\dfrac{\\alpha}{\\sm{g}{m}}$.（$\\ui{E}=1$mA 时约为二三十 $\\Omega$）"
   ]
  },
  {
   "cell_type": "code",
   "execution_count": 33,
   "id": "1466d0f2-dbfe-448b-842b-c7398f46a223",
   "metadata": {
    "editable": true,
    "slideshow": {
     "slide_type": ""
    },
    "tags": [
     "hide_code"
    ]
   },
   "outputs": [
    {
     "data": {
      "image/png": "[encoded data removed]"
     },
     "metadata": {},
     "output_type": "display_data"
    }
   ],
   "source": [
    "%%tikz -ct\n",
    "\\ctikzset{european resistors, transistors/arrow pos=end, transistors/fill=cyan!20}\n",
    "\\newcommand{\\li}[1]{\\ensuremath{i_\\mathrm{#1}}}\n",
    "    \n",
    "\\draw (0, 0) node [left] {Vin}\n",
    "to [short, o-, i=$\\li{B}$] ++(0.7, 0)\n",
    "node [npn, tr circle, anchor=B] (Q) {NPN};\n",
    "\\draw (Q.C) to [short,i<=$\\li{C}$] ++(0, 0.5) node [vcc] {Vcc};\n",
    "\n",
    "\\draw (Q.E) to [short] ++(0, -0.3) to [short, -o] ++(0.5, 0) node [above] {\\quad Vout}\n",
    "to [R, l=$R_\\mathrm{E}$, bipoles/length=1cm] ++(0, -1.5) node [tlground] {};\n",
    "\\draw (Q.E) node [currarrow, rotate=-90] {} node [left] {$\\li{E}$};\n",
    "\n",
    "\\draw [->] (0, -1.5) node [below] {$R_\\mathrm{i}$} to ++(0, 1) to ++(0.5, 0);\n",
    "\\draw [->] (3.2, -2.1) node [below] {$R_\\mathrm{o}$} to ++(0, 1) to ++(-0.5, 0);"
   ]
  },
  {
   "cell_type": "code",
   "execution_count": 12,
   "id": "1afead01-a7e3-4bfb-9500-5692935e32e1",
   "metadata": {},
   "outputs": [
    {
     "name": "stdout",
     "output_type": "stream",
     "text": [
      "    @q[gm] =   38.299 mS\n",
      "    @q[ie] =   -1.001 mA\n",
      "         b =   5.7000 V\n",
      "         c =  10.0000 V\n",
      "         e =   4.9856 V\n",
      " vb#branch =   -9.872 uA\n",
      " vc#branch = -987.242 uA\n"
     ]
    },
    {
     "data": {
      "text/plain": [
       "{'@q[ie]': array([-0.00100051]),\n",
       " '@q[gm]': array([0.03829897]),\n",
       " 'output_impedance_at_V(e)': array([25.71886983]),\n",
       " 'vb#Input_impedance': array([507610.77745333]),\n",
       " 'Transfer_function': array([0.99485623])}"
      ]
     },
     "execution_count": 12,
     "metadata": {},
     "output_type": "execute_result"
    }
   ],
   "source": [
    "ng.circ('''\n",
    "  Q  c b e NPN\n",
    "  Vc c 0  10V\n",
    "  Vb b 0 5.7V\n",
    "  Re e 0 5000\n",
    "  .model NPN NPN(IS=1fA BF=100)\n",
    "  .save all @q[gm] @q[ie]\n",
    "''')\n",
    "#ng.operating_point()\n",
    "print_op(1, 1)\n",
    "ng.cmd('tf v(e) vb')\n",
    "ng.vectors()"
   ]
  },
  {
   "cell_type": "code",
   "execution_count": 16,
   "id": "7d468809-831e-44bb-aba1-18c82d40f848",
   "metadata": {},
   "outputs": [
    {
     "name": "stdout",
     "output_type": "stream",
     "text": [
      "Rout 25.93976829667387\n",
      "Rin 507619.91659796407\n",
      "Av 0.9948388222914448\n"
     ]
    }
   ],
   "source": [
    "Ic = 987.242e-6\n",
    "Ie = Ic * 1.01\n",
    "re = Vt/Ie\n",
    "print('Rout', re)\n",
    "\n",
    "beta = 100\n",
    "gm = Ic / Vt\n",
    "rpi = beta / gm\n",
    "Re = 5e3\n",
    "Rin = rpi + (1 + beta) * Re\n",
    "print('Rin', Rin)\n",
    "\n",
    "Av = Re / (Re + re)\n",
    "print('Av', Av)"
   ]
  },
  {
   "cell_type": "markdown",
   "id": "8159f346-912d-4948-a860-79e6cba17b0b",
   "metadata": {},
   "source": [
    "可见计算结果与 SPICE 基本符合"
   ]
  },
  {
   "cell_type": "code",
   "execution_count": 36,
   "id": "3c2f79e6-f920-467d-9c2e-e74d11569c73",
   "metadata": {},
   "outputs": [
    {
     "name": "stdout",
     "output_type": "stream",
     "text": [
      "    @q[gm] =   38.277 mS\n",
      "         b =   5.7000 V\n",
      "         c =  10.0000 V\n",
      "         e =   4.9877 V\n",
      " vb#branch =   -9.102 uA\n",
      " vc#branch = -988.440 uA\n"
     ]
    },
    {
     "data": {
      "text/plain": [
       "{'@q[gm]': array([0.03827686]),\n",
       " 'output_impedance_at_V(e)': array([25.74153427]),\n",
       " 'vb#Input_impedance': array([504795.13692927]),\n",
       " 'Transfer_function': array([0.99438214])}"
      ]
     },
     "execution_count": 36,
     "metadata": {},
     "output_type": "execute_result"
    }
   ],
   "source": [
    "ng.circ('''\n",
    "  Q  c b e NPN\n",
    "  Vc c 0  10V\n",
    "  Vb b 0 5.7V\n",
    "  Re e 0 5000\n",
    "  .model NPN NPN(IS=1fA BF=100 VAF=50)\n",
    "  .save all @q[gm]\n",
    "''')\n",
    "#ng.operating_point()\n",
    "print_op()\n",
    "ng.cmd('tf v(e) vb')\n",
    "ng.vectors()"
   ]
  },
  {
   "cell_type": "markdown",
   "id": "2abe9c76-4b60-4bbd-a861-2107a81ea597",
   "metadata": {
    "editable": true,
    "slideshow": {
     "slide_type": ""
    },
    "tags": []
   },
   "source": [
    "### Active load\n",
    "\n",
    "$R_1 < \\sm{R}{L}$ 才能保证 Vout 可以低到 Vee + 0.7V."
   ]
  },
  {
   "cell_type": "code",
   "execution_count": 36,
   "id": "fe08c110-cfb7-476a-831d-71e50ca81627",
   "metadata": {
    "editable": true,
    "slideshow": {
     "slide_type": ""
    },
    "tags": [
     "hide_code"
    ]
   },
   "outputs": [
    {
     "data": {
      "image/png": "[encoded data removed]"
     },
     "metadata": {},
     "output_type": "display_data"
    }
   ],
   "source": [
    "%%tikz -ct\n",
    "\n",
    "\\ctikzset{transistors/arrow pos=end, american currents, american voltages, european resistors}\n",
    "\n",
    "\\draw (0, 0) node [npn] (Q1) {Q1};\n",
    "\\draw (Q1.C) node [vcc] {Vcc};\n",
    "\\draw (Q1.E) to [short, *-o] ++(0.5, 0) node [right] {Vout};\n",
    "\\draw (Q1.E) to [short] ++(0, -0.6)\n",
    "  node [npn, anchor=C] (Q2) {Q2};\n",
    "\\draw (Q2.B) node [circ] {} node [npn, anchor=B, xscale=-1] (Q3) {\\ctikzflipx{Q3}};\n",
    "\\draw (Q3.C) to [short, *-] ++(0, 0.6)\n",
    "  to [R, l={$R_1$}, bipoles/length=1.2cm] ++(-1.5, 0)\n",
    "  coordinate (L)\n",
    "  node [sground] {};\n",
    "\\draw (Q3.E -| Q3.B) node [circ] {} node [vee] {Vee};\n",
    "\\draw (Q3.E) -- (Q2.E);\n",
    "\\draw (Q3.C) -| (Q3.B);\n",
    "\\draw (Q1.B) to [short, -o] (Q1.B-|L) node [left] {Vin};\n",
    "\\draw (Q2.C) node [currarrow, rotate=-90] {} node [right] {$I_2$};"
   ]
  },
  {
   "cell_type": "markdown",
   "id": "8ba57e7e-961c-4b15-a235-69b1b89d47f9",
   "metadata": {},
   "source": [
    "### Push-pull\n",
    "\n",
    "$\\uv{BE}$ 倍增电路有多种实现\n",
    "https://www.hagtech.com/pdf/vbe.pdf\n",
    "\n",
    "用两个二极管是最基础的方案，常出现在教材上。"
   ]
  },
  {
   "cell_type": "code",
   "execution_count": 23,
   "id": "d10833bb-f47f-4c35-80ea-e46da0541838",
   "metadata": {
    "editable": true,
    "slideshow": {
     "slide_type": ""
    },
    "tags": [
     "hide_code"
    ]
   },
   "outputs": [
    {
     "data": {
      "image/png": "[encoded data removed]"
     },
     "metadata": {},
     "output_type": "display_data"
    }
   ],
   "source": [
    "%%tikz -ct\n",
    "\n",
    "\\ctikzset{transistors/arrow pos=end, american currents, american voltages, european resistors}\n",
    "\n",
    "\\draw (0, 0) node [npn] (Q1) {Q1};\n",
    "% \\draw (Q1.C) node [vcc] {Vcc};\n",
    "\\draw (Q1.B) to [short, -*] ++(-0.3, 0)\n",
    "  to [short] ++(0, -0.2)\n",
    "  to [D, bipoles/length=1cm] ++(0, -1)\n",
    "  coordinate (OUT)\n",
    "  to [D, bipoles/length=1cm] ++(0, -1)\n",
    "  to [short] ++(0, -0.2)\n",
    "  to [short, *-] ++(0.3, 0)\n",
    "  node [pnp, anchor=B] (Q2) {Q2};\n",
    "\\draw (Q1.B) ++(-0.3, 0) to [I, invert, bipoles/length=1.2cm] ++(0, 1.5)\n",
    "  coordinate (T) -| (Q1.C);\n",
    "\\draw (OUT|-Q2.B) to [short, -o] ++(-0.5, 0) node [left] {Vin};\n",
    "\\draw (T-|Q1.C) node [circ] {} node [vcc] {Vcc};\n",
    "\\draw (Q2.C) node [vee] {Vee};\n",
    "\\draw (Q1.E) -- (Q2.E);\n",
    "\\draw (Q1.E |- OUT) to [short, *-o] ++(0.5, 0) node [right] {Vout};"
   ]
  },
  {
   "cell_type": "markdown",
   "id": "ec9d6351-0778-40f4-9409-8213cbb276f0",
   "metadata": {},
   "source": [
    "Vbe 倍增电路也很常见 https://en.wikipedia.org/wiki/Rubber_diode\n",
    "\n",
    "例如在 LM741 中，$R_1=4.5$kΩ, $R_2=7.5$kΩ"
   ]
  },
  {
   "cell_type": "code",
   "execution_count": 15,
   "id": "64304bd1-d37a-4a5d-9c16-d76fab98d63b",
   "metadata": {
    "editable": true,
    "slideshow": {
     "slide_type": ""
    },
    "tags": [
     "hide_code"
    ]
   },
   "outputs": [
    {
     "data": {
      "image/png": "[encoded data removed]"
     },
     "metadata": {},
     "output_type": "display_data"
    }
   ],
   "source": [
    "%%tikz -ct -p amsmath\n",
    "\\ctikzset{transistors/arrow pos=end, american currents, american voltages, european resistors}\n",
    "\n",
    "\\draw (0, 0) node [npn] (Q1) {};\n",
    "\\draw (Q1.B) to [short, -*] ++(-0.5, 0)\n",
    "  coordinate (B);\n",
    "\\draw (B) to [vR, mirror, l={$R_1$}, bipoles/length=1cm] ++(0, 1.5) coordinate (T) -| (Q1.C);\n",
    "\\draw (B) to [R, l_={$R_2$}, bipoles/length=1cm] ++(0, -1.5) coordinate (G) -| (Q1.E);\n",
    "\\draw (T-|Q1.C) to [short, *-o] ++(0, 0.5);\n",
    "\\draw (G-|Q1.E) to [short, *-o] ++(0, -0.5);\n",
    "\\draw (Q1) node [right] {$V_\\mathrm{CE}\\approx\\dfrac{R_1+R_2}{R_2}V_\\mathrm{BE}$};"
   ]
  },
  {
   "cell_type": "markdown",
   "id": "1463bc82-bb3f-45be-aeff-9bd22681fee2",
   "metadata": {},
   "source": [
    "用两个三极管也行，在 µA741 中，R1 是 50kΩ，这个电阻决定了 Q1 的偏置电流 $I_\\mathrm{C1}\\approx 0.7\\mathrm{V} / R_1 = 14$μA."
   ]
  },
  {
   "cell_type": "code",
   "execution_count": 20,
   "id": "1fb9b54f-0cd2-4a59-bb78-bd2b83a51109",
   "metadata": {
    "editable": true,
    "slideshow": {
     "slide_type": ""
    },
    "tags": [
     "hide_code"
    ]
   },
   "outputs": [
    {
     "data": {
      "image/png": "[encoded data removed]"
     },
     "metadata": {},
     "output_type": "display_data"
    }
   ],
   "source": [
    "%%tikz -ct -p amsmath\n",
    "\\ctikzset{transistors/arrow pos=end, american currents, american voltages, european resistors}\n",
    "\n",
    "\\draw (0, 0) node [npn] (Q1) {};\n",
    "\\draw (Q1.B) to [short, -*] ++(-0.5, 0)\n",
    "  coordinate (B);\n",
    "%\\draw (B) to [vR, mirror, l={$R_1$}, bipoles/length=1cm] ++(0, 1.5) coordinate (T) -| (Q1.C);\n",
    "\\draw (B) node [npn, anchor=E] (Q2) {Q1};\n",
    "\\draw (Q2.B) |- (Q2.C) node [circ] {};\n",
    "\\draw (Q2.C) -| (Q1.C);\n",
    "\n",
    "\\draw (B) to [R, l_={$R_1$}, bipoles/length=1cm] ++(0, -1.5) coordinate (G) -| (Q1.E);\n",
    "\\draw (Q2.C -| Q1.C) to [short, *-o] ++(0, 0.5);\n",
    "\\draw (G-|Q1.E) to [short, *-o] ++(0, -0.5);\n",
    "\\draw (Q1) node [right] {$V_\\mathrm{CE}\\approx 2 V_\\mathrm{BE}$};"
   ]
  },
  {
   "cell_type": "markdown",
   "id": "d745bab5-a412-4525-92c2-f7e51dced406",
   "metadata": {},
   "source": [
    "有时会画成背靠背的形式，电路其实是完全一样的。"
   ]
  },
  {
   "cell_type": "code",
   "execution_count": 24,
   "id": "2112a75d-eb0f-423c-b4f3-dc2f9a24fdcb",
   "metadata": {
    "editable": true,
    "slideshow": {
     "slide_type": ""
    },
    "tags": [
     "hide_code"
    ]
   },
   "outputs": [
    {
     "data": {
      "image/png": "[encoded data removed]"
     },
     "metadata": {},
     "output_type": "display_data"
    }
   ],
   "source": [
    "%%tikz -ct -p amsmath\n",
    "\\ctikzset{transistors/arrow pos=end, american currents, american voltages, european resistors}\n",
    "\n",
    "\\draw (0, 0) node [npn] (Q1) {};\n",
    "\\draw (Q1.B) to [short, -*] ++(-0.5, 0)\n",
    "  coordinate (B);\n",
    "\\draw (B) node [npn, anchor=E, xscale=-1] (Q2) {\\ctikzflipx{Q1}};\n",
    "\\draw (Q2.B) to [short, -*] (Q1.C);\n",
    "\\draw (Q2.C) -| (Q1.C);\n",
    "\n",
    "\\draw (B) to [R, l_={$R_1$}, bipoles/length=1cm] ++(0, -1.5) coordinate (G) -| (Q1.E);\n",
    "\\draw (Q2.C -| Q1.C) to [short, *-o] ++(0, 0.5);\n",
    "\\draw (G-|Q1.E) to [short, *-o] ++(0, -0.5);\n",
    "\\draw (Q1) node [right] {$V_\\mathrm{CE}\\approx 2 V_\\mathrm{BE}$};"
   ]
  },
  {
   "cell_type": "markdown",
   "id": "51c8d2e8-8e4e-4e3b-ab26-df3973c8f171",
   "metadata": {
    "editable": true,
    "slideshow": {
     "slide_type": ""
    },
    "tags": []
   },
   "source": [
    "Vbe 抵消的另一种方案，Q3 抵消 Q1，Q4 抵消 Q2."
   ]
  },
  {
   "cell_type": "code",
   "execution_count": 40,
   "id": "8967a798-5e5d-4630-aaea-b7b09efafe8d",
   "metadata": {
    "editable": true,
    "slideshow": {
     "slide_type": ""
    },
    "tags": [
     "hide_code"
    ]
   },
   "outputs": [
    {
     "data": {
      "image/png": "[encoded data removed]"
     },
     "metadata": {},
     "output_type": "display_data"
    }
   ],
   "source": [
    "%%tikz -ct\n",
    "\\ctikzset{transistors/arrow pos=end, american currents, american voltages, european resistors}\n",
    "\n",
    "\\draw (0, 0) node [npn] (Q1) {Q1};\n",
    "\n",
    "\\draw (Q1.B) to [short, -*] ++(-1.5, 0)\n",
    "  node [pnp, anchor=E] (Q3) {Q3};\n",
    "\\draw (Q3.E) to [R, bipoles/length=1cm] ++(0, 1.5)\n",
    "  coordinate (T) -| (Q1.C);\n",
    "\\draw (T-|Q1.C) node [circ] {} node [vcc] {Vcc};\n",
    "\n",
    "\n",
    "\\draw (Q3.C) ++(0, -0.5) coordinate (M);\n",
    "\\draw (M) ++(0, -0.5)\n",
    "  node [npn, anchor=C] (Q4) {Q4};\n",
    "\\draw (Q4.E) to [short, *-] ++(1.5, 0)\n",
    "  node [pnp, anchor=B] (Q2) {Q2};\n",
    "\\draw (Q4.E) to [R, bipoles/length=1cm] ++(0, -1.5)\n",
    "  coordinate (G) -| (Q2.C);\n",
    "\\draw (G-|Q2.C) node [circ] {} node [vee] {Vee};\n",
    "\\draw (Q4.C) to [short] ++(1, 1) coordinate (Q4C) to [short, -*] (Q4C|-T); \n",
    "\\draw (Q3.C) to [short] ++(1, -1) coordinate (Q3C) to [short, -*] (Q3C|-G); \n",
    "\n",
    "\\draw (Q1.E) to [short] (Q2.E);\n",
    "\\draw (Q1.E |- M) to [short, *-o] ++(0.8, 0) node [right] {Vout};\n",
    "\n",
    "\\draw (Q3.B) to (Q4.B);\n",
    "\\draw (Q3.B |- M) to [short, *-o] ++(-0.8, 0) node [left] {Vin};"
   ]
  },
  {
   "cell_type": "markdown",
   "id": "db0a5551-c221-4236-8a53-702572a22916",
   "metadata": {},
   "source": [
    "## Current sources 电流源"
   ]
  },
  {
   "cell_type": "markdown",
   "id": "b0af3cf5-992d-4d94-a96b-e59fcb5a6b46",
   "metadata": {
    "editable": true,
    "slideshow": {
     "slide_type": ""
    },
    "tags": []
   },
   "source": [
    "### Current mirror 镜像电流源\n",
    "\n",
    "$\\ui{out}=\\dfrac{1}{1+2/\\beta}\\ui{ref}\\approx\\ui{ref}$"
   ]
  },
  {
   "cell_type": "code",
   "execution_count": 25,
   "id": "357717d2-4345-4e2f-9a99-313c49f24417",
   "metadata": {
    "editable": true,
    "slideshow": {
     "slide_type": ""
    },
    "tags": [
     "hide_code"
    ]
   },
   "outputs": [
    {
     "data": {
      "image/png": "[encoded data removed]"
     },
     "metadata": {},
     "output_type": "display_data"
    }
   ],
   "source": [
    "%%tikz -ct\n",
    "\\newcommand{\\ui}[1]{\\ensuremath{I_\\mathrm{#1}}}\n",
    "\n",
    "\\ctikzset{american voltages, american currents, european resistors}\n",
    "\\ctikzset{transistors/arrow pos=end, transistors/fill=cyan!20}\n",
    "\\draw (0, 0) node [npn, xscale=-1] (Q1) {\\ctikzflipx{Q1}};\n",
    "\\draw (Q1.B) node [npn, anchor=B] (Q2) {Q2};\n",
    "\\draw (Q1.E) -- (Q2.E);\n",
    "\\draw (Q1.B |- Q1.E) node [circ] {} node [sground] {};\n",
    "\\draw (Q1.B) node [circ] {} |- (Q1.C) node [circ] {};\n",
    "\\draw (Q1.C) to [I, invert, l={\\ui{ref}}, bipoles/length=1cm] ++(0, 1.5);\n",
    "\\draw [dashed] (Q2.C) to [short] ++(0, 1) node [right] {\\ui{out}};\n",
    "\\draw (Q2.C) ++(0, 0.5) node [currarrow, rotate=-90] {};"
   ]
  },
  {
   "cell_type": "code",
   "execution_count": 17,
   "id": "5d653669-ed9c-427b-869c-81862ac19e5e",
   "metadata": {
    "editable": true,
    "slideshow": {
     "slide_type": ""
    },
    "tags": []
   },
   "outputs": [
    {
     "name": "stdout",
     "output_type": "stream",
     "text": [
      "@ir[current] = 1000.000 uA\n",
      "   @q1[ib] =    9.804 uA\n",
      "   @q1[ic] =  980.398 uA\n",
      "   @q2[ib] =    9.804 uA\n",
      "   @q2[ic] =  980.398 uA\n",
      "         b =   0.6962 V\n",
      "         c =   5.0000 V\n",
      " v1#branch = -980.392 uA\n"
     ]
    }
   ],
   "source": [
    "# VAF = ∞\n",
    "ng.circ('''\n",
    "  Q1  b  b  0  NPN\n",
    "  Q2  c  b  0  NPN\n",
    "  Ir  0  b     1mA\n",
    "  V1  c  0     5V\n",
    "  .model NPN NPN(IS=2fA BF=100)\n",
    "  .options savecurrents\n",
    "''')\n",
    "print_op()"
   ]
  },
  {
   "cell_type": "code",
   "execution_count": 60,
   "id": "70f5c6ef-6752-429e-b08a-02fe5fda6cbf",
   "metadata": {
    "editable": true,
    "slideshow": {
     "slide_type": ""
    },
    "tags": []
   },
   "outputs": [
    {
     "name": "stdout",
     "output_type": "stream",
     "text": [
      "0.9803921568627451\n"
     ]
    }
   ],
   "source": [
    "beta = 100\n",
    "Iref = 1\n",
    "print(Iref / (1 + 2 / beta))"
   ]
  },
  {
   "cell_type": "markdown",
   "id": "1629a731-2c2c-4fd4-828f-30eaff8bfad1",
   "metadata": {
    "editable": true,
    "slideshow": {
     "slide_type": ""
    },
    "tags": []
   },
   "source": [
    "电流源的输出阻抗与 $\\uv{A}$ 直接相关，因此 Early 效应不可忽视。"
   ]
  },
  {
   "cell_type": "code",
   "execution_count": 18,
   "id": "e21c1c43-1404-44c7-8e08-b3efc68de959",
   "metadata": {
    "editable": true,
    "slideshow": {
     "slide_type": ""
    },
    "tags": []
   },
   "outputs": [
    {
     "name": "stdout",
     "output_type": "stream",
     "text": [
      "@ir[current] = 1000.000 uA\n",
      "   @q1[ib] =    9.804 uA\n",
      "   @q1[ic] =  980.398 uA\n",
      "   @q2[ib] =    9.804 uA\n",
      "   @q2[ic] =    1.013 mA\n",
      "         b =   0.6962 V\n",
      "         c =   5.0000 V\n",
      " v1#branch =   -1.013 mA\n"
     ]
    }
   ],
   "source": [
    "# VAF = 130\n",
    "ng.circ('''\n",
    "  Q1  b  b  0  NPN\n",
    "  Q2  c  b  0  NPN\n",
    "  Ir  0  b     1mA\n",
    "  V1  c  0     5V\n",
    "  .model NPN NPN(IS=2fA BF=100 VAF=130)\n",
    "  .options savecurrents\n",
    "''')\n",
    "print_op()"
   ]
  },
  {
   "cell_type": "markdown",
   "id": "7e7a2527-0aa1-4329-a78b-7d1c4c7d7098",
   "metadata": {
    "editable": true,
    "slideshow": {
     "slide_type": ""
    },
    "tags": []
   },
   "source": [
    "输出阻抗 $\\sm{R}{o}=\\sm{r}{o}=\\dfrac{\\uv{A}}{\\ui{C}}=130$kΩ，SPICE 用考虑 Early 效应之前的 $\\ui{C0}=0.9804$mA 计算，因此略有出入."
   ]
  },
  {
   "cell_type": "code",
   "execution_count": 20,
   "id": "1b1e9724-87d2-41a0-a9f8-fe66227fa80e",
   "metadata": {
    "editable": true,
    "slideshow": {
     "slide_type": ""
    },
    "tags": []
   },
   "outputs": [
    {
     "name": "stdout",
     "output_type": "stream",
     "text": [
      "         b =   0.6962 V\n",
      "         c =   3.2962 V\n"
     ]
    },
    {
     "data": {
      "text/plain": [
       "{'output_impedance_at_V(c)': array([132599.94718414]),\n",
       " 'ir#Input_impedance': array([25.86491356]),\n",
       " 'Transfer_function': array([-132574.08140889])}"
      ]
     },
     "execution_count": 20,
     "metadata": {},
     "output_type": "execute_result"
    }
   ],
   "source": [
    "ng.circ('''\n",
    "  Q1  b  b  0  NPN\n",
    "  Q2  c  b  0  NPN\n",
    "  Ir  0  b     1mA\n",
    "  I2  0  c     1mA\n",
    "  .model NPN NPN(IS=2fA BF=100 VAF=130)\n",
    "''')\n",
    "print_op()\n",
    "ng.cmd('tf v(c) ir')\n",
    "ng.vectors()"
   ]
  },
  {
   "cell_type": "markdown",
   "id": "b8303027-bc08-4c8d-b8f3-b424ece7e74a",
   "metadata": {
    "editable": true,
    "slideshow": {
     "slide_type": ""
    },
    "tags": []
   },
   "source": [
    "集成电路中可以直接控制两个三极管的面积 Area 之比，实现比例电流源。\n",
    "\n",
    "$\\ui{out}\\approx\\dfrac{\\ui{S2}}{\\ui{S1}}\\ui{ref}=\\dfrac{A_2}{A_1}\\ui{ref}$"
   ]
  },
  {
   "cell_type": "code",
   "execution_count": 46,
   "id": "7a687aa1-85d0-40ce-9590-4b503d0be59c",
   "metadata": {
    "editable": true,
    "slideshow": {
     "slide_type": ""
    },
    "tags": [
     "hide_code"
    ]
   },
   "outputs": [
    {
     "data": {
      "image/png": "[encoded data removed]"
     },
     "metadata": {},
     "output_type": "display_data"
    }
   ],
   "source": [
    "%%tikz -ct -p amsmath\n",
    "\n",
    "\\ctikzset{american currents, american voltages, european resistors}\n",
    "\\ctikzset{diodes/fill=cyan!20, transistors/arrow pos=end, transistors/fill=cyan!20, amplifiers/fill=cyan!20}\n",
    "%\\ctikzset{bipoles/length=1cm};\n",
    "\\newcommand{\\ui}[1]{\\ensuremath{I_\\mathrm{#1}}}\n",
    "\\newcommand{\\li}[1]{\\ensuremath{i_\\mathrm{#1}}}\n",
    "\\newcommand{\\uv}[1]{\\ensuremath{V_\\mathrm{#1}}}\n",
    "\\newcommand{\\lv}[1]{\\ensuremath{v_\\mathrm{#1}}}\n",
    "\n",
    "\\draw (0, 0) node [npn, xscale=-1] (Q) {};\n",
    "\\draw (Q) node [above left] {$Q_1$};\n",
    "\\draw (Q) node [below left] {$\\mathrm{Area}=A_1$};\n",
    "\\draw (Q.C) to [short, i_<=\\li{C1}] ++(0, 0.1)\n",
    "  to [short, -*] ++(0, 0.3) coordinate (A);\n",
    "\\draw (Q.B) to [short] ++(0.3, 0) coordinate (B);\n",
    "\\draw (A) -- (A-|B) to [short, i={$\\li{B1}+\\li{B2}$}] (B);\n",
    "\\draw (Q.E) to [short, %i={$\\li{E1}=\\ui{S1}\\exp\\dfrac{\\lv{B}}{\\uv{T}}$},\n",
    "n=E] ++(0, -0.1)\n",
    "  node [ground] {} coordinate (K);\n",
    "%\\draw (A)++(0.3, 0.3) node [right] {$\\lv{B} = f(\\ui{ref})$};\n",
    "\n",
    "\\draw (A) %to [short, i<=\\ui{ref}] ++(0, 0.6)\n",
    "  to [I, invert, l={$\\ui{ref}$},bipoles/length=1cm] ++(0, 1.5);\n",
    "  %node [vcc] {Vcc};\n",
    "\\draw (B) to [short, *-] ++(0.8, 0) coordinate (VO)\n",
    "  node [below] {$\\lv{B}=\\uv{T}\\ln\\dfrac{\\li{C1}}{\\ui{S1}}$};\n",
    "\\draw (VO) to [short] ++(0.8, 0) coordinate (B);\n",
    "\\draw (B) node [npn, anchor=B] (Q2) {};\n",
    "\\draw (Q2) node [above right] {$Q_2$};\n",
    "\\draw (Q2) node [below right] {$A_2=1.5$};\n",
    "\\draw (Q2.E) to [short, % i={$\\li{E2}=\\ui{S2}\\exp\\dfrac{\\lv{B}}{\\uv{T}}$},\n",
    "n=E] ++(0, -0.1)\n",
    "  node [ground] {} coordinate (K);\n",
    "\\draw (Q2.C) to [short, -o, i_<={$\\ui{out}=\\li{C2}\\approx\\dfrac{\\ui{S2}}{\\ui{S1}}\\ui{ref}$}] ++(0, 1);"
   ]
  },
  {
   "cell_type": "code",
   "execution_count": 62,
   "id": "e604395d-766a-4f31-ab4d-f3e2ef2b0617",
   "metadata": {
    "editable": true,
    "slideshow": {
     "slide_type": ""
    },
    "tags": []
   },
   "outputs": [
    {
     "name": "stdout",
     "output_type": "stream",
     "text": [
      "@ir[current] = 1000.000 uA\n",
      "   @q1[ib] =    9.756 uA\n",
      "   @q1[ic] =  975.616 uA\n",
      "   @q2[ib] =   14.634 uA\n",
      "   @q2[ic] =    1.512 mA\n",
      "         b =   0.6961 V\n",
      "         c =   5.0000 V\n",
      " v1#branch =   -1.512 mA\n"
     ]
    }
   ],
   "source": [
    "# VAF = 130\n",
    "ng.circ('''\n",
    "  Q1  b  b  0  NPN\n",
    "  Q2  c  b  0  NPN   1.5\n",
    "  Ir  0  b     1mA\n",
    "  V1  c  0     5V\n",
    "  .model NPN NPN(IS=2fA BF=100 VAF=130)\n",
    "  .options savecurrents\n",
    "''')\n",
    "print_op()"
   ]
  },
  {
   "cell_type": "markdown",
   "id": "44b67daf-6f75-4135-86cc-5ae0bf5cf69d",
   "metadata": {
    "editable": true,
    "slideshow": {
     "slide_type": ""
    },
    "tags": []
   },
   "source": [
    "### Emitter resistor\n",
    "\n",
    "在发射极接电阻可以大大增加电流源的输出阻抗。\n",
    "\n",
    "国内教材一般以此电路来讲比例电流源，实际上集成电路中可以直接控制两个三极管的面积，实现比例电流。"
   ]
  },
  {
   "cell_type": "code",
   "execution_count": 34,
   "id": "4d2cb6e3-011b-440f-bab8-08330b758cd3",
   "metadata": {
    "editable": true,
    "slideshow": {
     "slide_type": ""
    },
    "tags": [
     "hide_code"
    ]
   },
   "outputs": [
    {
     "data": {
      "image/png": "[encoded data removed]"
     },
     "metadata": {},
     "output_type": "display_data"
    }
   ],
   "source": [
    "%%tikz -ct\n",
    "\\newcommand{\\ui}[1]{\\ensuremath{I_\\mathrm{#1}}}\n",
    "\n",
    "\\ctikzset{american voltages, american currents, european resistors}\n",
    "\\ctikzset{transistors/arrow pos=end, transistors/fill=cyan!20}\n",
    "\\draw (0, 0) node [npn, xscale=-1] (Q1) {\\ctikzflipx{Q1}};\n",
    "\\draw (Q1.B) node [npn, anchor=B] (Q2) {Q2};\n",
    "\\draw (Q1.E) to [R, l={$R_1$}, bipoles/length=0.8cm] ++(0, -0.8)\n",
    "  to [short] ++(0, -0.3) coordinate (G);\n",
    "\\draw (Q2.E) to [R, l={$R_2$}, bipoles/length=0.8cm] ++(0, -0.8) |- (G);\n",
    "\\draw (Q1.B |- G) node [circ] {} node [sground] {};\n",
    "\\draw (Q1.B) node [circ] {} |- (Q1.C) node [circ] {};\n",
    "\\draw (Q1.C) to [I, invert, l={\\ui{ref}}, bipoles/length=1cm] ++(0, 1.5);\n",
    "\\draw [dashed] (Q2.C) to [short] ++(0, 1) node [above] {\\ui{out}};\n",
    "\\draw (Q2.C) ++(0, 0.5) node [currarrow, rotate=-90] {};\n"
   ]
  },
  {
   "cell_type": "markdown",
   "id": "71d17dc9-13bc-478a-b923-26f9a32d3898",
   "metadata": {},
   "source": [
    "$\\sm{R}{o}\\approx\\sm{r}{o}[1+\\sm{g}{m}(\\sm{R}{2}/\\!/r_\\pi)] = \\dfrac{\\uv{A}}{\\ui{C2}}\\big[1+\\dfrac{\\ui{C2}}{\\uv{T}}(\\sm{R}{E}/\\!/\\dfrac{\\beta\\uv{T}}{\\ui{C2}})\\big]$"
   ]
  },
  {
   "cell_type": "code",
   "execution_count": 7,
   "id": "a6ae5992-5dad-44a8-9fa2-552d729ed1b6",
   "metadata": {},
   "outputs": [
    {
     "name": "stdout",
     "output_type": "stream",
     "text": [
      "Ro = 3763.9 kΩ\n"
     ]
    }
   ],
   "source": [
    "Va = 130\n",
    "Ic2 = 0.98\n",
    "Vt = 26\n",
    "Re = 1000\n",
    "beta = 100\n",
    "rpi = beta * Vt / Ic2\n",
    "ro = Va / Ic2\n",
    "gm = Ic2 / Vt\n",
    "print('Ro = %.1f kΩ' % (ro * (1 + gm * para(Re, rpi))))"
   ]
  },
  {
   "cell_type": "code",
   "execution_count": 59,
   "id": "b3fe70db-d684-460b-b097-4f6403bad6b6",
   "metadata": {
    "editable": true,
    "slideshow": {
     "slide_type": ""
    },
    "tags": []
   },
   "outputs": [
    {
     "name": "stdout",
     "output_type": "stream",
     "text": [
      "@ir[current] = 1000.000 uA\n",
      "   @q1[ib] =    9.806 uA\n",
      "   @q1[ic] =  980.629 uA\n",
      "   @q2[ib] =    9.571 uA\n",
      "   @q2[ic] =  981.492 uA\n",
      "    @r1[i] =  990.429 uA\n",
      "    @r2[i] =  991.057 uA\n",
      "         b =   1.6867 V\n",
      "         c =   5.0000 V\n",
      "        e1 =   0.9904 V\n",
      "        e2 =   0.9911 V\n",
      " v1#branch = -981.486 uA\n"
     ]
    }
   ],
   "source": [
    "# VAF = 130\n",
    "ng.circ('''\n",
    "  Q1  b  b  e1  NPN\n",
    "  Q2  c  b  e2  NPN\n",
    "  R1  e1 0  1k\n",
    "  R2  e2 0  1k\n",
    "  Ir  0  b  1mA\n",
    "  V1  c  0  5V\n",
    "  .model NPN NPN(IS=2fA BF=100 VAF=130)\n",
    "  .options savecurrents\n",
    "''')\n",
    "print_op()"
   ]
  },
  {
   "cell_type": "markdown",
   "id": "da349ff2-cbd3-4f28-af6f-23359516fb37",
   "metadata": {
    "editable": true,
    "slideshow": {
     "slide_type": ""
    },
    "tags": []
   },
   "source": [
    "$R_1=R_2=1$kΩ，输出阻抗从 130kΩ 增加到了 3.13MΩ"
   ]
  },
  {
   "cell_type": "code",
   "execution_count": 74,
   "id": "2cb89c44-cfa2-4e62-8660-28926ba21fbe",
   "metadata": {
    "editable": true,
    "slideshow": {
     "slide_type": ""
    },
    "tags": []
   },
   "outputs": [
    {
     "name": "stdout",
     "output_type": "stream",
     "text": [
      "         b =   1.6868 V\n",
      "         c =   6.5961 V\n",
      "        e1 =   0.9905 V\n",
      "        e2 =   0.9915 V\n"
     ]
    },
    {
     "data": {
      "text/plain": [
       "{'output_impedance_at_V(c)': array([3133068.88896781]),\n",
       " 'ir#Input_impedance': array([804.88798517]),\n",
       " 'Transfer_function': array([-3072885.30948549])}"
      ]
     },
     "execution_count": 74,
     "metadata": {},
     "output_type": "execute_result"
    }
   ],
   "source": [
    "# VAF = 130\n",
    "ng.circ('''\n",
    "  Q1  b  b  e1  NPN\n",
    "  Q2  c  b  e2  NPN\n",
    "  R1  e1 0  1k\n",
    "  R2  e2 0  1k\n",
    "  Ir  0  b  1mA\n",
    "  I2  0  c  0.982mA\n",
    "  .model NPN NPN(IS=2fA BF=100 VAF=130)\n",
    "  * .options savecurrents\n",
    "''')\n",
    "print_op()\n",
    "ng.cmd('tf v(c) ir')\n",
    "ng.vectors()"
   ]
  },
  {
   "cell_type": "markdown",
   "id": "010f8056-6784-41ce-9d5e-580b2041b1c5",
   "metadata": {
    "editable": true,
    "slideshow": {
     "slide_type": ""
    },
    "tags": []
   },
   "source": [
    "### Widlar 微电流源\n",
    "\n",
    "$ \\ui{C2}\\approx\\ui{E2}$\n",
    "\n",
    "$\\uv{R2} = \\ui{out} R_2 = \\uv{T}\\ln \\dfrac{\\ui{ref}}{\\ui{out}}$ 是个超越方程。\n",
    "\n",
    "在设计电路时，已知 $\\ui{out}$ 求 $R_2$ 很容易。\n",
    "\n",
    "在分析电路时，已知 $R_2$ 求 $\\ui{out}$ 不太容易，现在一般可用数值方法求近似解。"
   ]
  },
  {
   "cell_type": "code",
   "execution_count": 33,
   "id": "d613c3a1-01fd-4134-90cd-7d19ef779b06",
   "metadata": {
    "editable": true,
    "slideshow": {
     "slide_type": ""
    },
    "tags": [
     "hide_code"
    ]
   },
   "outputs": [
    {
     "data": {
      "image/png": "[encoded data removed]"
     },
     "metadata": {},
     "output_type": "display_data"
    }
   ],
   "source": [
    "%%tikz -ct\n",
    "\\newcommand{\\ui}[1]{\\ensuremath{I_\\mathrm{#1}}}\n",
    "\n",
    "\\ctikzset{american voltages, american currents, european resistors}\n",
    "\\ctikzset{transistors/arrow pos=end, transistors/fill=cyan!20}\n",
    "\\draw (0, 0) node [npn, xscale=-1] (Q1) {\\ctikzflipx{Q1}};\n",
    "\\draw (Q1.B) node [npn, anchor=B] (Q2) {Q2};\n",
    "\\draw (Q1.E) to [short] ++(0, -1.1) coordinate (G);\n",
    "\\draw (Q2.E) to [R, l={$R_2$}, bipoles/length=0.8cm] ++(0, -0.8)\n",
    "  to [short] ++(0, -0.3) -- (G);\n",
    "\\draw (Q1.B |- G) node [circ] {} node [sground] {};\n",
    "\\draw (Q1.B) node [circ] {} |- (Q1.C) node [circ] {};\n",
    "\\draw (Q1.C) to [I, invert, l={\\ui{ref}}, bipoles/length=1cm] ++(0, 1.5);\n",
    "\\draw [dashed] (Q2.C) to [short] ++(0, 1) node [above] {\\ui{out}};\n",
    "\\draw (Q2.C) ++(0, 0.5) node [currarrow, rotate=-90] {};"
   ]
  },
  {
   "cell_type": "code",
   "execution_count": 49,
   "id": "32285d1e-3155-447b-bb60-555331125822",
   "metadata": {
    "editable": true,
    "slideshow": {
     "slide_type": ""
    },
    "tags": []
   },
   "outputs": [
    {
     "name": "stdout",
     "output_type": "stream",
     "text": [
      "R1 = 5.1 kΩ\n"
     ]
    }
   ],
   "source": [
    "Ic1 = 1e-3  # 1mA\n",
    "Ic2 = 20e-6  # 20μA\n",
    "Vt = 26e-3\n",
    "R1 = Vt * log(Ic1 / Ic2) / Ic2\n",
    "print('R1 = %.1f kΩ' % (R1 / 1e3))"
   ]
  },
  {
   "cell_type": "code",
   "execution_count": 55,
   "id": "4894f1ed-baab-46f1-a0a4-ab10848b343a",
   "metadata": {
    "editable": true,
    "slideshow": {
     "slide_type": ""
    },
    "tags": []
   },
   "outputs": [
    {
     "name": "stdout",
     "output_type": "stream",
     "text": [
      "Iout = 20.0 uA\n"
     ]
    }
   ],
   "source": [
    "import scipy\n",
    "def Ic2(x):\n",
    "    Ic = x\n",
    "    Vt = 26\n",
    "    Iref = 1000  # μA\n",
    "    R = 5.1  # kΩ\n",
    "    return Ic * R - Vt * np.log(Iref / Ic)\n",
    "\n",
    "root = scipy.optimize.root_scalar(Ic2, x0=0.1)\n",
    "if root.converged:\n",
    "    Ic = root.root\n",
    "    print('Iout = %.1f uA' % (Ic))"
   ]
  },
  {
   "cell_type": "code",
   "execution_count": 12,
   "id": "e299eeb3-c186-49eb-9f66-b46c2496fb5a",
   "metadata": {},
   "outputs": [
    {
     "name": "stdout",
     "output_type": "stream",
     "text": [
      "@ir[current] = 1000.000 uA\n",
      "   @q1[ib] =    9.899 uA\n",
      "   @q1[ic] =  989.909 uA\n",
      "   @q2[ib] =    0.192 uA\n",
      "   @q2[ic] =   19.810 uA\n",
      "    @r2[i] =   20.002 uA\n",
      "         b =   0.6965 V\n",
      "         c =   5.0000 V\n",
      "        e2 =   0.1020 V\n",
      " v1#branch =  -19.810 uA\n"
     ]
    }
   ],
   "source": [
    "# VAF = 130\n",
    "ng.circ('''\n",
    "  Q1  b  b  0  NPN\n",
    "  Q2  c  b  e2  NPN\n",
    "  R2  e2 0  5.1k\n",
    "  Ir  0  b  1mA\n",
    "  V1  c  0  5V\n",
    "  .model NPN NPN(IS=2fA BF=100 VAF=130)\n",
    "  .options savecurrents\n",
    "''')\n",
    "print_op()"
   ]
  },
  {
   "cell_type": "markdown",
   "id": "a40d370e-859b-4d3d-b3c7-84ecba59b79f",
   "metadata": {},
   "source": [
    "$\\sm{R}{o}\\approx\\sm{r}{o}[1+\\sm{g}{m}(\\sm{R}{2}/\\!/r_\\pi)]$"
   ]
  },
  {
   "cell_type": "code",
   "execution_count": 18,
   "id": "be6d1547-49b2-49c1-b5c1-d672babf7c13",
   "metadata": {},
   "outputs": [
    {
     "name": "stdout",
     "output_type": "stream",
     "text": [
      "Ro = 31.0 MΩ\n"
     ]
    }
   ],
   "source": [
    "Va = 130\n",
    "Ic2 = 20e-3\n",
    "Vt = 26\n",
    "Re = 5100\n",
    "beta = 100\n",
    "rpi = beta * Vt / Ic2\n",
    "ro = Va / Ic2\n",
    "gm = Ic2 / Vt\n",
    "print('Ro = %.1f MΩ' % (ro * (1 + gm * para(Re, rpi))/1e3))"
   ]
  },
  {
   "cell_type": "code",
   "execution_count": 16,
   "id": "328725ae-4bb5-4d14-9143-96b529c798e6",
   "metadata": {},
   "outputs": [
    {
     "name": "stdout",
     "output_type": "stream",
     "text": [
      "         b =   0.6965 V\n",
      "         c =   4.6665 V\n",
      "        e2 =   0.1020 V\n"
     ]
    },
    {
     "data": {
      "text/plain": [
       "{'output_impedance_at_V(c)': array([32211128.891864]),\n",
       " 'ir#Input_impedance': array([25.86509525]),\n",
       " 'Transfer_function': array([-129046.61063506])}"
      ]
     },
     "execution_count": 16,
     "metadata": {},
     "output_type": "execute_result"
    }
   ],
   "source": [
    "ng.circ('''\n",
    "  Q1  b  b  0   NPN\n",
    "  Q2  c  b  e2  NPN\n",
    "  R2  e2 0  5.1k\n",
    "  Ir  0  b  1mA\n",
    "  I2  0  c  19.8uA\n",
    "  .model NPN NPN(IS=2fA BF=100 VAF=130)\n",
    "  * .options savecurrents\n",
    "''')\n",
    "print_op()\n",
    "ng.cmd('tf v(c) ir')\n",
    "ng.vectors()"
   ]
  },
  {
   "cell_type": "markdown",
   "id": "ed63edf6-7397-4270-b38e-bf9114fe8919",
   "metadata": {
    "editable": true,
    "slideshow": {
     "slide_type": ""
    },
    "tags": []
   },
   "source": [
    "在有些 1980 年代的教材上，会介绍用图解法从 $R_2$ 求 $\\ui{out}$，步骤如下：\n",
    "\n",
    "Iref = 1mA\n",
    "\n",
    "R = 5k\n",
    "\n",
    "R * Iref = 5\n",
    "\n",
    "从横坐标=5 找到对应的纵坐标，约为 50，即\n",
    "\n",
    "Iref / Iout = 50\n",
    "\n",
    "Iout = Iref / 50 = 20uA"
   ]
  },
  {
   "cell_type": "code",
   "execution_count": 56,
   "id": "090ceadd-53c7-44e2-9282-c2307ae6c6f9",
   "metadata": {
    "editable": true,
    "slideshow": {
     "slide_type": ""
    },
    "tags": []
   },
   "outputs": [
    {
     "data": {
      "image/png": "[encoded data removed]",
      "text/plain": [
       "<Figure size 640x480 with 1 Axes>"
      ]
     },
     "metadata": {},
     "output_type": "display_data"
    }
   ],
   "source": [
    "Ic1 = 1e-3  # 1mA\n",
    "Ic2 = np.arange(1, 101) / 1e6\n",
    "Vt = 26e-3\n",
    "R1 = Vt * np.log(Ic1 / Ic2) / Ic2\n",
    "plt.loglog(R1*Ic1, Ic1/Ic2)\n",
    "plt.ylabel('Iref / Iout ratio')\n",
    "plt.xlabel('R * Iref')\n",
    "plt.grid(which='both')"
   ]
  },
  {
   "cell_type": "code",
   "execution_count": 27,
   "id": "66628544-1afb-47af-9928-78cdbc13f5b0",
   "metadata": {},
   "outputs": [
    {
     "name": "stdout",
     "output_type": "stream",
     "text": [
      "5.727926509844882 14.226513400823785\n"
     ]
    },
    {
     "data": {
      "text/plain": [
       "[<matplotlib.lines.Line2D at 0x7f998014b6d0>]"
      ]
     },
     "execution_count": 27,
     "metadata": {},
     "output_type": "execute_result"
    },
    {
     "data": {
      "image/png": "[encoded data removed]",
      "text/plain": [
       "<Figure size 640x480 with 1 Axes>"
      ]
     },
     "metadata": {},
     "output_type": "display_data"
    }
   ],
   "source": [
    "plt.plot(R1*Ic1, Ic1/Ic2)\n",
    "plt.ylabel('Iref / Iout ratio')\n",
    "plt.xlabel('R * Iref')\n",
    "#plt.grid(which='both')\n",
    "\n",
    "m, b = np.polyfit(R1*Ic1, Ic1/Ic2, 1)\n",
    "x = np.arange(0, 180)\n",
    "print(m, b)\n",
    "plt.plot(x, m*x + b)"
   ]
  },
  {
   "cell_type": "markdown",
   "id": "3a04d5c2-1e90-487d-968e-549e98ce7fe4",
   "metadata": {
    "editable": true,
    "slideshow": {
     "slide_type": ""
    },
    "tags": []
   },
   "source": [
    "## Common-Emitter amplifier\n",
    "\n",
    "Load resistor $\\sm{R}{C}$\n",
    "\n",
    "电压增益 $\\sm{A}{v} = \\sm{g}{m}\\sm{R}{C} = \\dfrac{\\ui{C} \\sm{R}{C}}{\\uv{T}} < \\dfrac{\\uv{CC}}{\\uv{T}}$，注意 $\\sm{A}{v}$ 和 $\\beta$ 无关，只和工作点 $\\ui{C}$ 有关。\n",
    "\n",
    "对于 $\\uv{CC} = 15$V，$\\sm{A}{v} < 580$，且随温度增加会下降。\n",
    "一般为了获得最大的电压摆幅，会令 $\\ui{CQ}\\sm{R}{C}=\\dfrac{\\uv{CC}}{2}$，这样一来 $\\sm{A}{v}$ 也就确定了，为 $\\dfrac{\\uv{CC}}{2\\uv{T}}$。"
   ]
  },
  {
   "cell_type": "code",
   "execution_count": 2,
   "id": "b5055e00-cd10-4d42-95dd-dfb8bacb51c1",
   "metadata": {
    "editable": true,
    "slideshow": {
     "slide_type": ""
    },
    "tags": [
     "hide_code"
    ]
   },
   "outputs": [
    {
     "data": {
      "image/png": "[encoded data removed]"
     },
     "metadata": {},
     "output_type": "display_data"
    }
   ],
   "source": [
    "%%tikz -ct\n",
    "\n",
    "\\ctikzset{transistors/arrow pos=end, american currents, american voltages, european resistors}\n",
    "\n",
    "\\draw (0, 0) node [npn] (Q) {NPN};\n",
    "\\draw (Q.B) to [short, i_<={$i_\\mathrm{B}$}] ++(-0.2, 0)\n",
    "  to [short] ++(-0.8, 0)\n",
    "  to [sV, l_=$v_\\mathrm{in}$, bipoles/length=1cm] ++(0, -1)\n",
    "  to [battery1, l_={$V_\\mathrm{BEQ}$}, bipoles/length=1cm]  ++(0, -1)\n",
    "  coordinate (G) node [sground] {};\n",
    "\\draw (Q.E) to [short] (G-|Q.E) node [sground] {};\n",
    "\\draw (Q.C) to [R, l_={$R_\\mathrm{C}$}, bipoles/length=1cm] ++(0, 1.5)\n",
    "  node [vcc] {Vcc};\n",
    "\\draw [->] (-0.9, -1.5) node [below] {$R_\\mathrm{in}\\!=\\!r_\\pi$} to ++(0, 1) to ++(0.3, 0);\n",
    "\n",
    "\\draw (Q.C) to [short, *-o] ++(1, 0) node [right] {Vout};"
   ]
  },
  {
   "cell_type": "code",
   "execution_count": 8,
   "id": "1d4578b7-1b68-4556-a5e5-ec4bcd479719",
   "metadata": {
    "editable": true,
    "slideshow": {
     "slide_type": ""
    },
    "tags": []
   },
   "outputs": [
    {
     "name": "stdout",
     "output_type": "stream",
     "text": [
      "    @q[gm] =   21.923 mS\n",
      "         b =   0.7000 V\n",
      "         c =   4.3297 V\n",
      " vb#branch =   -5.670 uA\n",
      " vc#branch = -567.035 uA\n",
      "       vcc =  10.0000 V\n"
     ]
    },
    {
     "data": {
      "text/plain": [
       "{'@q[gm]': array([0.02192293]),\n",
       " 'output_impedance_at_V(c)': array([9999.9998]),\n",
       " 'vb#Input_impedance': array([4561.43018212]),\n",
       " 'Transfer_function': array([-219.22926164])}"
      ]
     },
     "execution_count": 8,
     "metadata": {},
     "output_type": "execute_result"
    }
   ],
   "source": [
    "ng.circ('''\n",
    "  Q  c b 0 NPN\n",
    "  Vc vcc 0  10V\n",
    "  Vb b 0 0.7V\n",
    "  Rc vcc c  10k\n",
    "  .model NPN NPN(IS=1fA BF=100)\n",
    "  .save all @q[gm]\n",
    "''')\n",
    "#ng.operating_point()\n",
    "print_op()\n",
    "ng.cmd('tf v(c) vb')\n",
    "ng.vectors()"
   ]
  },
  {
   "cell_type": "code",
   "execution_count": 74,
   "id": "cfca9b2a-e32e-4e13-abc4-43913df1928a",
   "metadata": {
    "editable": true,
    "slideshow": {
     "slide_type": ""
    },
    "tags": []
   },
   "outputs": [
    {
     "name": "stdout",
     "output_type": "stream",
     "text": [
      "Ic  0.0005670346694806257\n",
      "gm  0.02192292629590039\n",
      "Rin 4561.434849083085\n",
      "Av  219.2292629590039\n"
     ]
    }
   ],
   "source": [
    "Is = 1e-15\n",
    "Vbe = 0.7\n",
    "Ic = Is * exp(Vbe / Vt)\n",
    "gm = Ic / Vt\n",
    "print('Ic ', Ic)\n",
    "print('gm ', gm)\n",
    "beta = 100\n",
    "print('Rin', beta/gm)\n",
    "Rc = 10e3\n",
    "print('Av ', gm * Rc)"
   ]
  },
  {
   "cell_type": "markdown",
   "id": "940a0cac-f1ba-4a37-90ec-7ed277ea0b4f",
   "metadata": {
    "editable": true,
    "slideshow": {
     "slide_type": ""
    },
    "tags": []
   },
   "source": [
    "#### Early effect\n",
    "\n",
    "* $\\ui{C}=\\ui{C0}\\Big(1+\\dfrac{\\uv{CE}}{\\uv{A}}\\Big)$\n",
    "\n",
    "* $\\sm{g}{m}=\\dfrac{\\ui{C}}{\\uv{T}}$\n",
    "* $\\sm{r}{o}=\\dfrac{\\uv{A}}{\\ui{C0}}$\n",
    "* $\\sm{R}{o} = \\sm{R}{C} /\\!/ \\sm{r}{o}$\n",
    "* $\\sm{A}{v} = \\sm{g}{m}\\sm{R}{o} = \\sm{g}{m}( \\sm{R}{C} /\\!/ \\sm{r}{o})$"
   ]
  },
  {
   "cell_type": "code",
   "execution_count": 17,
   "id": "c7c51ae0-a87f-40d0-8e57-2aa0b39f085a",
   "metadata": {
    "editable": true,
    "slideshow": {
     "slide_type": ""
    },
    "tags": []
   },
   "outputs": [
    {
     "name": "stdout",
     "output_type": "stream",
     "text": [
      "    @q[gm] =   22.505 mS\n",
      "    @q[ic] =  582.205 uA\n",
      "         b =   0.7000 V\n",
      "         c =   4.1780 V\n",
      " vb#branch =   -5.670 uA\n",
      " vc#branch = -582.205 uA\n",
      "       vcc =  10.0000 V\n"
     ]
    },
    {
     "data": {
      "text/plain": [
       "{'@q[ic]': array([0.0005822]),\n",
       " '@q[gm]': array([0.02250508]),\n",
       " 'output_impedance_at_V(c)': array([9582.04947524]),\n",
       " 'vb#Input_impedance': array([4561.4302567]),\n",
       " 'Transfer_function': array([-215.64478285])}"
      ]
     },
     "execution_count": 17,
     "metadata": {},
     "output_type": "execute_result"
    }
   ],
   "source": [
    "ng.circ('''\n",
    "  Q  c b 0 NPN\n",
    "  Vc vcc 0  10V\n",
    "  Vb b 0 0.7V\n",
    "  Rc vcc c  10k\n",
    "  .model NPN NPN(IS=1fA BF=100 VAF=130)\n",
    "  .save all @q[gm] @q[ic]\n",
    "''')\n",
    "print_op()\n",
    "ng.cmd('tf v(c) vb')\n",
    "ng.vectors()"
   ]
  },
  {
   "cell_type": "code",
   "execution_count": 18,
   "id": "6cb65633-23b8-4875-b3fa-3782ef4beb71",
   "metadata": {
    "editable": true,
    "slideshow": {
     "slide_type": ""
    },
    "tags": []
   },
   "outputs": [
    {
     "name": "stdout",
     "output_type": "stream",
     "text": [
      "Ic 0.0005822050277918073\n",
      "gm 0.022509448893263014\n",
      "Ro 9582.049664282067\n",
      "Av 215.6866572108652\n"
     ]
    }
   ],
   "source": [
    "Is = 1e-15\n",
    "Vbe = 0.7\n",
    "Vcb = 4.1780 - Vbe\n",
    "Vaf = 130\n",
    "Ic0 = Is * exp(Vbe / Vt)\n",
    "Ic = Ic0 * (1 + Vcb / Vaf)\n",
    "gm = Ic / Vt\n",
    "print('Ic', Ic)\n",
    "print('gm', gm)\n",
    "ro = Vaf / Ic0\n",
    "Rc = 10e3\n",
    "Ro = para(Rc, ro)\n",
    "print('Ro', Ro)\n",
    "print('Av', gm * Ro)"
   ]
  },
  {
   "cell_type": "markdown",
   "id": "30be0735-aac7-4e8d-9224-ac7b3bbc5c7d",
   "metadata": {
    "editable": true,
    "slideshow": {
     "slide_type": ""
    },
    "tags": []
   },
   "source": [
    "## Common-Emitter with degeneration\n",
    "\n",
    "在发射极和地之间串接电阻 $\\sm{R}{E}$ 可大大增加 $r_\\pi$，代价是大大降低 $\\sm{A}{v}$\n",
    "\n",
    "$\\sm{R}{in} = r_\\pi + (1+\\beta)\\sm{R}{E}$\n",
    "\n",
    "$A =\\dfrac{\\sm{R}{C}}{\\sm{r}{e}+\\sm{R}{E}} \\approx \\dfrac{R_\\mathrm{C}}{R_\\mathrm{E}}$"
   ]
  },
  {
   "cell_type": "code",
   "execution_count": 72,
   "id": "22aa8ef5-52c3-4717-b266-9517a0f7bb7e",
   "metadata": {
    "editable": true,
    "slideshow": {
     "slide_type": ""
    },
    "tags": [
     "hide_code"
    ]
   },
   "outputs": [
    {
     "data": {
      "image/png": "[encoded data removed]"
     },
     "metadata": {},
     "output_type": "display_data"
    }
   ],
   "source": [
    "%%tikz -ct\n",
    "\n",
    "\\ctikzset{transistors/arrow pos=end, american currents, american voltages, european resistors}\n",
    "\n",
    "\\draw (0, 0) node [npn] (Q) {NPN};\n",
    "\\draw (Q.E) to [R, l={$R_\\mathrm{E}$}, bipoles/length=1cm] ++(0, -1.5)\n",
    "  coordinate (G) node [sground] {};\n",
    "\n",
    "\\draw (Q.B) to [short, i_<={$i_\\mathrm{B}$}] ++(-0.2, 0)\n",
    "  to [short] ++(-0.8, 0) coordinate (B)\n",
    "  to [sV, l_=$v_\\mathrm{in}$, bipoles/length=1cm] ++(0, -1.2)\n",
    "  to [battery1, l_={$V_\\mathrm{BEQ}$}, bipoles/length=1cm]  (B|-G)\n",
    "  node [sground] {};\n",
    "  \n",
    "\\draw (Q.C) to [R, l_={$R_\\mathrm{C}$}, bipoles/length=1cm] ++(0, 1.5)\n",
    "  node [vcc] {Vcc};\n",
    "\\draw [->] (-0.9, -1.5) node [below] {$R_\\mathrm{in}$} to ++(0, 1) to ++(0.3, 0);\n",
    "\\draw (Q.C) to [short, *-o] ++(1, 0) node [right] {Vout};"
   ]
  },
  {
   "cell_type": "code",
   "execution_count": 25,
   "id": "7077c31d-bcb1-4876-97f6-12f4be63a584",
   "metadata": {
    "editable": true,
    "slideshow": {
     "slide_type": ""
    },
    "tags": []
   },
   "outputs": [
    {
     "name": "stdout",
     "output_type": "stream",
     "text": [
      "    @q[gm] =   19.675 mS\n",
      "         b =   0.8000 V\n",
      "         c =   4.9110 V\n",
      "         e =   0.1028 V\n",
      " vb#branch =   -5.089 uA\n",
      " vc#branch = -508.900 uA\n",
      "       vcc =  10.0000 V\n"
     ]
    },
    {
     "data": {
      "text/plain": [
       "{'@q[gm]': array([0.0196753]),\n",
       " 'output_impedance_at_V(c)': array([9999.9998]),\n",
       " 'vb#Input_impedance': array([25282.48933506]),\n",
       " 'Transfer_function': array([-39.55302566])}"
      ]
     },
     "execution_count": 25,
     "metadata": {},
     "output_type": "execute_result"
    }
   ],
   "source": [
    "ng.circ('''\n",
    "  Q  c b e NPN\n",
    "  Vc vcc 0  10V\n",
    "  Vb b 0 0.8V\n",
    "  Rc vcc c  10k\n",
    "  Re e 0 200\n",
    "  .model NPN NPN(IS=1fA BF=100)\n",
    "  .save all @q[gm]\n",
    "''')\n",
    "#ng.operating_point()\n",
    "print_op()\n",
    "ng.cmd('tf v(c) vb')\n",
    "ng.vectors()"
   ]
  },
  {
   "cell_type": "code",
   "execution_count": 59,
   "id": "e399232b-f31b-4bf0-9ad0-225d47a015fc",
   "metadata": {
    "editable": true,
    "slideshow": {
     "slide_type": ""
    },
    "tags": []
   },
   "outputs": [
    {
     "name": "stdout",
     "output_type": "stream",
     "text": [
      "gm  0.019675299928666713\n",
      "re  50.3219271620061\n",
      "Rin 25282.514643362614\n",
      "Av  39.94855789652055\n"
     ]
    }
   ],
   "source": [
    "Ic = 508.9e-6\n",
    "gm = Ic / Vt\n",
    "print('gm ', gm)\n",
    "\n",
    "Ie = Ic * 1.01\n",
    "re = Vt / Ie\n",
    "print('re ', re)\n",
    "\n",
    "beta = 100\n",
    "rpi = beta / gm\n",
    "Re = 200\n",
    "Rin = rpi + (1+beta)*Re\n",
    "print('Rin', Rin)\n",
    "\n",
    "Rc = 10e3\n",
    "print('Av ', Rc / (Re + re))"
   ]
  },
  {
   "cell_type": "markdown",
   "id": "b7d81496-580e-4d8a-9fc1-3829ce7390dd",
   "metadata": {},
   "source": [
    "可见 $\\sm{R}{E}=200\\Omega$，而 $\\sm{R}{in}$ 从 $r_\\pi=5$kΩ 左右增大到了 25kΩ，增加了 $(1+\\beta)\\sm{R}{E}=20\\mathrm{k}\\Omega$."
   ]
  },
  {
   "cell_type": "markdown",
   "id": "4c8a1e91-68a4-4dfb-9313-8d033fd1b05e",
   "metadata": {
    "editable": true,
    "slideshow": {
     "slide_type": ""
    },
    "tags": []
   },
   "source": [
    "### 教材常讲的偏置电路"
   ]
  },
  {
   "cell_type": "code",
   "execution_count": 25,
   "id": "f69e7d4b-83c8-4a25-bfb0-7df3dacb74bb",
   "metadata": {
    "editable": true,
    "slideshow": {
     "slide_type": ""
    },
    "tags": [
     "hide_code"
    ]
   },
   "outputs": [
    {
     "data": {
      "image/png": "[encoded data removed]"
     },
     "metadata": {},
     "output_type": "display_data"
    }
   ],
   "source": [
    "%%tikz -ct\n",
    "\n",
    "\\ctikzset{transistors/arrow pos=end, american currents, american voltages, european resistors}\n",
    "\n",
    "\\draw (0, 0) node [npn] (Q1) {Q1};\n",
    "\\draw (Q1.B) to [short, -*] ++(-1.0, 0)\n",
    "  coordinate(B);\n",
    "\\draw (Q1.E) to [R, l={$R_\\mathrm{E}$}, bipoles/length=1cm] ++(0, -1.0)\n",
    "  to [short] ++(0, -0.3)\n",
    "  coordinate (G) node [ground] {};\n",
    "\\draw (Q1.C) to [R, l_={$R_\\mathrm{C}$}, bipoles/length=1cm] ++(0, 1.5)\n",
    "  to [short] ++(0, 0.1) node [vcc] {Vcc}\n",
    "  coordinate (T);\n",
    "\\draw (B) to [R,l_={$R_1$}, bipoles/length=1cm] (B|-T) to [short, -*] (T);\n",
    "\\draw (B) to [R,l={$R_2$}, bipoles/length=1cm] (B|-G) to [short, -*] (G);\n",
    "\\draw (Q1.C) node [circ] {} to [C, bipoles/length=1cm] ++(1.5, 0) node [ocirc] {}\n",
    "  node [right] {Vout};\n",
    "\\draw (B) to [C, bipoles/length=1cm] ++(-1.5, 0) node [ocirc] {}\n",
    "  node [left] {Vin};\n",
    "\\draw [->] (-0.9, -1.5) node [below] {$R_\\mathrm{in1}$} to ++(0, 1) to ++(0.3, 0);\n",
    "\\draw [->] (-2.9, -1.5) node [below] {$R_\\mathrm{in2}$} to ++(0, 1) to ++(0.3, 0);"
   ]
  },
  {
   "cell_type": "markdown",
   "id": "392c182b-bb85-4981-89a7-35444f7f41d2",
   "metadata": {},
   "source": [
    "$\\sm{A}{v}=\\dfrac{\\sm{R}{C}}{1/\\sm{g}{m}+\\sm{R}{E}}\\approx\\dfrac{\\sm{R}{C}}{\\sm{R}{E}}$\n",
    "\n",
    "$\\sm{R}{in1} = r_\\pi + (1+\\beta)\\sm{R}{E}$\n",
    "\n",
    "$\\sm{R}{in2}=R_1 /\\!/ R_2 /\\!/ \\sm{R}{in1}$\n",
    "\n",
    "$\\sm{R}{o}=\\sm{R}{C}$\n"
   ]
  },
  {
   "cell_type": "markdown",
   "id": "9152197e-2db4-4496-8929-754dcb43c18a",
   "metadata": {
    "editable": true,
    "slideshow": {
     "slide_type": ""
    },
    "tags": []
   },
   "source": [
    "分析直流工作点：先根据 R1/R2 分压点求出 $\\uv{B}$，然后算出 $\\uv{E}\\approx\\uv{B}-0.7$V.\n",
    "\n",
    "$\\ui{C}\\approx\\ui{E}=\\dfrac{\\uv{E}}{\\sm{R}{E}}$，最后算出 $\\uv{C}=\\uv{CC}-\\ui{C}\\sm{R}{C}$"
   ]
  },
  {
   "cell_type": "markdown",
   "id": "8c3e0306-088e-46ee-a3c1-302cccd3ce9e",
   "metadata": {
    "editable": true,
    "slideshow": {
     "slide_type": ""
    },
    "tags": []
   },
   "source": [
    "对于设计来说，一般先定 $\\uv{C}=\\uv{CC}/2$，再选择工作点 $\\ui{C}$，这就确定了 $\\sm{R}{C} = \\dfrac{\\uv{CC}-\\uv{C}}{\\ui{C}}$\n",
    "\n",
    "再根据电压放大倍数 $\\sm{A}{v}$ 算出 $\\sm{R}{E}$\n",
    "\n",
    "然后就可以算出 $\\uv{E}=\\ui{E}\\,\\sm{R}{E}$，以及 $\\uv{B}\\approx \\uv{E}+0.7$V，最后求出 $R_1$、$R_2$."
   ]
  },
  {
   "cell_type": "markdown",
   "id": "5703037d-e8ec-4ab7-99ed-258aba0fe690",
   "metadata": {
    "editable": true,
    "slideshow": {
     "slide_type": ""
    },
    "tags": []
   },
   "source": [
    "## Common-Emitter with active load\n",
    "\n",
    "有源负载可以大大增加 $\\sm{A}{v}$，通常可以达到 $1000\\sim 2000$\n",
    "\n",
    "输出阻抗 $\\sm{R}{o}=\\sm{r}{o1}/\\!/\\sm{r}{o2}=\\dfrac{1}{\\dfrac{1}{\\sm{r}{o1}}+\\dfrac{1}{\\sm{r}{o2}}}=\\dfrac{1}{\\dfrac{\\ui{C}}{\\uv{A1}} + \\dfrac{\\ui{C}}{\\uv{A2}}} =\\dfrac{1}{\\ui{C}}\\cdot\\dfrac{\\uv{A1}\\uv{A2}}{\\uv{A1}+\\uv{A2}}$\n",
    "\n",
    "开路增益 $\\sm{A}{v}=\\sm{g}{m}\\sm{R}{o}=\\sm{g}{m}(\\sm{r}{o1}/\\!/\\sm{r}{o2})=\\dfrac{\\uv{A1}\\uv{A2}}{\\uv{T}(\\uv{A1}+\\uv{A2})}$ 跟偏置电流 $\\ui{C}$ 无关，但是输出阻抗 $\\sm{R}{o}$ 跟偏置电流成反比，为了提高带负载的能力，应该增加偏置电流。"
   ]
  },
  {
   "cell_type": "code",
   "execution_count": 36,
   "id": "4d8eeb65-89f9-42fe-938d-5d4fe570cf4a",
   "metadata": {
    "editable": true,
    "slideshow": {
     "slide_type": ""
    },
    "tags": [
     "hide_code"
    ]
   },
   "outputs": [
    {
     "data": {
      "image/png": "[encoded data removed]"
     },
     "metadata": {},
     "output_type": "display_data"
    }
   ],
   "source": [
    "%%tikz -ct\n",
    "\n",
    "\\ctikzset{transistors/arrow pos=end, american currents, american voltages, european resistors}\n",
    "\n",
    "\\draw (0, 0) node [pnp, xscale=-1] (Q3) {\\ctikzflipx{Q3}};\n",
    "\\draw (Q3.B) node [pnp, anchor=B] (Q2) {Q2};\n",
    "\\draw (Q3.E) -- (Q2.E);\n",
    "\\draw (Q3.E) coordinate (T);\n",
    "\\draw (T-|Q3.B) node [circ] {} node [vcc] {Vcc};\n",
    "\\draw (Q3.C) -| (Q3.B) node [circ] {};\n",
    "\\draw (Q3.C) to [I, l_={$I_\\mathrm{REF}$}, bipoles/length=1cm] ++(0, -1.2);\n",
    "\n",
    "\\draw (Q2.C) to [short] ++(0, -1)\n",
    "  node [npn, anchor=C] (Q1) {Q1};\n",
    "\\draw (Q1.C) to [short, *-o] ++(1, 0) node [right] {Vout};\n",
    "\\draw (Q1.B) to [short, -o] ++(-0.5, 0) node [left] {Vin};\n",
    "\\draw (Q1.E) node [sground] {};"
   ]
  },
  {
   "cell_type": "code",
   "execution_count": 48,
   "id": "b8938bdd-add1-4b5e-95d6-a8fd2ad7d567",
   "metadata": {},
   "outputs": [
    {
     "name": "stdout",
     "output_type": "stream",
     "text": [
      "1396.142546410926\n"
     ]
    }
   ],
   "source": [
    "Va1 = 130\n",
    "Va2 = 50\n",
    "print(Va1*Va2/(Vt*(Va1+Va2)))"
   ]
  },
  {
   "cell_type": "code",
   "execution_count": 51,
   "id": "7eafce79-e79b-44bd-9b8c-b0ba55f048e4",
   "metadata": {},
   "outputs": [
    {
     "name": "stdout",
     "output_type": "stream",
     "text": [
      "   @q1[gm] =   41.073 mS\n",
      "   @q1[ic] =    1.063 mA\n",
      "         b =   0.7150 V\n",
      "      bias =  14.2872 V\n",
      "         c =   7.1154 V\n",
      "       vcc =  15.0000 V\n",
      "vcc#branch =   -2.015 mA\n",
      "vin#branch =  -10.127 uA\n"
     ]
    },
    {
     "data": {
      "text/plain": [
       "{'@q1[gm]': array([0.04107253]),\n",
       " '@q1[ic]': array([0.00106254]),\n",
       " 'output_impedance_at_V(c)': array([37914.88514855]),\n",
       " 'vin#Input_impedance': array([2554.0928264]),\n",
       " 'Transfer_function': array([-1557.26029682])}"
      ]
     },
     "execution_count": 51,
     "metadata": {},
     "output_type": "execute_result"
    }
   ],
   "source": [
    "ng.circ('''\n",
    "  Q3  bias  bias  vcc  PNP\n",
    "  Q2  c     bias  vcc  PNP\n",
    "  Q1  c     b     0    NPN\n",
    "  R1  bias  0  15k\n",
    "  Vcc  vcc  0  15V\n",
    "  Vin  b  0  0.715V\n",
    "  * .options savecurrents\n",
    "  .save all @q1[ic] @q1[gm]\n",
    "  .model PNP PNP(IS=1fA BF=80  VAF=50)\n",
    "  .model NPN NPN(IS=1fA BF=100 VAF=130)\n",
    "''')\n",
    "print_op()\n",
    "ng.cmd('tf  v(c)  vin')\n",
    "ng.vectors()"
   ]
  },
  {
   "cell_type": "code",
   "execution_count": 47,
   "id": "40eadc32-5ad4-449e-a1e1-c539aa42b4c5",
   "metadata": {},
   "outputs": [
    {
     "name": "stdout",
     "output_type": "stream",
     "text": [
      "rpi 2554.103034638456\n",
      "Ro 37890.28761381275\n",
      "Av  1557.2203731496945\n"
     ]
    }
   ],
   "source": [
    "Vbe1 = 0.715\n",
    "Is = 1e-15\n",
    "Ic1 = Is * exp(Vbe1 / Vt)\n",
    "rpi1 = 100 * Vt / Ic1\n",
    "print('rpi', rpi1)\n",
    "ro1 = Va1 / Ic1\n",
    "\n",
    "# PNP\n",
    "Vbe2 = 15-14.2872\n",
    "Ic2 = Is * exp(Vbe2 / Vt)\n",
    "ro2 = Va2 / Ic2\n",
    "Ro = para(ro1, ro2)\n",
    "print('Ro', Ro)\n",
    "\n",
    "gm = 1.063e-3 / Vt\n",
    "print('Av ', gm * Ro)"
   ]
  },
  {
   "cell_type": "markdown",
   "id": "b81e7cf3-cff9-48ed-a5d2-450ad4f7f512",
   "metadata": {
    "editable": true,
    "slideshow": {
     "slide_type": ""
    },
    "tags": []
   },
   "source": [
    "## CC-CE stage\n",
    "\n",
    "|  | Common-Emitter | Common-Collector |\n",
    "| --- | --- | --- |\n",
    "| $\\sm{R}{in}$ | $r_\\pi$ （较低，数 kΩ） | $r_\\pi + (1+\\beta) \\sm{R}{E}$ （高，数百 kΩ）|\n",
    "| $\\sm{A}{v}$ | $\\sm{g}{m}\\sm{R}{o}$ （可上百） | $< 1$（低） |\n",
    "\n",
    "所以，CC-CE 可同时做到高 $\\sm{R}{in}$ 和高 $\\sm{A}{v}$，这也是运放的增益级常用 CC-CE 结构的原因，因为输入级通常偏置电流很小（几个微安）），那么输出阻抗会很大，因此需要先接一级 emitter follower 与之匹配。"
   ]
  },
  {
   "cell_type": "code",
   "execution_count": 50,
   "id": "781a01cb-1d32-4776-adc7-b1b27613768f",
   "metadata": {
    "editable": true,
    "slideshow": {
     "slide_type": ""
    },
    "tags": [
     "hide_code"
    ]
   },
   "outputs": [
    {
     "data": {
      "image/png": "[encoded data removed]"
     },
     "metadata": {},
     "output_type": "display_data"
    }
   ],
   "source": [
    "%%tikz -ct\n",
    "\\ctikzset{transistors/arrow pos=end, american currents, american voltages, european resistors}\n",
    "\n",
    "\\draw (0, 0) node [npn] (Q1) {Q1};\n",
    "\\draw (Q1.E) to [short, *-] ++(0.5, 0)\n",
    "  node [npn, anchor=B] (Q2) {Q2};\n",
    "\\draw (Q1.E) to [R, l={$R_\\mathrm{E}$}, bipoles/length=1cm] ++(0, -1.5) coordinate (G);\n",
    "\\draw (Q2.C) to [I, invert, l_={$I_\\mathrm{C2}$}, bipoles/length=1.2cm] ++(0, 1.5) coordinate (T);\n",
    "\\draw (Q1.C) |- (T) node [circ] {} node [vcc] {Vcc};\n",
    "\\draw (Q2.E) |- (G);\n",
    "\\draw (Q2.E |- G) node [circ] {} node [sground] {};\n",
    "\\draw (Q2.C) to [short, *-o] ++(0.6, 0) node [right] {Vout};\n",
    "\\draw (Q1.B) to [short, -o] ++(-0.2, 0) node [left] {Vin};"
   ]
  },
  {
   "cell_type": "markdown",
   "id": "61c34aea-30ca-46ba-a57b-f1ec50ad5a47",
   "metadata": {},
   "source": [
    "$\\sm{R}{i1} =r_{\\pi 1} +(1+\\beta)(\\sm{R}{E}/\\!/ r_{\\pi2})$\n",
    "\n",
    "假设 $\\sm{R}{E}=50$kΩ，$\\ui{C2}=1$mA，$\\uv{BE2}=0.7$V，那么 \n",
    "\n",
    "* $\\ui{E1}=\\ui{RE}+\\ui{B2} = \\dfrac{0.7}{50} + \\dfrac{1}{\\beta} = 24$μA\n",
    "\n",
    "* $r_{\\pi 1} = \\dfrac{\\beta\\uv{T}}{\\ui{C1}} \\approx \\dfrac{100 \\times 25.8}{24}=107.5$kΩ\n",
    "* $r_{\\pi 2} = \\dfrac{\\beta\\uv{T}}{\\ui{C1}} \\approx 2.58$kΩ\n",
    "* $\\sm{R}{E}/\\!/ r_{\\pi2} = 2.45$kΩ\n",
    "* $\\sm{R}{i1} =r_{\\pi 1} +(1+\\beta)(\\sm{R}{E}/\\!/ r_{\\pi2})=107.5+101\\times 2.45 = 355$kΩ\n",
    "\n",
    "降低 $\\ui{C2}$ 可以增加 $r_{\\pi 2}$ 从而增加 $\\sm{R}{i1}$，但同时也会增加 $\\sm{r}{o2}=\\dfrac{\\uv{A2}}{\\ui{C2}}$，这又是一对矛盾。"
   ]
  },
  {
   "cell_type": "code",
   "execution_count": 56,
   "id": "80c72992-b9cd-4744-836e-04fd092d1bc5",
   "metadata": {},
   "outputs": [
    {
     "name": "stdout",
     "output_type": "stream",
     "text": [
      "   @q1[ic] =   23.971 uA\n",
      "   @q2[gm] =   40.418 mS\n",
      "   @q2[ic] =    1.046 mA\n",
      "         b =   0.7144 V\n",
      "      bias =  14.2872 V\n",
      "         c =   8.0265 V\n",
      "       vcc =  15.0000 V\n",
      "vcc#branch =   -2.022 mA\n",
      "       vin =   1.3300 V\n",
      "vin#branch =   -0.217 uA\n"
     ]
    },
    {
     "data": {
      "text/plain": [
       "{'@q2[gm]': array([0.04041801]),\n",
       " '@q2[ic]': array([0.00104561]),\n",
       " '@q1[ic]': array([2.39706021e-05]),\n",
       " 'output_impedance_at_V(c)': array([38168.15781395]),\n",
       " 'vin#Input_impedance': array([395983.19138987]),\n",
       " 'Transfer_function': array([-1078.10888197])}"
      ]
     },
     "execution_count": 56,
     "metadata": {},
     "output_type": "execute_result"
    }
   ],
   "source": [
    "ng.circ('''\n",
    "  Q3  bias  bias  vcc  PNP\n",
    "  Q4  c     bias  vcc  PNP\n",
    "  R1  bias  0  15k\n",
    "\n",
    "  Q2  c     b     0    NPN\n",
    "  Q1  vcc   vin   b    NPN\n",
    "  Re  b     0  50k\n",
    "\n",
    "  Vcc  vcc  0  15V\n",
    "  Vin  vin  0  1.33V\n",
    "  * .options savecurrents\n",
    "  .save all @q1[ic] @q2[ic] @q2[gm]\n",
    "  .model PNP PNP(IS=1fA BF=80  VAF=50)\n",
    "  .model NPN NPN(IS=1fA BF=100 VAF=130)\n",
    "''')\n",
    "print_op()\n",
    "ng.cmd('tf  v(c)  vin')\n",
    "ng.vectors()"
   ]
  },
  {
   "cell_type": "markdown",
   "id": "1cc89efd-f480-485b-8a27-496d60dc9530",
   "metadata": {
    "editable": true,
    "slideshow": {
     "slide_type": ""
    },
    "tags": []
   },
   "source": [
    "## Differential pair with active load"
   ]
  },
  {
   "cell_type": "code",
   "execution_count": 4,
   "id": "332cf05a-b84f-4857-974f-b671b1da9337",
   "metadata": {
    "editable": true,
    "slideshow": {
     "slide_type": ""
    },
    "tags": [
     "hide_code"
    ]
   },
   "outputs": [
    {
     "data": {
      "image/png": "[encoded data removed]"
     },
     "metadata": {},
     "output_type": "display_data"
    }
   ],
   "source": [
    "%%tikz -ct\n",
    "\\ctikzset{transistors/arrow pos=end, american currents, european resistors}\n",
    "\n",
    "\\draw (0, 0) node [npn] (Q1) {Q1};\n",
    "\\draw (Q1) ++(1.8, 0) node [npn, xscale=-1] (Q2) {\\ctikzflipx{Q2}};\n",
    "\\draw (Q1.E) -- (Q2.E);\n",
    "\\draw (Q1.B) to [short, -o] ++(-0.2, 0) node [above] {In$+$};\n",
    "\\draw (Q2.B) to [short, -o] ++(0.2, 0) node [above] {In$-$};\n",
    "\n",
    "\\draw (Q1.E) ++(0.9, 0) node [circ] {} coordinate (M)\n",
    "to [I, l={$I_\\mathrm{EE}$}, bipoles/length=1.2cm] ++(0, -1.5)\n",
    "node [vee] {Vee};\n",
    "\n",
    "%\\draw (Q1.C) to [R, l={$R_\\mathrm{C}$}, bipoles/length=0.8cm] ++(0, 1.5) coordinate (T);\n",
    "%\\draw (Q2.C) to [R, l_={$R_\\mathrm{C}$}, bipoles/length=0.8cm] (Q2.C |- T) -- (T);\n",
    "\\draw (Q1.C) to [short, -*] ++(0, 0.6)\n",
    "  node [pnp, anchor=C, xscale=-1] (Q3) {\\ctikzflipx{Q3}};\n",
    "\\draw (Q3 -| Q2) node [pnp] (Q4) {Q4};\n",
    "\\draw (Q3.E) -- (Q4.E);\n",
    "\\draw (Q3.E) coordinate (T);\n",
    "\\draw (T-|M) node [circ] {} node [vcc] {Vcc};\n",
    "\\draw (Q3.C) -| (Q3.B -|M) node [circ] {};\n",
    "\\draw (Q4.C) -- (Q2.C);\n",
    "\n",
    "%\\draw (Q1.C) to [short, *-o] ++(0.5, 0) node [above] {+};\n",
    "\\draw (Q2.C)++(0, 0.3) to [short, *-o] ++(1.0, 0) node [above] {Vout};\n",
    "\\draw (Q1.C) node [currarrow, rotate=-90] {} node [right] {$I_\\mathrm{C}$};"
   ]
  },
  {
   "cell_type": "markdown",
   "id": "e1e0508e-2a4d-42cd-bf42-0e5e9d7e1c8a",
   "metadata": {},
   "source": [
    "跨导 $\\sm{g}{m}=\\dfrac{\\ui{C}}{\\uv{T}}$\n",
    "\n",
    "差分输入阻抗 $\\sm{R}{id}= 2r_\\pi= 2\\dfrac{\\beta}{\\sm{g}{m}}=2\\dfrac{\\beta\\,\\uv{T}}{\\ui{C}}$\n",
    "\n",
    "输出阻抗 $\\sm{R}{o}=\\sm{r}{o2}/\\!/\\sm{r}{o4}=\\dfrac{\\uv{A2}}{\\ui{C}}/\\!/\\dfrac{\\uv{A4}}{\\ui{C}} =\\dfrac{1}{\\ui{C}}\\cdot\\dfrac{\\uv{A1}\\uv{A2}}{\\uv{A1}+\\uv{A2}}$\n",
    "\n",
    "电压增益 $\\sm{A}{v}=\\sm{g}{m}\\sm{R}{o}=\\dfrac{1}{\\uv{T}}\\cdot\\dfrac{\\uv{A1}\\uv{A2}}{\\uv{A1}+\\uv{A2}}$\n",
    "\n",
    "可见 $\\sm{A}{v}$ 与 $\\ui{C}$ 无关，而 $\\sm{R}{id}$ 和 $\\sm{R}{o}$ 均 $\\propto \\dfrac{1}{\\ui{C}}$，对于输入级，一般先满足 $\\sm{R}{id}$，通常导致 $\\sm{g}{m}$ 比较小，实际的增益会比较低。"
   ]
  },
  {
   "cell_type": "markdown",
   "id": "4a3637ae-1a5d-457c-b7db-b385769862ea",
   "metadata": {
    "editable": true,
    "slideshow": {
     "slide_type": ""
    },
    "tags": []
   },
   "source": [
    "### PNP Input"
   ]
  },
  {
   "cell_type": "code",
   "execution_count": 4,
   "id": "c41d7a43-eb7e-474e-a064-072608f8c0a7",
   "metadata": {
    "editable": true,
    "slideshow": {
     "slide_type": ""
    },
    "tags": [
     "hide_code"
    ]
   },
   "outputs": [
    {
     "data": {
      "image/png": "[encoded data removed]"
     },
     "metadata": {},
     "output_type": "display_data"
    }
   ],
   "source": [
    "%%tikz -ct\n",
    "\n",
    "\\ctikzset{transistors/arrow pos=end, american currents, european resistors}\n",
    "\n",
    "\\draw (0, 0) node [npn, xscale=-1] (Q3) {\\ctikzflipx{Q3}};\n",
    "\\draw (Q3.B) node [circ] {} node [npn, anchor=B] (Q4) {Q4};\n",
    "\\draw (Q3.C) -| (Q3.B);\n",
    "\\draw (Q3.E) -- (Q4.E);\n",
    "\\draw (Q3.E-|Q3.B) node [circ] {} node [vee] {Vee};\n",
    "\n",
    "\\draw (Q3.C) to [short, *-] ++(0, 0.8)\n",
    "  node [pnp, anchor=C] (Q1) {Q1};\n",
    "\n",
    "\\draw (Q1 -| Q4) node [pnp, xscale=-1] (Q2) {\\ctikzflipx{Q2}};\n",
    "\\draw (Q2.C) -- (Q4.C);\n",
    "\\draw (Q1.E) -- (Q2.E);\n",
    "\\draw (Q1.E-|Q3.B) node [circ] {}\n",
    "  to [I, invert, l={$2I_1$}, bipoles/length=1.2cm] ++(0, 1.5)\n",
    "  node [vcc] {Vcc};\n",
    "\\draw (Q4.C) ++ (0, 0.4) to [short, *-o] ++(1, 0) node [right] {Vout};\n",
    "\\draw (Q1.B) to [short, -o] ++(-0.2, 0) node [above] {In$+$};\n",
    "\\draw (Q2.B) to [short, -o] ++(0.2, 0) node [above] {In$-$};"
   ]
  },
  {
   "cell_type": "markdown",
   "id": "c39791c1-0a09-4daa-8882-102ee56619ab",
   "metadata": {},
   "source": [
    "1. 要求 $\\sm{R}{in}=2r_\\pi=1$MΩ\n",
    "\n",
    "2. $r_\\pi=\\dfrac{\\beta\\,\\uv{T}}{I_1}=500$kΩ\n",
    "\n",
    "3. $\\sm{\\beta}{P}=50$, $I_1=\\dfrac{50\\times 26}{500}=2.6$μA\n",
    "\n",
    "4. $\\ui{bias}=\\uv{T}/r_\\pi=52$nA，与 $\\ui{CQ}$ 和 $\\beta$ 无关。"
   ]
  },
  {
   "cell_type": "code",
   "execution_count": null,
   "id": "3397e9d6-46f6-4714-ac54-d9c07a60b134",
   "metadata": {},
   "outputs": [],
   "source": []
  },
  {
   "cell_type": "markdown",
   "id": "15cf91ed-95ff-4ef1-a2f1-c24bfa69c618",
   "metadata": {
    "editable": true,
    "slideshow": {
     "slide_type": ""
    },
    "tags": []
   },
   "source": [
    "## Put it together"
   ]
  },
  {
   "cell_type": "markdown",
   "id": "208b2e6c-7c48-4860-8bbd-b2b6b0f66e89",
   "metadata": {
    "editable": true,
    "slideshow": {
     "slide_type": ""
    },
    "tags": []
   },
   "source": [
    "### Two-stage microphone amplifier\n",
    "\n",
    "第一级是 common-emitter，提供电压增益，但是其输出阻抗太高，带不动扬声器负载（十几 Ω）。所以加一级 emitter follower，以实现阻抗变换，把输出阻抗降到与扬声器相近的水平。\n",
    "\n",
    "$\\sm{A}{v1}\\approx\\dfrac{R_1}{R_2}$\n",
    "\n",
    "$\\sm{R}{in}\\approx r_{\\pi 1} + (1+\\beta)\\sm{R}{3} = \\dfrac{\\beta}{\\sm{g}{m1}} + (1+\\beta)\\sm{R}{3} $\n",
    "\n",
    "$\\sm{R}{o}\\approx \\sm{r}{e 2} = \\dfrac{\\alpha}{\\sm{g}{m2}}=\\dfrac{\\uv{T}}{\\ui{E2}}$"
   ]
  },
  {
   "cell_type": "code",
   "execution_count": 3,
   "id": "2d9aa43d-a9d2-4bdc-88bb-cff8e70a8e6f",
   "metadata": {
    "editable": true,
    "slideshow": {
     "slide_type": ""
    },
    "tags": [
     "hide_code"
    ]
   },
   "outputs": [
    {
     "data": {
      "image/png": "[encoded data removed]"
     },
     "metadata": {},
     "output_type": "display_data"
    }
   ],
   "source": [
    "%%tikz -ct\n",
    "\n",
    "\\ctikzset{transistors/arrow pos=end, american currents, american voltages, european resistors, misc/fill=cyan!20}\n",
    "\n",
    "\\draw (0, 0) node [npn] (Q1) {Q1};\n",
    "\\draw (Q1.E) to [R, l={$R_3$}, bipoles/length=1cm] ++(0, -1.0)\n",
    "  to [short, -*] ++(0, -0.3)\n",
    "  coordinate (G) node [ground] {};\n",
    "\\draw (Q1.C) to [R, l_={$R_1$}, bipoles/length=1cm] ++(0, 1.5)\n",
    "  to [short, -*] ++(0, 0.1) node [vcc] {Vcc}\n",
    "  coordinate (T);\n",
    "\\draw (Q1.C) to [R, l_={$R_2$}, bipoles/length=1cm] ++(-1.8, 0)\n",
    "  coordinate (C) |- (Q1.B);\n",
    "\\draw (Q1.B-|C) node [circ] {} to [C, bipoles/length=1cm] ++(-1.2, 0)\n",
    "  coordinate (MIC)\n",
    "  to [tlmic, mirror, *-] (MIC|-G) -- (G);\n",
    "\\draw (MIC) to [R, l={$R_5$}, bipoles/length=1cm] (MIC|-T) -- (T);\n",
    "\n",
    "\\draw (Q1.C) to [short, *-] ++(0.8, 0) node [npn, anchor=B] (Q2) {Q2};\n",
    "\\draw (Q2.C) |- (T);\n",
    "\\draw (Q2.E) node [circ] {} to [eC, bipoles/length=1cm] ++(1.5, 0)\n",
    "  coordinate (OUT) node [above] {Vout}\n",
    "  to [loudspeaker] (OUT|-G) -- (G);\n",
    "\n",
    "\\draw (Q2.E) to [R, l={$R_4$}, bipoles/length=1cm] (Q2.E|-G)\n",
    "  node [circ] {};"
   ]
  },
  {
   "cell_type": "code",
   "execution_count": 6,
   "id": "d06457ff-670e-4f11-a654-318ea226bc8e",
   "metadata": {},
   "outputs": [
    {
     "name": "stdout",
     "output_type": "stream",
     "text": [
      "       out =      0.0 uV\n",
      "       q1b =   1.0169 V\n",
      "       q1c =   2.9318 V\n",
      "       q1e =   0.2928 V\n",
      "       q2e =   2.1563 V\n",
      "       vcc =   6.0000 V\n",
      "vcc#branch =  -24.491 mA\n",
      "       vin =   1.0000 V\n",
      "vin#branch =    0.000 uA\n"
     ]
    }
   ],
   "source": [
    "ng.circ('''\n",
    "  Vcc  vcc   0     6V\n",
    "\n",
    "  * 1st stage, common-emitter\n",
    "  R1   vcc   q1c   1k\n",
    "  R2   q1c   q1b   100k\n",
    "  R3   q1e   0     100\n",
    "  C2   q1e   0     1u\n",
    "  Q1   q1c   q1b   q1e   NPN\n",
    "\n",
    "  * 2nd stage, emitter follower\n",
    "  Q2   vcc   q1c   q2e   NPN\n",
    "  R4   q2e   0     100\n",
    "  \n",
    "  C1   vin   q1b   1u\n",
    "  Vin  vin   0     AC SINE(1V 50mV 1k)\n",
    "\n",
    "  C3    q2e   out  22u\n",
    "  Rload out   0    16\n",
    "  .model NPN NPN(IS=2fA BF=150 VAF=150)\n",
    "''')\n",
    "print_op()"
   ]
  },
  {
   "cell_type": "code",
   "execution_count": 7,
   "id": "84957746-e696-494d-8507-b3efa2acd860",
   "metadata": {},
   "outputs": [
    {
     "name": "stdout",
     "output_type": "stream",
     "text": [
      "0.0993069766189818\n",
      "0.7186926254274055\n"
     ]
    },
    {
     "data": {
      "image/png": "[encoded data removed]",
      "text/plain": [
       "<Figure size 640x480 with 1 Axes>"
      ]
     },
     "metadata": {},
     "output_type": "display_data"
    }
   ],
   "source": [
    "ng.cmd('tran 1u 6m')\n",
    "\n",
    "fig, ax = plt.subplots()\n",
    "Vin = ng.vector('q1b')\n",
    "plt.plot(ng.vector('time'), Vin)\n",
    "print(max(Vin) - min(Vin))\n",
    "\n",
    "# ax2 = ax.twinx()\n",
    "Vout = ng.vector('q2e')\n",
    "plt.plot(ng.vector('time'), Vout, 'orange')\n",
    "print(max(Vout) - min(Vout))"
   ]
  },
  {
   "cell_type": "code",
   "execution_count": 8,
   "id": "c0148426-3876-42b7-83c4-be821fdf7dd1",
   "metadata": {},
   "outputs": [
    {
     "name": "stdout",
     "output_type": "stream",
     "text": [
      "0.6357251381441207\n"
     ]
    },
    {
     "data": {
      "image/png": "[encoded data removed]",
      "text/plain": [
       "<Figure size 640x480 with 1 Axes>"
      ]
     },
     "metadata": {},
     "output_type": "display_data"
    }
   ],
   "source": [
    "Vout = ng.vector('out')\n",
    "plt.plot(ng.vector('time'), Vout, 'orange')\n",
    "print(max(Vout) - min(Vout))"
   ]
  },
  {
   "cell_type": "markdown",
   "id": "438391bf-25fd-4ddd-9874-f0251fc7ca80",
   "metadata": {
    "editable": true,
    "slideshow": {
     "slide_type": ""
    },
    "tags": []
   },
   "source": [
    "可见输出波形有比较明显的非线性失真。\n",
    "\n",
    "实际使用中直接用 LM386 即可。"
   ]
  },
  {
   "cell_type": "code",
   "execution_count": 22,
   "id": "5ccaf524-5795-44ee-a9cc-9c97d47184a0",
   "metadata": {
    "editable": true,
    "slideshow": {
     "slide_type": ""
    },
    "tags": [
     "hide_code"
    ]
   },
   "outputs": [
    {
     "data": {
      "image/png": "[encoded data removed]"
     },
     "metadata": {},
     "output_type": "display_data"
    }
   ],
   "source": [
    "%%tikz -ct\n",
    "\n",
    "\\ctikzset{european resistors, amplifiers/fill=cyan!20, misc/fill=cyan!20}\n",
    "\n",
    "\\draw (0, 0) node [op amp, noinv input up] (OA) {LM386};\n",
    "\\draw (OA.+) to [C, bipoles/length=1cm] ++(-1.2, 0)\n",
    "  to [short] ++(-0.3, 0)\n",
    "  coordinate (MIC)\n",
    "  to [tlmic, mirror, *-] ++(0, -2) coordinate (G);\n",
    "\\draw (MIC) to [R, l={$R_1$}, bipoles/length=1cm] ++(0, 1.5)\n",
    "  coordinate (T);\n",
    "\\draw (OA.up) |- (T);\n",
    "\\draw (OA.-) to [short, -*] (OA.- |- G);\n",
    "\\draw (OA.down) to [short, -*] (OA.down |- G) node [ground] {};\n",
    "\\draw (OA.up |- T) node [circ] {} node [vcc] {Vcc};\n",
    "\\draw (OA.out) to [eC, bipoles/length=1cm] ++(1.2, 0) coordinate (OUT)\n",
    "  to [loudspeaker] (OUT|-G) -- (G);"
   ]
  },
  {
   "cell_type": "markdown",
   "id": "92152c8a-16d3-4b82-96fd-9f9f71dd7b4c",
   "metadata": {
    "editable": true,
    "slideshow": {
     "slide_type": ""
    },
    "tags": []
   },
   "source": [
    "### RC4558 op amp\n",
    "\n",
    "https://nuedc.org/rc4558/"
   ]
  }
 ],
 "metadata": {
  "kernelspec": {
   "display_name": "Python 3 (ipykernel)",
   "language": "python",
   "name": "python3"
  },
  "language_info": {
   "codemirror_mode": {
    "name": "ipython",
    "version": 3
   },
   "file_extension": ".py",
   "mimetype": "text/x-python",
   "name": "python",
   "nbconvert_exporter": "python",
   "pygments_lexer": "ipython3",
   "version": "3.11.8"
  }
 },
 "nbformat": 4,
 "nbformat_minor": 5
}
