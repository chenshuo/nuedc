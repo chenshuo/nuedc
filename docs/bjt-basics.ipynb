{
 "cells": [
  {
   "cell_type": "markdown",
   "id": "a3dd9d18-de24-4645-bb30-812ddd4ea6fc",
   "metadata": {},
   "source": [
    "# BJT 三极管基础知识复习"
   ]
  },
  {
   "cell_type": "code",
   "execution_count": 1,
   "id": "3ae4a5fd-9afb-430d-8aa8-8d19cb5798ed",
   "metadata": {
    "editable": true,
    "slideshow": {
     "slide_type": ""
    },
    "tags": [
     "hide_cell"
    ]
   },
   "outputs": [],
   "source": [
    "%matplotlib inline\n",
    "%load_ext tikzmagic\n",
    "\n",
    "from math import exp, log, log10\n",
    "import numpy as np\n",
    "from matplotlib import pyplot as plt\n",
    "import ngspyce as ng\n",
    "\n",
    "# kΩ μA\n",
    "\n",
    "def para(r1, r2):\n",
    "  return (r1*r2) / (r1 + r2)"
   ]
  },
  {
   "cell_type": "code",
   "execution_count": 3,
   "id": "974775af-1a93-4aa8-8065-819c7f6a5487",
   "metadata": {
    "editable": true,
    "slideshow": {
     "slide_type": ""
    },
    "tags": [
     "hide_cell"
    ]
   },
   "outputs": [],
   "source": [
    "def print_op(show_ib=True, show_ie=False):\n",
    "  op = ng.operating_point()\n",
    "  for k in sorted(op.keys()):\n",
    "    if '[i' in k or '#branch' in k:\n",
    "        if '[is]' in k:\n",
    "            continue\n",
    "        if '[ie]' in k and not show_ie:\n",
    "            continue\n",
    "        if '[ib]' in k and not show_ib:\n",
    "            continue\n",
    "        current = op[k][0]\n",
    "        k = k.replace('q.x.', '')\n",
    "        k = k.replace('r.x.', '')\n",
    "        if abs(current) > 1e-3:\n",
    "            print('%10s = %8.3f mA' % (k, 1e3*current))\n",
    "        else:\n",
    "            print('%10s = %8.3f uA' % (k, 1e6*current))\n",
    "    elif '[g' in k:\n",
    "        gm = op[k][0]\n",
    "        if gm > 10e-3:\n",
    "            print('%10s = %8.3f mS' % (k, 1e3 * gm))\n",
    "        else:\n",
    "            print('%10s = %8.3f uS' % (k, 1e6 * gm))\n",
    "    else:  # Voltage\n",
    "        voltage = op[k][0]\n",
    "        k = k.replace('x.', '')\n",
    "        if abs(voltage) > 10e-3:\n",
    "            print('%10s = %8.4f V' % (k, voltage))\n",
    "        else:\n",
    "            print('%10s = %8.1f uV' % (k, 1e6*voltage))\n"
   ]
  },
  {
   "cell_type": "markdown",
   "id": "dca3040a-aa23-4eef-8f38-f0745a271229",
   "metadata": {},
   "source": [
    "## 基本模型\n",
    "$\\newcommand{\\li}[1]{{i_\\mathrm{#1}}}$\n",
    "$\\newcommand{\\ui}[1]{{I_\\mathrm{#1}}}$\n",
    "$\\newcommand{\\lv}[1]{{v_\\mathrm{#1}}}$\n",
    "$\\newcommand{\\uv}[1]{{V_\\mathrm{#1}}}$\n",
    "$\\newcommand{\\sm}[2]{{{#1}_\\mathrm{#2}}}$\n",
    "物理常数，注意 SPICE 用的 $k$ / $q$ 常数是旧值。"
   ]
  },
  {
   "cell_type": "code",
   "execution_count": 6,
   "id": "af321fe7-9ea6-4ddf-ae63-935f76852af5",
   "metadata": {},
   "outputs": [
    {
     "data": {
      "text/plain": [
       "{'planck': array([6.62607004e-34]),\n",
       " 'boltz': array([1.38064852e-23]),\n",
       " 'echarge': array([1.60217662e-19]),\n",
       " 'kelvin': array([-273.15]),\n",
       " 'i': array([0.+1.j]),\n",
       " 'c': array([2.99792458e+08]),\n",
       " 'e': array([2.71828183]),\n",
       " 'pi': array([3.14159265]),\n",
       " 'FALSE': array([0.]),\n",
       " 'no': array([0.]),\n",
       " 'TRUE': array([1.]),\n",
       " 'yes': array([1.])}"
      ]
     },
     "execution_count": 6,
     "metadata": {},
     "output_type": "execute_result"
    }
   ],
   "source": [
    "boltz = 1.38064852e-23\n",
    "echarge = 1.60217662e-19\n",
    "kelvin = 273.15\n",
    "ng.vectors()"
   ]
  },
  {
   "cell_type": "markdown",
   "id": "b66648a6-b2cd-4ad7-aeee-64e12860e092",
   "metadata": {},
   "source": [
    "### Ebers-Moll 大型号模型"
   ]
  },
  {
   "cell_type": "code",
   "execution_count": 4,
   "id": "743e3d62-8c4e-4fc8-90e8-729926687997",
   "metadata": {
    "editable": true,
    "slideshow": {
     "slide_type": ""
    },
    "tags": [
     "hide_code"
    ]
   },
   "outputs": [
    {
     "data": {
      "image/png": "[encoded data removed]"
     },
     "metadata": {},
     "output_type": "display_data"
    }
   ],
   "source": [
    "%%tikz -ct\n",
    "\\ctikzset{european voltages, american currents, european resistors}\n",
    "\\ctikzset{transistors/arrow pos=end, transistors/fill=cyan!20}\n",
    "\\ctikzset{diodes/fill=cyan!20, csources/fill=cyan!20}\n",
    "\n",
    "\\newcommand{\\li}[1]{\\ensuremath{i_\\mathrm{#1}}}\n",
    "\\newcommand{\\ui}[1]{\\ensuremath{I_\\mathrm{#1}}}\n",
    "\\newcommand{\\lv}[1]{\\ensuremath{v_\\mathrm{#1}}}\n",
    "\\newcommand{\\uv}[1]{\\ensuremath{V_\\mathrm{#1}}}\n",
    "\n",
    "\\draw [dashed] (0, 0) node [npn] (Q) {}; \n",
    "\\draw (Q.B) to [D, bipoles/length=1cm] ++(0, -1.5) coordinate (E);\n",
    "\\draw (Q.B) to [short, -o] ++(-1, 0) node [left] {B};\n",
    "\\draw [dashed] (Q.E) to [short] (Q.E |- E); \n",
    "\\draw (Q.E |- E) to [short, *-o] ++(0, -0.5) node [below] {E};\n",
    "\\draw (Q) ++(0.7, 0) coordinate (C) \n",
    "  to [american controlled current source, l={$\\li{C}=\\ui{S}\\exp\\displaystyle\\frac{\\lv{BE}}{\\uv{T}}$}, bipoles/length=1cm] (C|-E)\n",
    "  -- (E);\n",
    "\\draw (C) to [short, -o] ++(1, 0) node [right] {C};\n",
    "\\draw [dashed] (Q.C) -| (C);\n",
    "\\draw (Q.B)++(-0.1,0) to [open, f_={$\\li{B}=\\displaystyle\\frac{\\li{C}}{\\beta}$}] ++(0, -1);"
   ]
  },
  {
   "cell_type": "code",
   "execution_count": 7,
   "id": "e24e08e1-aeff-47ef-81d5-e024d8a7b4fd",
   "metadata": {},
   "outputs": [
    {
     "name": "stdout",
     "output_type": "stream",
     "text": [
      "0.02586491702007235\n"
     ]
    }
   ],
   "source": [
    "Vt = boltz * (27+kelvin) / echarge\n",
    "print(Vt)"
   ]
  },
  {
   "cell_type": "code",
   "execution_count": 49,
   "id": "43f7c9c4-d281-4cf0-8888-c749a4d4c908",
   "metadata": {},
   "outputs": [
    {
     "name": "stdout",
     "output_type": "stream",
     "text": [
      "Ic 0.0005670346694806257\n",
      "gm 0.02192292629590039\n"
     ]
    }
   ],
   "source": [
    "Is = 1e-15\n",
    "Vbe = 0.7\n",
    "Ic = Is * exp(Vbe / Vt)\n",
    "gm = Ic / Vt\n",
    "print('Ic', Ic)\n",
    "print('gm', gm)"
   ]
  },
  {
   "cell_type": "code",
   "execution_count": 44,
   "id": "0a188fbb-9997-485e-8021-bd8d7080f9f9",
   "metadata": {},
   "outputs": [
    {
     "name": "stderr",
     "output_type": "stream",
     "text": [
      "ERROR:ngspyce.sharedspice:Using SPARSE 1.3 as Direct Linear Solver\n"
     ]
    },
    {
     "data": {
      "text/plain": [
       "{'@q[gpi]': array([0.00021923]),\n",
       " '@q[gm]': array([0.02192293]),\n",
       " 'vc#branch': array([-0.00056703]),\n",
       " 'vb#branch': array([-5.67034717e-06]),\n",
       " 'b': array([0.7]),\n",
       " 'c': array([1.])}"
      ]
     },
     "execution_count": 44,
     "metadata": {},
     "output_type": "execute_result"
    }
   ],
   "source": [
    "ng.circ('''\n",
    "  Q  c b 0 NPN\n",
    "  Vc c 0 1V\n",
    "  Vb b 0 0.7V\n",
    "  .model NPN NPN(IS=1fA BF=100)\n",
    "  .save all @q[gm] @q[gpi]\n",
    "''')\n",
    "ng.operating_point()\n",
    "# print_op()"
   ]
  },
  {
   "cell_type": "code",
   "execution_count": 23,
   "id": "7aabc9c6-2ae4-4a88-9a36-78a5b7dac087",
   "metadata": {},
   "outputs": [
    {
     "name": "stdout",
     "output_type": "stream",
     "text": [
      "567.03468 uA (SPICE)\n",
      "567.03467 uA (EM)\n"
     ]
    }
   ],
   "source": [
    "Ic2 = -ng.vector('vc#branch')[0]\n",
    "print('%.5f uA (SPICE)' % (Ic2 * 1e6))\n",
    "print('%.5f uA (EM)' % (Ic * 1e6))"
   ]
  },
  {
   "cell_type": "code",
   "execution_count": 20,
   "id": "e9f31170-dd7a-4ea3-9fe8-ed6f9abc2769",
   "metadata": {},
   "outputs": [
    {
     "name": "stdout",
     "output_type": "stream",
     "text": [
      "5.6703472 uA (SPICE)\n",
      "5.6703467 uA (EM)\n"
     ]
    }
   ],
   "source": [
    "Ib = -ng.vector('vb#branch')[0]\n",
    "print('%.7f uA (SPICE)' % (Ib * 1e6))\n",
    "print('%.7f uA (EM)' % (Ic / 100 * 1e6))"
   ]
  },
  {
   "cell_type": "code",
   "execution_count": 36,
   "id": "e4342fdd-cf0d-4346-848f-fa4c82383c19",
   "metadata": {},
   "outputs": [
    {
     "name": "stdout",
     "output_type": "stream",
     "text": [
      "21.92293 mS (SPICE)\n",
      "21.92293 mS (EM)\n"
     ]
    }
   ],
   "source": [
    "gm2 = ng.vector('@q[gm]')[0]\n",
    "print('%.5f mS (SPICE)' % (gm2 * 1e3))\n",
    "print('%.5f mS (EM)' % (gm * 1e3))"
   ]
  },
  {
   "cell_type": "markdown",
   "id": "5ef4ec2c-9edf-473b-a6d2-ad3969e1cee7",
   "metadata": {},
   "source": [
    "#### Curve tracer"
   ]
  },
  {
   "cell_type": "code",
   "execution_count": null,
   "id": "4cbde773-dfd7-4762-b211-8572da360e59",
   "metadata": {},
   "outputs": [],
   "source": []
  },
  {
   "cell_type": "markdown",
   "id": "24f2bb1c-3c48-44d1-a891-e837104eec9f",
   "metadata": {},
   "source": [
    "### Early effect\n",
    "\n",
    "Affects $\\li{C}$, not $\\li{B}$\n",
    "\n",
    "$\\li{C}=\\ui{S}\\exp\\dfrac{\\lv{BE}}{\\uv{T}}\\big(1+\\dfrac{\\lv{CE}}{\\uv{A}}\\big)$\n",
    "\n",
    "$\\li{B}=\\dfrac{\\ui{S}}{\\beta}\\exp\\dfrac{\\lv{BE}}{\\uv{T}}$"
   ]
  },
  {
   "cell_type": "code",
   "execution_count": 66,
   "id": "0ce2de75-0131-4985-bd0d-7567fb3f838f",
   "metadata": {
    "editable": true,
    "slideshow": {
     "slide_type": ""
    },
    "tags": [
     "hide_code"
    ]
   },
   "outputs": [
    {
     "data": {
      "image/png": "[encoded data removed]"
     },
     "metadata": {},
     "output_type": "display_data"
    }
   ],
   "source": [
    "%%tikz -ct -p amsmath\n",
    "\\ctikzset{european voltages, american currents, european resistors}\n",
    "\\ctikzset{transistors/arrow pos=end, transistors/fill=cyan!20}\n",
    "\\ctikzset{diodes/fill=cyan!20, csources/fill=cyan!20}\n",
    "\n",
    "\\newcommand{\\li}[1]{\\ensuremath{i_\\mathrm{#1}}}\n",
    "\\newcommand{\\ui}[1]{\\ensuremath{I_\\mathrm{#1}}}\n",
    "\\newcommand{\\lv}[1]{\\ensuremath{v_\\mathrm{#1}}}\n",
    "\\newcommand{\\uv}[1]{\\ensuremath{V_\\mathrm{#1}}}\n",
    "\n",
    "\\draw [dashed] (0, 0) node [npn] (Q) {}; \n",
    "\\draw (Q.B) to [D, bipoles/length=1cm] ++(0, -1.5) coordinate (E);\n",
    "\\draw (Q.B) to [short, -o] ++(-1, 0) node [left] {B};\n",
    "\\draw [dashed] (Q.E) to [short] (Q.E |- E); \n",
    "\\draw (Q.E |- E) to [short, *-o] ++(0, -0.5) node [below] {E};\n",
    "\\draw (Q) ++(0.7, 0) coordinate (C) \n",
    "  to [american controlled current source, l={$\\li{C}=\\li{C0}\\Big(1+\\dfrac{\\lv{CE}}{\\uv{A}}\\Big)$}, bipoles/length=1cm] (C|-E)\n",
    "  node [below right] {$\\li{C0}=\\ui{S}\\exp\\displaystyle\\frac{\\lv{BE}}{\\uv{T}}$}\n",
    "  -- (E);\n",
    "\\draw (C) to [short, -o] ++(1, 0) node [right] {C};\n",
    "\\draw [dashed] (Q.C) -| (C);\n",
    "\\draw (Q.B)++(-0.1,0) to [open, f_={$\\li{B}=\\displaystyle\\frac{\\li{C0}}{\\beta}$}] ++(0, -1);"
   ]
  },
  {
   "cell_type": "code",
   "execution_count": 39,
   "id": "c573ea9f-5f3a-425c-8379-17d3eafc4cf4",
   "metadata": {},
   "outputs": [
    {
     "name": "stderr",
     "output_type": "stream",
     "text": [
      "ERROR:ngspyce.sharedspice:Using SPARSE 1.3 as Direct Linear Solver\n"
     ]
    },
    {
     "data": {
      "text/plain": [
       "{'@q[gm]': array([0.02327837]),\n",
       " 'vc#branch': array([-0.00060219]),\n",
       " 'vb#branch': array([-5.67033817e-06]),\n",
       " 'b': array([0.7]),\n",
       " 'c': array([10.])}"
      ]
     },
     "execution_count": 39,
     "metadata": {},
     "output_type": "execute_result"
    }
   ],
   "source": [
    "ng.circ('''\n",
    "  Q  c b 0 NPN\n",
    "  Vc c 0 10V\n",
    "  Vb b 0 0.7V\n",
    "  .model NPN NPN(IS=1fA BF=100 VAF=150)\n",
    "  .save all @q[gm]\n",
    "''')\n",
    "ng.operating_point()\n",
    "# print_op()"
   ]
  },
  {
   "cell_type": "markdown",
   "id": "2d09d17e-74b4-451c-95d4-b5faaa946b4c",
   "metadata": {},
   "source": [
    "But, SPICE uses $\\lv{CB}$, not $\\lv{CE}$."
   ]
  },
  {
   "cell_type": "code",
   "execution_count": 26,
   "id": "66dd2399-bb34-4022-bce4-f118aabf4aaa",
   "metadata": {},
   "outputs": [
    {
     "name": "stdout",
     "output_type": "stream",
     "text": [
      "602.19085 uA (SPICE)\n",
      "602.19082 uA (EM)\n"
     ]
    }
   ],
   "source": [
    "Vcb = 10 - Vbe\n",
    "Vaf = 150\n",
    "Ic3 = Ic * (1 + Vcb / Vaf)\n",
    "\n",
    "Ic2 = -ng.vector('vc#branch')[0]\n",
    "print('%.5f uA (SPICE)' % (Ic2 * 1e6))\n",
    "print('%.5f uA (EM)' % (Ic3 * 1e6))"
   ]
  },
  {
   "cell_type": "code",
   "execution_count": 27,
   "id": "daf6820e-7b36-43f9-be6a-85fa44dcf95d",
   "metadata": {},
   "outputs": [
    {
     "name": "stdout",
     "output_type": "stream",
     "text": [
      "5.6703382 uA (SPICE)\n",
      "5.6703467 uA (EM)\n"
     ]
    }
   ],
   "source": [
    "Ib = -ng.vector('vb#branch')[0]\n",
    "print('%.7f uA (SPICE)' % (Ib * 1e6))\n",
    "print('%.7f uA (EM)' % (Ic / 100 * 1e6))"
   ]
  },
  {
   "cell_type": "code",
   "execution_count": 42,
   "id": "cb077f8c-8437-4361-b56e-9a608146d6bb",
   "metadata": {},
   "outputs": [
    {
     "name": "stdout",
     "output_type": "stream",
     "text": [
      "gm 23.278 mS (SPICE)\n",
      "gm 23.282 mS (EM)\n"
     ]
    }
   ],
   "source": [
    "gm3 = ng.vector('@q[gm]')[0]\n",
    "print('gm %.3f mS (SPICE)' % (gm3 * 1e3))\n",
    "print('gm %.3f mS (EM)' % (1e3 * Ic3 / Vt))"
   ]
  },
  {
   "cell_type": "markdown",
   "id": "764263ab-8fd4-4ebb-845f-db25d145f7c7",
   "metadata": {},
   "source": [
    "#### Curve tracer"
   ]
  },
  {
   "cell_type": "markdown",
   "id": "eef6da50-9958-4b28-a243-ce65dbfa066d",
   "metadata": {},
   "source": []
  },
  {
   "cell_type": "markdown",
   "id": "06117d83-8fcf-41b4-8929-53301a1b4502",
   "metadata": {},
   "source": [
    "### 低频小信号 hybrid-pi 模型"
   ]
  },
  {
   "cell_type": "markdown",
   "id": "63bfb469-5bdb-4f2f-b734-a651fbb1569c",
   "metadata": {},
   "source": [
    "Input impedance\n",
    "\n",
    "$r_\\pi = \\dfrac{\\uv{T}}{\\ui{B}}$\n",
    "\n",
    "$r_\\pi = \\dfrac{\\beta}{\\sm{g}{m}}$ when ignoring Early effects."
   ]
  },
  {
   "cell_type": "code",
   "execution_count": 53,
   "id": "c2c56204-d18c-4ac5-b10e-e37f0c6ceea2",
   "metadata": {},
   "outputs": [
    {
     "name": "stdout",
     "output_type": "stream",
     "text": [
      "rpi 4561.434849083085\n"
     ]
    }
   ],
   "source": [
    "Is = 1e-15\n",
    "Vbe = 0.7\n",
    "beta = 100\n",
    "Ib = Is / beta * exp(Vbe / Vt)\n",
    "\n",
    "print('rpi', Vt / Ib)"
   ]
  },
  {
   "cell_type": "code",
   "execution_count": 47,
   "id": "0e58d268-bc74-4ad2-aede-28a46c68593e",
   "metadata": {},
   "outputs": [
    {
     "name": "stderr",
     "output_type": "stream",
     "text": [
      "ERROR:ngspyce.sharedspice:Using SPARSE 1.3 as Direct Linear Solver\n"
     ]
    },
    {
     "data": {
      "text/plain": [
       "{'@q[gm]': array([0.02319366]),\n",
       " 'vb#branch': array([-5.67033875e-06]),\n",
       " 'b': array([0.7]),\n",
       " 'c': array([9.42044675])}"
      ]
     },
     "execution_count": 47,
     "metadata": {},
     "output_type": "execute_result"
    }
   ],
   "source": [
    "ng.circ('''\n",
    "  Q  c b 0 NPN\n",
    "  Ic 0 c 600u\n",
    "  Vb b 0 0.7V\n",
    "  .model NPN NPN(IS=1fA BF=100 VAF=150)\n",
    "  .save all @q[gm]\n",
    "''')\n",
    "ng.operating_point()\n",
    "# print_op()"
   ]
  },
  {
   "cell_type": "code",
   "execution_count": 48,
   "id": "f6667e27-5e5e-4302-b36b-d35d48634586",
   "metadata": {},
   "outputs": [
    {
     "name": "stderr",
     "output_type": "stream",
     "text": [
      "ERROR:ngspyce.sharedspice:Using SPARSE 1.3 as Direct Linear Solver\n"
     ]
    },
    {
     "data": {
      "text/plain": [
       "{'@q[gm]': array([0.02319366]),\n",
       " 'output_impedance_at_V(c)': array([264533.94595817]),\n",
       " 'vb#Input_impedance': array([4561.30708746]),\n",
       " 'Transfer_function': array([-6135.51158203])}"
      ]
     },
     "execution_count": 48,
     "metadata": {},
     "output_type": "execute_result"
    }
   ],
   "source": [
    "ng.cmd('tf v(c) vb')\n",
    "ng.vectors()"
   ]
  },
  {
   "cell_type": "markdown",
   "id": "97c4b21c-994a-4f06-b312-dbf10044108e",
   "metadata": {},
   "source": [
    "Output impedance\n",
    "\n",
    "$\\sm{r}{o} = \\dfrac{\\uv{A}}{\\ui{C}}$ for $\\ui{C}|_{\\uv{BC}=0}$"
   ]
  },
  {
   "cell_type": "code",
   "execution_count": 58,
   "id": "07182ef6-8376-4677-acad-35ab22707141",
   "metadata": {},
   "outputs": [
    {
     "name": "stdout",
     "output_type": "stream",
     "text": [
      "264534.08948943496\n"
     ]
    }
   ],
   "source": [
    "Ic = Is * exp(Vbe / Vt)\n",
    "ro = Vaf / Ic\n",
    "print(ro)"
   ]
  },
  {
   "cell_type": "markdown",
   "id": "e9507b10-017a-47e4-903f-c718362c02dc",
   "metadata": {},
   "source": [
    "Intrinsic gain $A_0 = \\dfrac{\\uv{A}}{\\uv{T}}$"
   ]
  },
  {
   "cell_type": "code",
   "execution_count": 59,
   "id": "217d49b4-8424-4e1d-a9c1-c44efc55314f",
   "metadata": {},
   "outputs": [
    {
     "name": "stdout",
     "output_type": "stream",
     "text": [
      "5799.36134663\n"
     ]
    }
   ],
   "source": [
    "print(Vaf/Vt)"
   ]
  },
  {
   "cell_type": "markdown",
   "id": "3a04d5c2-1e90-487d-968e-549e98ce7fe4",
   "metadata": {},
   "source": [
    "## Common-Emitter amplifier\n",
    "\n",
    "Load resistor $\\sm{R}{C}$"
   ]
  },
  {
   "cell_type": "code",
   "execution_count": 72,
   "id": "1d4578b7-1b68-4556-a5e5-ec4bcd479719",
   "metadata": {},
   "outputs": [
    {
     "name": "stderr",
     "output_type": "stream",
     "text": [
      "ERROR:ngspyce.sharedspice:Using SPARSE 1.3 as Direct Linear Solver\n",
      "ERROR:ngspyce.sharedspice:Using SPARSE 1.3 as Direct Linear Solver\n"
     ]
    },
    {
     "name": "stdout",
     "output_type": "stream",
     "text": [
      "    @q[gm] =   21.923 mS\n",
      "         b =   0.7000 V\n",
      "         c =   4.3297 V\n",
      " vb#branch =   -5.670 uA\n",
      " vc#branch = -567.035 uA\n",
      "       vcc =  10.0000 V\n"
     ]
    },
    {
     "data": {
      "text/plain": [
       "{'@q[gm]': array([0.02192293]),\n",
       " 'output_impedance_at_V(c)': array([9999.9998]),\n",
       " 'vb#Input_impedance': array([4561.43018212]),\n",
       " 'Transfer_function': array([-219.22926164])}"
      ]
     },
     "execution_count": 72,
     "metadata": {},
     "output_type": "execute_result"
    }
   ],
   "source": [
    "ng.circ('''\n",
    "  Q  c b 0 NPN\n",
    "  Vc vcc 0  10V\n",
    "  Vb b 0 0.7V\n",
    "  Rc vcc c  10k\n",
    "  .model NPN NPN(IS=1fA BF=100)\n",
    "  .save all @q[gm]\n",
    "''')\n",
    "#ng.operating_point()\n",
    "print_op()\n",
    "ng.cmd('tf v(c) vb')\n",
    "ng.vectors()"
   ]
  },
  {
   "cell_type": "code",
   "execution_count": 73,
   "id": "cfca9b2a-e32e-4e13-abc4-43913df1928a",
   "metadata": {},
   "outputs": [
    {
     "name": "stdout",
     "output_type": "stream",
     "text": [
      "Ic 0.0005670346694806257\n",
      "gm 0.02192292629590039\n",
      "Av 219.2292629590039\n"
     ]
    }
   ],
   "source": [
    "Is = 1e-15\n",
    "Vbe = 0.7\n",
    "Ic = Is * exp(Vbe / Vt)\n",
    "gm = Ic / Vt\n",
    "print('Ic', Ic)\n",
    "print('gm', gm)\n",
    "Rc = 10e3\n",
    "print('Av', gm * Rc)"
   ]
  },
  {
   "cell_type": "markdown",
   "id": "940a0cac-f1ba-4a37-90ec-7ed277ea0b4f",
   "metadata": {},
   "source": [
    "#### Early effect"
   ]
  },
  {
   "cell_type": "code",
   "execution_count": 76,
   "id": "c7c51ae0-a87f-40d0-8e57-2aa0b39f085a",
   "metadata": {},
   "outputs": [
    {
     "name": "stderr",
     "output_type": "stream",
     "text": [
      "ERROR:ngspyce.sharedspice:Using SPARSE 1.3 as Direct Linear Solver\n",
      "ERROR:ngspyce.sharedspice:Using SPARSE 1.3 as Direct Linear Solver\n"
     ]
    },
    {
     "name": "stdout",
     "output_type": "stream",
     "text": [
      "    @q[gm] =   22.430 mS\n",
      "         b =   0.7000 V\n",
      "         c =   4.1974 V\n",
      " vb#branch =   -5.670 uA\n",
      " vc#branch = -580.256 uA\n",
      "       vcc =  10.0000 V\n"
     ]
    },
    {
     "data": {
      "text/plain": [
       "{'@q[gm]': array([0.02243031]),\n",
       " 'output_impedance_at_V(c)': array([9635.74632036]),\n",
       " 'vb#Input_impedance': array([4561.43024655]),\n",
       " 'Transfer_function': array([-216.1327523])}"
      ]
     },
     "execution_count": 76,
     "metadata": {},
     "output_type": "execute_result"
    }
   ],
   "source": [
    "ng.circ('''\n",
    "  Q  c b 0 NPN\n",
    "  Vc vcc 0  10V\n",
    "  Vb b 0 0.7V\n",
    "  Rc vcc c  10k\n",
    "  .model NPN NPN(IS=1fA BF=100 VAF=150)\n",
    "  .save all @q[gm]\n",
    "''')\n",
    "print_op()\n",
    "ng.cmd('tf v(c) vb')\n",
    "ng.vectors()"
   ]
  },
  {
   "cell_type": "markdown",
   "id": "30be0735-aac7-4e8d-9224-ac7b3bbc5c7d",
   "metadata": {},
   "source": [
    "## Common-Emitter with degeneration"
   ]
  },
  {
   "cell_type": "code",
   "execution_count": null,
   "id": "7077c31d-bcb1-4876-97f6-12f4be63a584",
   "metadata": {},
   "outputs": [],
   "source": []
  },
  {
   "cell_type": "markdown",
   "id": "5703037d-e8ec-4ab7-99ed-258aba0fe690",
   "metadata": {},
   "source": [
    "## Common-Emitter with active load"
   ]
  },
  {
   "cell_type": "code",
   "execution_count": null,
   "id": "4d8eeb65-89f9-42fe-938d-5d4fe570cf4a",
   "metadata": {},
   "outputs": [],
   "source": []
  },
  {
   "cell_type": "markdown",
   "id": "b18ce5cf-5d74-44d7-88cd-1d20556b4bff",
   "metadata": {},
   "source": [
    "## Emitter follower"
   ]
  },
  {
   "cell_type": "code",
   "execution_count": null,
   "id": "1afead01-a7e3-4bfb-9500-5692935e32e1",
   "metadata": {},
   "outputs": [],
   "source": []
  },
  {
   "cell_type": "markdown",
   "id": "f3a36b7b-d704-4f68-80ac-9e078b320d0a",
   "metadata": {},
   "source": [
    "### Active load"
   ]
  },
  {
   "cell_type": "markdown",
   "id": "1cc89efd-f480-485b-8a27-496d60dc9530",
   "metadata": {},
   "source": [
    "## Differential pair"
   ]
  },
  {
   "cell_type": "code",
   "execution_count": null,
   "id": "332cf05a-b84f-4857-974f-b671b1da9337",
   "metadata": {},
   "outputs": [],
   "source": []
  },
  {
   "cell_type": "markdown",
   "id": "4a3637ae-1a5d-457c-b7db-b385769862ea",
   "metadata": {},
   "source": [
    "### Active load"
   ]
  }
 ],
 "metadata": {
  "kernelspec": {
   "display_name": "Python 3 (ipykernel)",
   "language": "python",
   "name": "python3"
  },
  "language_info": {
   "codemirror_mode": {
    "name": "ipython",
    "version": 3
   },
   "file_extension": ".py",
   "mimetype": "text/x-python",
   "name": "python",
   "nbconvert_exporter": "python",
   "pygments_lexer": "ipython3",
   "version": "3.11.8"
  }
 },
 "nbformat": 4,
 "nbformat_minor": 5
}
